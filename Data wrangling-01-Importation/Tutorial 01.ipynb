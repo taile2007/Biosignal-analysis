{
 "cells": [
  {
   "cell_type": "markdown",
   "metadata": {},
   "source": [
    "# Module 1: Thao tác dữ liệu tín hiệu sinh học\n",
    "\n",
    "## Bài 1: Khai thác dữ liệu thô từ thiết bị y khoa\n",
    "\n",
    "### BS. Lê Ngọc Khả Nhi\n",
    "\n",
    "# Khởi hành\n",
    "\n",
    "Thân chào các bạn đồng nghiệp, đây là bài thực hành đầu tiên của Module 1 về Thao tác trên dữ liệu tín hiệu sinh học (Biosignal data wrangling). Mục tiêu của module này nhằm chuẩn bị cho các bạn những kỹ năng cơ bản khi làm việc với dữ liệu chuỗi.\n",
    "\n",
    "Trong các nghiên cứu lâm sàng thông thường, đối tượng của bạn là bệnh nhân, dữ liệu có cấu trúc bảng với mỗi hàng tương ứng với đơn vị quan sát là bệnh nhân, mỗi cột là một biến số, việc nhập liệu thủ công và tải dữ liệu vào máy tính là rất dễ dàng. Trái lại, nghiên cứu tín hiệu sinh học đặt ra một hoàn cảnh hoàn toàn khác, và yêu cầu một công đoạn chuẩn bị dữ liệu phức tạp hơn. \n",
    "\n",
    "Đầu tiên, đối tượng của nghiên cứu sẽ gồm 2 cấp độ: cá thể bệnh nhân không còn là đơn vị quan sát, mà chỉ có ý nghĩa như một hộp hay gói dữ liệu (container, pack), chứa bên trong một hay nhiều tập dữ liệu chuỗi tương ứng với những kênh tín hiệu. Những chuỗi dữ liệu này mới là đối tượng chính của phân tích. \n",
    "\n",
    "Thứ hai, bạn sẽ không nhập liệu thủ công cho biosignal, nhưng cần hoán chuyển dữ liệu thô xuất ra từ thiết bị (medical device) và cảm biến (sensor) thành array hay dataframe để tiến hành phân tích. Các dữ liệu thô có thể tồn tại dưới nhiều định dạng, cấu trúc khác nhau, thí dụ ASCII (txt), csv, Excel, JSON, DAT, EDF (European Data Format)...; tùy theo cơ sở (viện nghiên cứu, phòng thí nghiệm, bệnh viện, công ty) và nền tảng lưu trữ. Do đó mỗi dự án nghiên cứu và cơ sở lại đặt ra một quy trình xuất,nhập và khai thác dữ liệu riêng, không thể tiếp cận bằng một mô hình tổng quát.\n",
    "\n",
    "Những bộ dữ liệu public về biosignal trong sách vở phần lớn là thành phẩm của công đoạn data engineering, ta sẽ không học được nhiều về kỹ thuật khi làm việc với chúng. Bài thực hành này đặt các bạn vào một điểm xuất phát xa hơn, cũng là hoàn cảnh phổ biến mà bác sĩ lâm sàng có thể gặp tại bệnh viện: Bạn phải tự mình khai thác dữ liệu thô xuất ra từ phần mềm của một thiết bị xét nghiệm thương mại.\n",
    "\n",
    "\n",
    "# Thí dụ minh họa\n",
    "\n",
    "Thí dụ minh họa trong bài, ta sẽ khai thác dữ liệu thô định dạng ASCII xuất từ phần mềm DOMINO của hãng Somnomedics, trong xét nghiệm đa ký giấc ngủ (polysomnography, PSG).\n",
    "\n",
    "https://somnomedics.de/en/solutions/sleep_diagnostics/diagnostic_software/domino/\n",
    "\n",
    "PSG được chỉ định cho những bệnh nhân có biểu hiện rối loạn hô hấp trong khi ngủ, nhằm mục tiêu khảo sát chức năng giấc ngủ và chẩn đoán hội chứng ngưng thở khi ngủ do tắc nghẽn (OSAs).\n",
    "\n",
    "Đây có lẽ là xét nghiệm phức tạp và thú vị nhất trong các kỹ thuật thăm dò chức năng, nó ứng dụng gần như tất cả những loại tín hiệu sinh học, kết hợp lên đến 20-30 kênh tín hiệu khác nhau, ghi nhận bằng nhiều loại cảm biến khác nhau, bao gồm: điện não (EEG), điện cơ mắt (EOG), điện cơ mặt, chi dưới, cơ hoành, (EMG), điện tim (ECG), cử động hô hấp (cảm biến áp lực ngực, bụng - RIP), lưu lượng hô hấp (nasal thermistor, flow pressure), tư thế nằm, cử động hàm dưới(cảm biến gia tốc), nhịp tim, huyết áp, độ bão hòa oxy (SpO2), tiếng ngáy (âm thanh thu qua microphone). Tín hiệu được ghi từ lúc bệnh nhân bắt đầu ngủ cho đến khi thức giấc, kéo dài 4-8h. \n",
    "\n",
    "Dữ liệu thô từ xét nghiệm sau đó sẽ được phân tích thủ công bởi kỹ thuật viên, với mục tiêu mô tả cấu trúc của giấc ngủ (trạng thái tỉnh thức, 4 trạng thái N1,N2,N3 và REM), phát hiện các biến cố hô hấp (ngưng/giảm thở do tắc nghẽn/trung ương/hỗn hợp, RERA). Đồng thời các thông số về tim mạch, huyết áp, SpO2 được máy tính phân tích tự động. Dựa vào chuỗi kết quả thủ công, máy tính sẽ ước lượng các chỉ số lâm sàng định lượng, cho phép chẩn đoán các thể bệnh lý khác nhau, thí dụ hội chứng ngưng thở khi ngủ do tắc nghẽn (OSAS) hoặc rối loạn về giấc ngủ khác.\n",
    "\n",
    "## Gói dữ liệu\n",
    "\n",
    "Gói dữ liệu thô được chuẩn bị cho 1 bệnh nhân, có thể tải về từ link sau:\n",
    "https://drive.google.com/file/d/1Md59XrQizIKCJ5G8_mwxbLNaBRN5nMm4/view?usp=sharing\n",
    "\n",
    "Sau khi tải về và giải nén, bạn sẽ có 1 thư mục Packs, bên trong chứa 1 gói dữ liệu có tên là Respiratory signal Example gồm 24 tập tin dữ liệu thô, 5 tập tin chuỗi label và 1 tập tin Profile chứa thông tin nhân trắc học của bệnh nhân. Tổng kích thước là 560 Mb\n",
    "\n",
    "## Python package\n",
    "\n",
    "Trên thực tế, công đoạn khai thác dữ liệu thường được tự động hóa, chuyên biệt, có kế hoạch và hợp lý, đảm bảo tương thích với những công đoạn tiếp theo trong dự án nghiên cứu. Điều này đòi hỏi việc thiết kế các module và package để thực hiện quy trình tải dữ liệu và tái cấu trúc chúng. \n",
    "\n",
    "Cho toàn bộ module 1 này, Nhi và các giảng viên khác sẽ không viết code rời rạc trong notebook, nhưng phải chuẩn bị trước tất cả function và class cần thiết trong một package 'module1'; Mỗi notebook thực hành chỉ có tính chất trình diễn. Để xem nội dung source code và thực hành lại, các bạn cần truy nhập vào github của dự án.\n",
    "\n",
    "Bài thực hành cần dùng package module1, có thể install từ github của dự án:\n",
    "\n",
    "https://github.com/taile2007/Biosignal-analysis/tree/master/Data%20wrangling-01-Importation\n",
    "\n",
    "Các bạn đặt module1 trong cùng thư mục hiện hành là có thể dùng được.\n",
    "\n",
    "# Thông tin về phiên thực hành"
   ]
  },
  {
   "cell_type": "code",
   "execution_count": 1,
   "metadata": {},
   "outputs": [],
   "source": [
    "import os\n",
    "import sys\n",
    "import re\n",
    "import numpy as np\n",
    "import pandas as pd\n",
    "from module1.raw_data_parser import *"
   ]
  },
  {
   "cell_type": "code",
   "execution_count": 2,
   "metadata": {},
   "outputs": [
    {
     "name": "stdout",
     "output_type": "stream",
     "text": [
      "-----\n",
      "module1     0.1\n",
      "numpy       1.19.4\n",
      "pandas      1.1.5\n",
      "pytz        2020.1\n",
      "sinfo       0.3.1\n",
      "tqdm        4.47.0\n",
      "-----\n",
      "IPython             7.16.1\n",
      "jupyter_client      6.1.6\n",
      "jupyter_core        4.6.3\n",
      "jupyterlab          2.1.5\n",
      "notebook            6.0.3\n",
      "-----\n",
      "Python 3.8.3 (default, Jul  2 2020, 17:30:36) [MSC v.1916 64 bit (AMD64)]\n",
      "Windows-10-10.0.18362-SP0\n",
      "16 logical CPU cores, Intel64 Family 6 Model 165 Stepping 2, GenuineIntel\n",
      "-----\n",
      "Session information updated at 2020-12-23 05:50\n"
     ]
    }
   ],
   "source": [
    "from sinfo import sinfo\n",
    "sinfo()"
   ]
  },
  {
   "cell_type": "markdown",
   "metadata": {},
   "source": [
    "# Mục tiêu\n",
    "\n",
    "Mục tiêu của bài đầu tiên này chỉ có tính chất trình diễn, minh họa trực quan; nhằm giới thiệu một cách tổng quát về một số vấn đề và khái niệm mà các bạn sẽ phải đối diện khi làm việc với dữ liệu chuỗi.\n",
    "\n",
    "Bài thực hành chưa đặt ra mục tiêu về kỹ năng lập trình, hiện thời các bạn chưa cần quan tâm đến nội dung code các methods, function được sử dụng, mà chỉ cần hiểu ý nghĩa các khái niệm, vấn đề (Bạn có thể đọc source code trong module1, yêu cầu kiến thức lập trình Python trung bình trở lên). Nhi sẽ bàn về những chi tiết kỹ thuật trong các bài tiếp theo.\n",
    "\n",
    "\n",
    "# Khảo sát cấu trúc gói dữ liệu\n",
    "\n",
    "## Lợi ích của bảng tóm tắt cấu trúc gói dữ liệu\n",
    "\n",
    "\n",
    "Trước khi khai thác gói dữ liệu, bạn cần xây dựng một bảng tóm tắt các thông tin về dữ liệu. Bảng này có nhiều lợi ích như\n",
    "\n",
    "1) Mang lại một cái nhìn toàn cảnh, nắm được thông tin tổng quát về cấu trúc của data folder và các files bên trong, biết số lượng bệnh nhân, bao nhiêu data files, có bị thiếu sót gì không ? \n",
    "\n",
    "2) Ước lượng được kích thước file, số file, để tối ưu hóa không gian lưu trữ/bộ nhớ cho việc tải dữ liệu, có kế hoạch sử dụng multithread/multiprocessing khi viết code. Thí dụ minh họa này chỉ có 1 data pack, tương ứng với gói dữ liệu của 1 bệnh nhân, nhưng trên thực tế database có thể lớn hơn rất nhiều với hàng chục hay hàng trăm bệnh nhân.\n",
    "\n",
    "3) Có thể được sử dụng như một bản đồ để truy nhập vào bất cứ file dữ liệu nào.\n",
    "\n",
    "Phần lớn các method data wrangling sẽ dễ dàng hơn nếu ta sử dụng pandas, do đó Nhi thiết kế methods dựa trên các nền tảng là pandas DataFrames và pandas Series. Bảng thông tin tóm tắt cũng có hình thức 1 dataframe. \n",
    "\n",
    "Đầu tiên, ta định vị thư mục Packs bằng đường dẫn: "
   ]
  },
  {
   "cell_type": "code",
   "execution_count": 3,
   "metadata": {},
   "outputs": [],
   "source": [
    "PACK_FOLDER = 'D:\\Project\\Packs'"
   ]
  },
  {
   "cell_type": "markdown",
   "metadata": {},
   "source": [
    "Nhi khởi tạo 1 instance pack của Class Paths_Info_Summary với path PACK_FOLDER"
   ]
  },
  {
   "cell_type": "code",
   "execution_count": 4,
   "metadata": {},
   "outputs": [],
   "source": [
    "pack = Paths_Info_Summary(PACK_FOLDER)"
   ]
  },
  {
   "cell_type": "markdown",
   "metadata": {},
   "source": [
    "1 attribute của class này là path đến data founder:"
   ]
  },
  {
   "cell_type": "code",
   "execution_count": 5,
   "metadata": {},
   "outputs": [
    {
     "data": {
      "text/plain": [
       "'D:\\\\Project\\\\Packs'"
      ]
     },
     "execution_count": 5,
     "metadata": {},
     "output_type": "execute_result"
    }
   ],
   "source": [
    "pack.data_folder"
   ]
  },
  {
   "cell_type": "markdown",
   "metadata": {},
   "source": [
    "static method print_directory_tree cho phép vẽ cây thư mục để xem cấu trúc của folder Packs"
   ]
  },
  {
   "cell_type": "code",
   "execution_count": 6,
   "metadata": {},
   "outputs": [
    {
     "name": "stdout",
     "output_type": "stream",
     "text": [
      "|__Packs/\n",
      "   |__Respiratory signal Example/\n",
      "        |__Profile.txt\n",
      "      |__Raw data/\n",
      "            |__Abd RIP.txt\n",
      "            |__Avg AP.txt\n",
      "            |__Dia AP.txt\n",
      "            |__ECG.txt\n",
      "            |__EMG1.txt\n",
      "            |__EMG2.txt\n",
      "            |__EMG3.txt\n",
      "            |__EMG4.txt\n",
      "            |__EMG5.txt\n",
      "            |__EMG6.txt\n",
      "            |__Flow Pressure.txt\n",
      "            |__Flow Th.txt\n",
      "            |__HMM.txt\n",
      "            |__Microphone.txt\n",
      "            |__OESP.txt\n",
      "            |__Pleth Flowrate.txt\n",
      "            |__PLMl.txt\n",
      "            |__PLMr.txt\n",
      "            |__Pulse.txt\n",
      "            |__Snoring P.txt\n",
      "            |__SpO2.txt\n",
      "            |__Sys AP.txt\n",
      "            |__Tx RIP.txt\n",
      "            |__VMM.txt\n",
      "      |__Scoring sequences/\n",
      "            |__Desaturations.txt\n",
      "            |__Hypnogramme.txt\n",
      "            |__Micro Arousals.txt\n",
      "            |__Respiratory events.txt\n",
      "            |__SpO2.txt\n"
     ]
    }
   ],
   "source": [
    "pack.print_directory_tree(pack.data_folder)"
   ]
  },
  {
   "cell_type": "markdown",
   "metadata": {},
   "source": [
    "Method chính trong class này có công dụng tạo ra 1 dataframe tóm tắt thông tin về các file bên trong gói dữ liệu, Nhi gán dataframe này cho 1 object tên là  pinfo"
   ]
  },
  {
   "cell_type": "code",
   "execution_count": 7,
   "metadata": {},
   "outputs": [
    {
     "data": {
      "text/html": [
       "<div>\n",
       "<style scoped>\n",
       "    .dataframe tbody tr th:only-of-type {\n",
       "        vertical-align: middle;\n",
       "    }\n",
       "\n",
       "    .dataframe tbody tr th {\n",
       "        vertical-align: top;\n",
       "    }\n",
       "\n",
       "    .dataframe thead th {\n",
       "        text-align: right;\n",
       "    }\n",
       "</style>\n",
       "<table border=\"1\" class=\"dataframe\">\n",
       "  <thead>\n",
       "    <tr style=\"text-align: right;\">\n",
       "      <th></th>\n",
       "      <th>full_paths</th>\n",
       "      <th>pack</th>\n",
       "      <th>filename</th>\n",
       "      <th>signal_type</th>\n",
       "      <th>Size (Mb)</th>\n",
       "    </tr>\n",
       "  </thead>\n",
       "  <tbody>\n",
       "    <tr>\n",
       "      <th>0</th>\n",
       "      <td>D:\\Project\\Packs\\Respiratory signal Example\\Ra...</td>\n",
       "      <td>Respiratory signal Example</td>\n",
       "      <td>Abd RIP.txt</td>\n",
       "      <td>abd rip</td>\n",
       "      <td>3.304411</td>\n",
       "    </tr>\n",
       "    <tr>\n",
       "      <th>1</th>\n",
       "      <td>D:\\Project\\Packs\\Respiratory signal Example\\Ra...</td>\n",
       "      <td>Respiratory signal Example</td>\n",
       "      <td>Avg AP.txt</td>\n",
       "      <td>avg ap</td>\n",
       "      <td>4.410931</td>\n",
       "    </tr>\n",
       "    <tr>\n",
       "      <th>2</th>\n",
       "      <td>D:\\Project\\Packs\\Respiratory signal Example\\Ra...</td>\n",
       "      <td>Respiratory signal Example</td>\n",
       "      <td>Dia AP.txt</td>\n",
       "      <td>dia ap</td>\n",
       "      <td>4.401841</td>\n",
       "    </tr>\n",
       "    <tr>\n",
       "      <th>3</th>\n",
       "      <td>D:\\Project\\Packs\\Respiratory signal Example\\Ra...</td>\n",
       "      <td>Respiratory signal Example</td>\n",
       "      <td>ECG.txt</td>\n",
       "      <td>ecg</td>\n",
       "      <td>67.016486</td>\n",
       "    </tr>\n",
       "    <tr>\n",
       "      <th>4</th>\n",
       "      <td>D:\\Project\\Packs\\Respiratory signal Example\\Ra...</td>\n",
       "      <td>Respiratory signal Example</td>\n",
       "      <td>EMG1.txt</td>\n",
       "      <td>emg1</td>\n",
       "      <td>48.448591</td>\n",
       "    </tr>\n",
       "  </tbody>\n",
       "</table>\n",
       "</div>"
      ],
      "text/plain": [
       "                                          full_paths  \\\n",
       "0  D:\\Project\\Packs\\Respiratory signal Example\\Ra...   \n",
       "1  D:\\Project\\Packs\\Respiratory signal Example\\Ra...   \n",
       "2  D:\\Project\\Packs\\Respiratory signal Example\\Ra...   \n",
       "3  D:\\Project\\Packs\\Respiratory signal Example\\Ra...   \n",
       "4  D:\\Project\\Packs\\Respiratory signal Example\\Ra...   \n",
       "\n",
       "                         pack     filename signal_type  Size (Mb)  \n",
       "0  Respiratory signal Example  Abd RIP.txt     abd rip   3.304411  \n",
       "1  Respiratory signal Example   Avg AP.txt      avg ap   4.410931  \n",
       "2  Respiratory signal Example   Dia AP.txt      dia ap   4.401841  \n",
       "3  Respiratory signal Example      ECG.txt         ecg  67.016486  \n",
       "4  Respiratory signal Example     EMG1.txt        emg1  48.448591  "
      ]
     },
     "execution_count": 7,
     "metadata": {},
     "output_type": "execute_result"
    }
   ],
   "source": [
    "pinfo = pack.create_signal_summary()\n",
    "\n",
    "pinfo.head()"
   ]
  },
  {
   "cell_type": "markdown",
   "metadata": {},
   "source": [
    "Dataframe này, ngoài chức năng mô tả thông tin cấu trúc, còn có vai trò như 1 bản đồ để khai thác dữ liệu.\n",
    "\n",
    "Cột full_paths chứa đường dẫn đến từng file, có thể dùng như 1 địa chỉ cho phép ta truy nhập vào mỗi file dữ liệu.\n",
    "\n",
    "Cột pack cho biết tên của pack dữ liệu. Khi có nhiều bệnh nhân, ta sẽ có nhiều pack, nên cột này cho phép ta lọc 1 hay nhiều bệnh nhân cần khai thác dữ liệu.\n",
    "\n",
    "Cột filename cho biết tên file, tương ứng 24 kênh tín hiệu thô, và 5 chuỗi label scoring (kết quả đa ký giấc ngủ).\n",
    "\n",
    "Cột signal_type có chức năng như 1 danh sách những tên viết tắt của kênh tín hiệu; bao gồm EEG, ECG, EOG, EMG chi và cơ hô hấp, các tín hiệu surrogate cử động hô hấp, Pulse oximetry (SpO2), Pulse, huyết áp, mạch, tiếng ngáy thu qua microphone, áp lực thực quản. vv\n",
    "\n",
    "Có 30 loại dữ liệu khác nhau trong pack này:"
   ]
  },
  {
   "cell_type": "code",
   "execution_count": 11,
   "metadata": {},
   "outputs": [
    {
     "data": {
      "text/plain": [
       "30"
      ]
     },
     "execution_count": 11,
     "metadata": {},
     "output_type": "execute_result"
    }
   ],
   "source": [
    "len(pinfo.signal_type.unique())"
   ]
  },
  {
   "cell_type": "code",
   "execution_count": 8,
   "metadata": {},
   "outputs": [
    {
     "name": "stdout",
     "output_type": "stream",
     "text": [
      "['abd rip' 'avg ap' 'dia ap' 'ecg' 'emg1' 'emg2' 'emg3' 'emg4' 'emg5'\n",
      " 'emg6' 'flow pressure' 'flow th' 'hmm' 'microphone' 'oesp'\n",
      " 'pleth flowrate' 'plml' 'plmr' 'pulse' 'snoring p' 'spo2' 'sys ap'\n",
      " 'tx rip' 'vmm' 'evt_spo2' 'hypno' 'ma' 'respi_evt' 'raw_spo2' 'profile']\n"
     ]
    }
   ],
   "source": [
    "print(pinfo.signal_type.values)"
   ]
  },
  {
   "cell_type": "markdown",
   "metadata": {},
   "source": [
    "Cột Size cho biết kích thước mỗi file, tính bằng Mb; như ta thấy, các file tín hiệu thô (txt) có kích thước khá lớn, trung bình là 19.6 Mb, và có thể lên đến 67 Mb (vì ta ghi tín hiệu trong suốt đêm, độ dài từ 6-7h ở tần số 32 Hz hoặc 256 Hz). Thử tưởng tượng 1 nghiên cứu khoảng 100 bệnh nhân, chỉ 1 kênh tín hiệu cũng có thể sinh ra tổng kích thước lên đến vài chục Gb. Đây là một thí dụ điển hình của Big data."
   ]
  },
  {
   "cell_type": "code",
   "execution_count": 10,
   "metadata": {},
   "outputs": [
    {
     "data": {
      "text/plain": [
       "count    30.000000\n",
       "mean     19.659278\n",
       "std      21.366643\n",
       "min       0.000046\n",
       "25%       3.433248\n",
       "50%       6.575642\n",
       "75%      46.410888\n",
       "max      67.016486\n",
       "Name: Size (Mb), dtype: float64"
      ]
     },
     "execution_count": 10,
     "metadata": {},
     "output_type": "execute_result"
    }
   ],
   "source": [
    "pinfo[\"Size (Mb)\"].describe()"
   ]
  },
  {
   "cell_type": "markdown",
   "metadata": {},
   "source": [
    "#  DataImporter class\n",
    "\n",
    "Tiếp theo, Nhi dùng Class DataImporter để tạo ra 1 object data parser. Trong object này có những method cho phép tải các loại tín hiệu khác nhau, hoán chuyển và tái chọn mẫu...\n",
    "\n",
    "Ý nghĩa công việc này chính là tải dữ liệu thô vào Python và chuyển sang định dạng pandas Series hay DataFrame. \n",
    "\n",
    "Tại sao không là numpy array ? Vì ta không chỉ quan tâm đến bản thân nội dung chuỗi dữ liệu, nhưng còn cần thông tin về thời điểm và thước đo thời gian chính xác; hệ thống datetime index của pandas thỏa mãn yêu cầu này.\n",
    "\n",
    "Tại sao dùng OOP (Class) ? Vì OOP cho phép hình dung về mỗi instance như một thực thể riêng biệt nhưng cùng thuộc về nhân tố Bệnh nhân trong thí nghiệm khoa học, và trên mỗi pack data sẽ quy định 1 số method chuyên biệt cho từng công đoạn, hiện thời là công đoạn tải dữ liệu. Ta có thể lưu các dữ liệu này như attribute của class datapack/bệnh nhân; để cuối cùng có thể sao lưu toàn bộ gói dữ liệu/hồ sơ bệnh nhân bằng pickle.\n",
    "\n",
    "Thí dụ, ta tạo ra 1 instance case từ class DataImporter, đại diện cho bệnh nhân Respiratory signal Example"
   ]
  },
  {
   "cell_type": "code",
   "execution_count": 17,
   "metadata": {},
   "outputs": [
    {
     "data": {
      "text/plain": [
       "Đây là data paser cho pack dữ liệu Respiratory signal Example"
      ]
     },
     "execution_count": 17,
     "metadata": {},
     "output_type": "execute_result"
    }
   ],
   "source": [
    "case = DataImporter(signal_summary = pinfo, \n",
    "                    data_path = PACK_FOLDER,\n",
    "                    pack_folder= 'Respiratory signal Example')\n",
    "\n",
    "case"
   ]
  },
  {
   "cell_type": "markdown",
   "metadata": {},
   "source": [
    "Method Import_pack_profile sẽ trích xuất thông tin nhân trắc của bệnh nhân, và lưu thành 1 dictionary:"
   ]
  },
  {
   "cell_type": "code",
   "execution_count": 49,
   "metadata": {},
   "outputs": [
    {
     "name": "stdout",
     "output_type": "stream",
     "text": [
      "Help on method Import_pack_profile in module module1.raw_data_parser:\n",
      "\n",
      "Import_pack_profile() method of module1.raw_data_parser.DataImporter instance\n",
      "    Hàm truy xuất thông tin bệnh nhân:\n",
      "    Đọc file Profile.txt và tạo ra 1 dict gồm Giới tính, chiều cao, \n",
      "    cân nặng, BMI cho bệnh nhân.\n",
      "\n"
     ]
    }
   ],
   "source": [
    "help(case.Import_pack_profile)"
   ]
  },
  {
   "cell_type": "code",
   "execution_count": 48,
   "metadata": {},
   "outputs": [
    {
     "data": {
      "text/plain": [
       "{'Giới tính': 'F', 'Tuổi': 36.32, 'Chiều cao': 176.0, 'Cân nặng': 84.0}"
      ]
     },
     "execution_count": 48,
     "metadata": {},
     "output_type": "execute_result"
    }
   ],
   "source": [
    "patient_info = case.Import_pack_profile()\n",
    "\n",
    "patient_info"
   ]
  },
  {
   "cell_type": "markdown",
   "metadata": {},
   "source": [
    "# Nhập môn dữ liệu chuỗi\n",
    "\n",
    "Trong bài này, Nhi sẽ giới thiệu về 3 loại dữ liệu thường gặp trong bài toán phân tích dữ liệu chuỗi:\n",
    "\n",
    "## Loại 1: Dữ liệu chuỗi định lượng, liên tục\n",
    "\n",
    "Gồm tất cả file chứa trong thư mục Raw data, mỗi file là 1 kênh tín hiệu. Loại dữ liệu này là một chuỗi các con số (float hay interger), tương ứng với giá trị của tín hiệu lấy mẫu tại các thời điểm tiếp nối nhau với 1 chu kì (tần số) lấy mẫu hằng định trong suốt thời gian thí nghiệm, từ lúc bắt đầu đến khi kết thúc.\n",
    "\n",
    "Nếu bạn mở 1 file ASCII txt raw data, sẽ thấy nội dung như sau:"
   ]
  },
  {
   "cell_type": "code",
   "execution_count": null,
   "metadata": {},
   "outputs": [],
   "source": [
    "'''\n",
    "Signal Type: ADC\n",
    "Start Time: 30/09/2017 22:52:18\n",
    "Sample Rate: 32\n",
    "Length: 858432\n",
    "Unit: mmHg\n",
    "Data:\n",
    "\n",
    "-99,3\n",
    "-100,1\n",
    "-98,5\n",
    "-99,4\n",
    "...\n",
    "-99,8\n",
    "-99,0\n",
    "-99,9\n",
    "-98,5\n",
    "'''"
   ]
  },
  {
   "cell_type": "markdown",
   "metadata": {},
   "source": [
    "Như vậy, 1 file raw data có 2 phần, header và Data; \n",
    "\n",
    "phần header chứa các thông tin kỹ thuật quan trọng, gồm: thời điểm bắt đầu xét nghiệm, tần số lấy mẫu, độ dài của data, và đơn vị đo. \n",
    "\n",
    "Phần Data chứa chuỗi dữ liệu số ta cần khai thác, nó được định vị từ sau string Data:, tiếp theo mỗi hàng là 1 giá trị tại 1 thời điểm, tập hợp thành 1 chuỗi các con số.\n",
    "\n",
    "Method import_raw_data cho phép tải dữ liệu loại này: các bạn có thể dùng function help để xem hướng dẫn sử dụng method này:"
   ]
  },
  {
   "cell_type": "code",
   "execution_count": 16,
   "metadata": {},
   "outputs": [
    {
     "name": "stdout",
     "output_type": "stream",
     "text": [
      "Help on method import_raw_data in module module1.raw_data_parser:\n",
      "\n",
      "import_raw_data(signal_type: str, n_lines=None, samp_freq=None) method of module1.raw_data_parser.DataImporter instance\n",
      "    Hàm cho phép tải bất kì dữ liệu nào thuộc loại 1 (raw data), \n",
      "    áp dụng tổng quát cho tất cả raw data\n",
      "    \n",
      "    :signal_type: tên viết tắt của loại dữ liệu, chú ý: luôn là chữ thường\n",
      "    :n_lines: số nguyên, giới hạn số hàng cần tải, thấp nhất là 5;\n",
      "    \n",
      "    Ghi chú: \n",
      "    1) Nếu n_lines = None, hàm sẽ xuất ra 3 kết quả:\n",
      "    :return 1: df_data, tín hiệu gốc, \n",
      "               pd.Series liên tục, có datetime index\n",
      "    :return 2: df_resampled, tín hiệu tái chọn mẫu; \n",
      "               pd.Series liên tục, có datetime index\n",
      "    :return 3: fs, giá trị tần số lấy mẫu gốc, int\n",
      "    \n",
      "    2) Nếu n_lines = 5, hàm chỉ xuất ra 2 kết quả:\n",
      "    :return 1: pd.Series gồm 2 hàng: thới điểm bắt đầu và kết thúc xét nghiệm\n",
      "    :return 2: fs: giá trị tần số lấy mẫu gốc, int\n",
      "    \n",
      "    3) Nếu không tìm thấy đường dẫn của loại tín hiệu:\n",
      "    Xuất ra 3 kết quả tương tự (1), nhưng tất cả đều rỗng (None)\n",
      "\n"
     ]
    }
   ],
   "source": [
    "help(case.import_raw_data)"
   ]
  },
  {
   "cell_type": "markdown",
   "metadata": {},
   "source": [
    "Trước hết, ta tra bảng (dataframe pinfo) để chọn tên của loại tín hiệu cần tải, nếu dùng không đúng tên, hàm sẽ thông báo không tìm thấy file."
   ]
  },
  {
   "cell_type": "code",
   "execution_count": 18,
   "metadata": {},
   "outputs": [
    {
     "name": "stdout",
     "output_type": "stream",
     "text": [
      "Không tìm thấy data cho tín hiệu  some strange type ở bệnh nhân này !\n"
     ]
    }
   ],
   "source": [
    "sample_df, resampled_df, fs = case.import_raw_data(signal_type='some strange type', \n",
    "                                                   samp_freq=None)"
   ]
  },
  {
   "cell_type": "markdown",
   "metadata": {},
   "source": [
    "Nếu chỉ tải dữ liệu gốc, không tái chọn mẫu, ta đặt argument samp_freq=None.\n",
    "    \n",
    "Thí dụ, tải tín hiệu lưu lượng thông khí ở mũi ghi bằng cảm biến nhiệt lượng (nasal flow thermistor)"
   ]
  },
  {
   "cell_type": "code",
   "execution_count": 19,
   "metadata": {},
   "outputs": [],
   "source": [
    "sample_df, resampled_df, fs = case.import_raw_data(signal_type='flow th', \n",
    "                                                   samp_freq=None)"
   ]
  },
  {
   "cell_type": "markdown",
   "metadata": {},
   "source": [
    "fs chứa giá trị tần số lấy mẫu = 32 Hz"
   ]
  },
  {
   "cell_type": "code",
   "execution_count": 21,
   "metadata": {},
   "outputs": [
    {
     "data": {
      "text/plain": [
       "32"
      ]
     },
     "execution_count": 21,
     "metadata": {},
     "output_type": "execute_result"
    }
   ],
   "source": [
    "fs"
   ]
  },
  {
   "cell_type": "markdown",
   "metadata": {},
   "source": [
    "Chuỗi dữ liệu được ghi vào object sample_df, có dạng 1 pd.Series:"
   ]
  },
  {
   "cell_type": "code",
   "execution_count": 20,
   "metadata": {},
   "outputs": [
    {
     "data": {
      "text/plain": [
       "2017-09-30 22:52:18+02:00           133.0\n",
       "2017-09-30 22:52:18.031250+02:00    114.0\n",
       "2017-09-30 22:52:18.062500+02:00     96.0\n",
       "2017-09-30 22:52:18.093750+02:00     71.0\n",
       "2017-09-30 22:52:18.125000+02:00     48.0\n",
       "                                    ...  \n",
       "2017-10-01 06:19:23.843750+02:00    -79.0\n",
       "2017-10-01 06:19:23.875000+02:00    -97.0\n",
       "2017-10-01 06:19:23.906250+02:00   -113.0\n",
       "2017-10-01 06:19:23.937500+02:00   -127.0\n",
       "2017-10-01 06:19:23.968750+02:00   -137.0\n",
       "Name: flow th, Length: 858432, dtype: float64"
      ]
     },
     "execution_count": 20,
     "metadata": {},
     "output_type": "execute_result"
    }
   ],
   "source": [
    "sample_df"
   ]
  },
  {
   "cell_type": "markdown",
   "metadata": {},
   "source": [
    "Đây là 1 dữ liệu chuỗi điển hình mà các bạn sẽ gặp khi phân tích tín hiệu. \n",
    "\n",
    "Nội dung dữ liệu gồm có 2 phần: \n",
    "\n",
    "Phần chính - array 1D chứa chuỗi giá trị amplitude của tín hiệu; \n",
    "\n",
    "phần thứ 2 là timestamps hay time index, có chức năng như một thước đo thời gian, biểu thị thời điểm chính xác: ngày, tháng, năm, giờ, phút, giây và mili giây (thí dụ: 2017-09-30 22:52:18.031250), cùng hiệu chỉnh múi giờ Châu Âu Paris (+02:00), ở từng lượt lấy mẫu. \n",
    "\n",
    "Như bạn thấy, trong file dữ liệu gốc không có time index này, tuy nhiên, nó lại cung cấp 2 chìa khóa quan trọng cho phép xây dựng timestamp, đó là thời điểm bắt đầu ghi tín hiệu, và tần số lấy mẫu (chìa khóa thứ 3 là độ dài chuỗi).\n",
    "\n",
    "Mặc dù bản thân chuỗi giá trị là đối tượng cần phân tích, time index cực kì quan trọng khi bạn muốn đồng bộ hóa giữa chuỗi dữ liệu và chuỗi biến cố, hoặc tái chọn mẫu.\n",
    "\n",
    "Khi áp dụng datetime index và timezone đúng, dữ liệu pandas.Series sẽ đo thời gian chính xác và tương đương như đồng hồ trong vi xử lý của thiết bị xét nghiệm, giờ địa phương ở địa điểm xét nghiệm, máy tính đã dùng để xuất dữ liệu, và máy tính của bất cứ đồng nghiệp nào khác chạy code của bạn.\n",
    "\n",
    "Ta lưu ý đến giá trị Length: 858432, nó cho biết kích thước chuỗi dữ liệu, hay thời gian lấy mẫu. Từ tần số lấy mẫu và kích thước, ta có thể tính ra thời gian ngủ của bệnh nhân là 447,1 phút:"
   ]
  },
  {
   "cell_type": "code",
   "execution_count": 15,
   "metadata": {},
   "outputs": [
    {
     "data": {
      "text/plain": [
       "447.1"
      ]
     },
     "execution_count": 15,
     "metadata": {},
     "output_type": "execute_result"
    }
   ],
   "source": [
    "858432*(1/32)/60"
   ]
  },
  {
   "cell_type": "markdown",
   "metadata": {},
   "source": [
    "Tất cả tín hiệu digital thực chất được lấy mẫu rời rạc, nhưng hệ thống datetime index trong pandas cho phép ta xử lý chúng như chuỗi liên tục, thí dụ ta có thể tái chọn mẫu ở 1 tần số khác, trích xuất 1 đoạn tín hiệu có độ dài tính bằng đơn vị thời gian bất kì, đồng bộ 2 chuỗi chính xác đến 1 phần triệu giây. \n",
    "\n",
    "Thí dụ, ta sẽ thử tái chọn mẫu bằng cách giảm tần số từ 32 Hz xuống còn 16 Hz:"
   ]
  },
  {
   "cell_type": "code",
   "execution_count": 18,
   "metadata": {},
   "outputs": [],
   "source": [
    "sample_df, resampled_df, fs = case.import_raw_data(signal_type='flow th', \n",
    "                                                   samp_freq=16)"
   ]
  },
  {
   "cell_type": "markdown",
   "metadata": {},
   "source": [
    "Lúc này, ngoài dữ liệu gốc trong sample_df, ta có thêm dữ liệu tái chọn mẫu; "
   ]
  },
  {
   "cell_type": "code",
   "execution_count": 19,
   "metadata": {},
   "outputs": [
    {
     "data": {
      "text/plain": [
       "2017-09-30 22:52:18+02:00           133.0\n",
       "2017-09-30 22:52:18.062500+02:00     96.0\n",
       "2017-09-30 22:52:18.125000+02:00     48.0\n",
       "2017-09-30 22:52:18.187500+02:00      2.0\n",
       "2017-09-30 22:52:18.250000+02:00    -43.0\n",
       "                                    ...  \n",
       "2017-10-01 06:19:23.687500+02:00     13.0\n",
       "2017-10-01 06:19:23.750000+02:00    -27.0\n",
       "2017-10-01 06:19:23.812500+02:00    -65.0\n",
       "2017-10-01 06:19:23.875000+02:00    -97.0\n",
       "2017-10-01 06:19:23.937500+02:00   -127.0\n",
       "Freq: 62500U, Name: flow th, Length: 429216, dtype: float64"
      ]
     },
     "execution_count": 19,
     "metadata": {},
     "output_type": "execute_result"
    }
   ],
   "source": [
    "resampled_df"
   ]
  },
  {
   "cell_type": "markdown",
   "metadata": {},
   "source": [
    "Độ dài của chuổi 16 Hz đúng bằng 1 nửa của chuỗi 32 Hz"
   ]
  },
  {
   "cell_type": "code",
   "execution_count": 21,
   "metadata": {},
   "outputs": [
    {
     "data": {
      "text/plain": [
       "2.0"
      ]
     },
     "execution_count": 21,
     "metadata": {},
     "output_type": "execute_result"
    }
   ],
   "source": [
    "sample_df.shape[0] / resampled_df.shape[0]"
   ]
  },
  {
   "cell_type": "markdown",
   "metadata": {},
   "source": [
    "Khi quan sát 2 phút đầu tiên của chuỗi tín hiệu, ta lại thấy rằng thông tin của chuỗi 16 Hz không mất gì so với chuỗi 32 Hz, nhưng kích thước chỉ còn 1 nửa; gợi ý rằng dù tín hiệu gốc được lấy mẫu ở tần số cao, ta có thể phân tích nó ở tần số thấp hơn."
   ]
  },
  {
   "cell_type": "code",
   "execution_count": 45,
   "metadata": {},
   "outputs": [
    {
     "data": {
      "text/plain": [
       "<matplotlib.legend.Legend at 0x1ab17154370>"
      ]
     },
     "execution_count": 45,
     "metadata": {},
     "output_type": "execute_result"
    },
    {
     "data": {
      "image/png": "[encoded data removed]",
      "text/plain": [
       "<Figure size 1440x216 with 1 Axes>"
      ]
     },
     "metadata": {
      "needs_background": "light"
     },
     "output_type": "display_data"
    }
   ],
   "source": [
    "import matplotlib.pyplot as plt\n",
    "\n",
    "plt.figure(figsize=(20,3))\n",
    "plt.plot(resampled_df[0:2000], 'b-', label = '16 Hz')\n",
    "plt.legend()"
   ]
  },
  {
   "cell_type": "code",
   "execution_count": 47,
   "metadata": {},
   "outputs": [
    {
     "data": {
      "text/plain": [
       "<matplotlib.legend.Legend at 0x1ab171fe220>"
      ]
     },
     "execution_count": 47,
     "metadata": {},
     "output_type": "execute_result"
    },
    {
     "data": {
      "image/png": "[encoded data removed]",
      "text/plain": [
       "<Figure size 1440x216 with 1 Axes>"
      ]
     },
     "metadata": {
      "needs_background": "light"
     },
     "output_type": "display_data"
    }
   ],
   "source": [
    "plt.figure(figsize=(20,3))\n",
    "plt.plot(sample_df[0:4000], 'r-', label = '32 Hz')\n",
    "plt.legend()"
   ]
  },
  {
   "cell_type": "markdown",
   "metadata": {},
   "source": [
    "### Loại 2A: Dữ liệu chuỗi định tính liên tục\n",
    "\n",
    "Thí dụ điển hình cho loại dữ liệu này, đó là chuỗi trạng thái giấc ngủ hay hypnogram. Dữ liệu này được tạo ra theo cơ chế như sau: kỹ thuật viên sẽ đọc tín hiệu EEG, EOG, EMG theo từng trang (cửa sổ) có độ dài tiêu chuẩn là 30 giây, và dán 1 trong 5 nhãn : Wake, N1, N2, N3, REM. Như vậy, kết quả tạo ra 1 chuỗi các nhãn với chu kì 30 giây.\n",
    "\n",
    "Chuỗi dữ liệu định tính được dùng như Outcome hay Target trong bài toán Machine learning classification, nó cũng cho phép khảo sát sự chuyển tiếp giữa các biến cố thông qua mô hình Markov ẩn (HMM) và ước tính các thông số lâm sàng khác.\n",
    "\n",
    "Method import_adjacent_window_evt cho phép tải chuỗi dữ liệu loại này:\n",
    "\n",
    "Dù bản chất của chuỗi label là rời rạc, nhưng method này cho phép tái tạo lại datetime index một cách liên tục, và tự động điền khuyết giá trị label vào những thời điểm trung chuyển; hơn nữa, nó còn cho phép tái chọn mẫu với tần số bất kì, nhằm đồng bộ hóa với những chuỗi tính hiệu định lượng liên tục. Khả năng này rất quan trọng khi thực hiện các bài toán machine learning classification trên dữ liệu biosignal.\n",
    "\n",
    "Dữ liệu thô có cấu trúc như sau:"
   ]
  },
  {
   "cell_type": "code",
   "execution_count": null,
   "metadata": {},
   "outputs": [],
   "source": [
    "'''\n",
    "Signal ID: Hypno\n",
    "Start Time: 30-09-17 23:00:00\n",
    "Unit: \n",
    "Signal Type: Discrete\n",
    "Events list: N4,N3,N2,N1,REM,Wake,Mvt\n",
    "Rate: 30 s\n",
    "\n",
    "23:00:00,000; Wake\n",
    "23:00:30,000; Wake\n",
    "23:01:00,000; Wake\n",
    "...\n",
    "23:18:30,000; Wake\n",
    "23:19:00,000; Wake\n",
    "23:19:30,000; Wake\n",
    "23:20:00,000; N1\n",
    "23:20:30,000; N2\n",
    "23:21:00,000; N2\n",
    "...\n",
    "'''"
   ]
  },
  {
   "cell_type": "code",
   "execution_count": 51,
   "metadata": {},
   "outputs": [
    {
     "name": "stdout",
     "output_type": "stream",
     "text": [
      "Help on method import_adjacent_window_evt in module module1.raw_data_parser:\n",
      "\n",
      "import_adjacent_window_evt(signal_type='hypno', samp_freq=None, reshape=True) method of module1.raw_data_parser.DataImporter instance\n",
      "    Hàm tải dữ liệu chuỗi biến cố liên tục (loại 2A), thí dụ hypno; \n",
      "    hỗ trợ tái chọn mẫu và hoán chuyển ngược về loại 2B (danh sách biến cố không liên tục)\n",
      "    \n",
      "    :signal_type: tên viết tắt loại dữ liệu, Lưu ý: hàm này chỉ dùng cho 'hypno' hoặc 'spo2'\n",
      "    :reshape = True có nghĩa là sẽ hoán chuyển 2A thành 2B, và xuất ra cả 2; \n",
      "    : reshape = False có nghĩa là không cần hoán chuyển, chỉ xuất ra dữ liệu chuỗi liên tục 2A\n",
      "    :return 1: df_data: 1 pd.Series chứa dữ liệu chuỗi liên tục (gốc), có datetime index\n",
      "    :return 2: df_resampled: 1 pd.Series chứa dữ liệu chuỗi liên tục (đã được tái chọn mẫu), có datetime index\n",
      "    :return 3: dict_map: dictionary cho biết ý nghĩa các nhãn biến cố\n",
      "    :return 4: df_event: chỉ khi reshape = True, dataframe danh sách biến cố không liên tục (2B), \n",
      "    có cấu trúc mỗi hàng là 1 biến cố, và 4 cột:'evt_start, 'evt_stop', 'evt_info'(thời gian mỗi biến cố) \n",
      "    và 'evt_value' (nhãn kết quả).\n",
      "    :return 5: window_len: Độ dài của cửa sổ quan sát nếu cố định, = None nếu không cố định\n",
      "\n"
     ]
    }
   ],
   "source": [
    "help(case.import_adjacent_window_evt)"
   ]
  },
  {
   "cell_type": "markdown",
   "metadata": {},
   "source": [
    "Thí dụ ta tải chuỗi label hypnogram, và tăng tần số lấy mẫu lên 16 Hz để đồng bộ hóa với 1 chuỗi tín hiệu 16 Hz khác"
   ]
  },
  {
   "cell_type": "code",
   "execution_count": 54,
   "metadata": {},
   "outputs": [],
   "source": [
    "df_data, df_resampled, dict_map, window_len = \\\n",
    "case.import_adjacent_window_evt(signal_type='hypno', \n",
    "                                samp_freq = 16, \n",
    "                                reshape = False)"
   ]
  },
  {
   "cell_type": "markdown",
   "metadata": {},
   "source": [
    "df_data chứa chuỗi label gốc, chưa tái chọn mẫu. Nó có độ dài là 873 cửa sổ phân đoạn (epoches),tức là khoảng 436,5 phút. Giá trị này thấp hơn tổng thời gian của chuỗi tín hiệu thực là 447 phút, có thể do kỹ thuật viên đã bỏ không dán label cho 11 phút sau cùng, khi bệnh nhân đã thức giấc."
   ]
  },
  {
   "cell_type": "code",
   "execution_count": 56,
   "metadata": {},
   "outputs": [
    {
     "data": {
      "text/plain": [
       "2017-09-30 23:00:00+02:00    0\n",
       "2017-09-30 23:00:30+02:00    0\n",
       "2017-09-30 23:01:00+02:00    0\n",
       "2017-09-30 23:01:30+02:00    0\n",
       "2017-09-30 23:02:00+02:00    0\n",
       "                            ..\n",
       "2017-10-01 06:14:00+02:00    2\n",
       "2017-10-01 06:14:30+02:00    2\n",
       "2017-10-01 06:15:00+02:00    2\n",
       "2017-10-01 06:15:30+02:00    0\n",
       "2017-10-01 06:16:00+02:00    0\n",
       "Name: hypno, Length: 873, dtype: int64"
      ]
     },
     "execution_count": 56,
     "metadata": {},
     "output_type": "execute_result"
    }
   ],
   "source": [
    "df_data"
   ]
  },
  {
   "cell_type": "code",
   "execution_count": 57,
   "metadata": {},
   "outputs": [
    {
     "data": {
      "text/plain": [
       "436.5"
      ]
     },
     "execution_count": 57,
     "metadata": {},
     "output_type": "execute_result"
    }
   ],
   "source": [
    "873*30/60"
   ]
  },
  {
   "cell_type": "markdown",
   "metadata": {},
   "source": [
    "Method đã gán 1 giá trị interger cho các trạng thái giấc ngủ, quy tắc mã hóa nằm trong dict_map:"
   ]
  },
  {
   "cell_type": "code",
   "execution_count": 59,
   "metadata": {},
   "outputs": [
    {
     "data": {
      "text/plain": [
       "{'Wake': 0, 'N1': 1, 'N2': 2, 'N3': 3, 'REM': 4, 'N4': -1, 'Mvt': -1}"
      ]
     },
     "execution_count": 59,
     "metadata": {},
     "output_type": "execute_result"
    }
   ],
   "source": [
    "dict_map"
   ]
  },
  {
   "cell_type": "markdown",
   "metadata": {},
   "source": [
    "Độ dài của epoch được trích xuất tự động, đúng bằng 30s"
   ]
  },
  {
   "cell_type": "code",
   "execution_count": 60,
   "metadata": {},
   "outputs": [
    {
     "data": {
      "text/plain": [
       "30.0"
      ]
     },
     "execution_count": 60,
     "metadata": {},
     "output_type": "execute_result"
    }
   ],
   "source": [
    "window_len"
   ]
  },
  {
   "cell_type": "markdown",
   "metadata": {},
   "source": [
    "df_resampled chứa chuỗi label đã được tái chọn mẫu ở tần số 16 Hz, nếu ta tính độ dài sẽ thấy xấp xỉ 436 phút"
   ]
  },
  {
   "cell_type": "code",
   "execution_count": 61,
   "metadata": {},
   "outputs": [
    {
     "data": {
      "text/plain": [
       "2017-09-30 23:00:00+02:00           0\n",
       "2017-09-30 23:00:00.062500+02:00    0\n",
       "2017-09-30 23:00:00.125000+02:00    0\n",
       "2017-09-30 23:00:00.187500+02:00    0\n",
       "2017-09-30 23:00:00.250000+02:00    0\n",
       "                                   ..\n",
       "2017-10-01 06:15:59.750000+02:00    0\n",
       "2017-10-01 06:15:59.812500+02:00    0\n",
       "2017-10-01 06:15:59.875000+02:00    0\n",
       "2017-10-01 06:15:59.937500+02:00    0\n",
       "2017-10-01 06:16:00+02:00           0\n",
       "Freq: 62500U, Name: hypno, Length: 418561, dtype: int64"
      ]
     },
     "execution_count": 61,
     "metadata": {},
     "output_type": "execute_result"
    }
   ],
   "source": [
    "df_resampled"
   ]
  },
  {
   "cell_type": "code",
   "execution_count": 64,
   "metadata": {},
   "outputs": [
    {
     "data": {
      "text/plain": [
       "436.00104166666665"
      ]
     },
     "execution_count": 64,
     "metadata": {},
     "output_type": "execute_result"
    }
   ],
   "source": [
    "418561*(1/16)/60"
   ]
  },
  {
   "cell_type": "markdown",
   "metadata": {},
   "source": [
    "Trong cả 2 chuỗi df_resampled và df_data, hệ thống datetime index biểu thị một thước đo thời gian liên tục và chính xác đến 1 phần triệu giây."
   ]
  },
  {
   "cell_type": "markdown",
   "metadata": {},
   "source": [
    "### Loại 2B: Danh sách biến cố\n",
    "\n",
    "Loại dữ liệu định tính thứ hai mà ta có thể gặp, đó là danh sách biến cố. Khác với loại 2A, loại 2B không phải là chuỗi liên tục, nhưng là danh sách của tất cả các biến cố, được định vị bằng 2 mốc thời gian bắt đầu và kết thúc. Các biến cố này được sắp xếp theo trình tự thời gian. \n",
    "\n",
    "Thí dụ: data desaturations (biến cố mất bão hòa Oxy máu, SpO2 giảm hơn 30% so với mức cơ bản), Micro arousals (biến cố vi thức), Respir. events (biến cố rối loạn hô hấp).\n",
    "\n",
    "Method import_irregular_window_evt cho phép tải, tái chọn mẫu dữ liệu loại này:\n",
    "\n",
    "Dữ liệu thô có cấu trúc như sau:"
   ]
  },
  {
   "cell_type": "code",
   "execution_count": null,
   "metadata": {},
   "outputs": [],
   "source": [
    "'''\n",
    "Signal ID: PSG_scoring\n",
    "Start Time: 30-09-17 23:00:00\n",
    "Unit: s\n",
    "Signal Type: Scoring\n",
    "\n",
    "23:20:53,919-23:21:04,718; 11;CH\n",
    "23:22:36,417-23:23:03,798; 27;OH\n",
    "23:23:20,564-23:23:30,088; 10;CH\n",
    "23:25:38,441-23:26:07,409; 29;RERA\n",
    "'''"
   ]
  },
  {
   "cell_type": "code",
   "execution_count": 65,
   "metadata": {},
   "outputs": [
    {
     "name": "stdout",
     "output_type": "stream",
     "text": [
      "Help on method import_irregular_window_evt in module module1.raw_data_parser:\n",
      "\n",
      "import_irregular_window_evt(signal_type: str, samp_freq=None, get_true_stop_time=False) method of module1.raw_data_parser.DataImporter instance\n",
      "    Hàm cho phép tải dữ liệu chuỗi biến cố thuộc loại 2B : không liên tục;\n",
      "    hỗ trợ tái chọn mẫu với tần số tùy chọn\n",
      "    \n",
      "    :signal_type: tên viết tắt của loại dữ liệu, thí dụ 'respi_evt', 'ma' hoặc 'evt_spo2'\n",
      "    :samp_freq: tần số lấy mẫu hoặc datetime array dùng để tái chọn mẫu\n",
      "    :get_true_stop_time: Đồng bộ hóa với 1 raw data, \n",
      "    giá trị mặc định là False, khi đó chỉ sử dụng timestamps từ chuỗi biến cố,\n",
      "    nếu True, sẽ dùng timestamps của tín hiệu thô tương ứng, \n",
      "    thí dụ respi_evt sẽ dùng Nasal flow Thermistor, desaturation sẽ dùng SpO2, ...\n",
      "    Cách làm này cho phép tối ưu hóa về đồng bộ giữa chuỗi biến cố và tín hiệu thô.\n",
      "    \n",
      "    :return 1: 1 dataframe (chuỗi loại 2B) có cấu trúc mỗi hàng là 1 biến cố, \n",
      "    và 4 cột:'evt_start, 'evt_stop', 'evt_info'(thời gian mỗi biến cố) và 'evt_value' (nhãn kết quả)\n",
      "    :return: 1 dataframe (chuỗi loại 2A) có cấu trúc chuỗi liên tục, với datetime index, \n",
      "    đã được tái chọn mẫu theo tần số tùy chọn.\n",
      "    \n",
      "    :return 2: 1 dictionary cho biết ý nghĩa của các label,\n",
      "    :return 3: Thời điểm bắt đầu xét nghiệm;\n",
      "    :return 4: Thời điểm kết thúc xét nghiệm\n",
      "    \n",
      "    Ghi chú: Nếu không tìm thấy đường dẫn, sẽ xuất ra 3 object rỗng (None)\n",
      "\n"
     ]
    }
   ],
   "source": [
    "help(case.import_irregular_window_evt)"
   ]
  },
  {
   "cell_type": "markdown",
   "metadata": {},
   "source": [
    "Thí dụ ta tải danh sách biến cố hô hấp (respi_evt) và đồng bộ hóa với tín hiệu nasal flow thermistor ở tần số 16 Hz"
   ]
  },
  {
   "cell_type": "code",
   "execution_count": 67,
   "metadata": {},
   "outputs": [],
   "source": [
    "resp_data, resp_resampled, resp_map, \\\n",
    "start_datetime, stop_datetime = \\\n",
    "case.import_irregular_window_evt(signal_type = 'respi_evt',\n",
    "                                 samp_freq=16,\n",
    "                                 get_true_stop_time=True)"
   ]
  },
  {
   "cell_type": "markdown",
   "metadata": {},
   "source": [
    "object resp_data chứa nội dung danh sách được trích ra từ dữ liệu thô:"
   ]
  },
  {
   "cell_type": "code",
   "execution_count": 68,
   "metadata": {},
   "outputs": [
    {
     "data": {
      "text/html": [
       "<div>\n",
       "<style scoped>\n",
       "    .dataframe tbody tr th:only-of-type {\n",
       "        vertical-align: middle;\n",
       "    }\n",
       "\n",
       "    .dataframe tbody tr th {\n",
       "        vertical-align: top;\n",
       "    }\n",
       "\n",
       "    .dataframe thead th {\n",
       "        text-align: right;\n",
       "    }\n",
       "</style>\n",
       "<table border=\"1\" class=\"dataframe\">\n",
       "  <thead>\n",
       "    <tr style=\"text-align: right;\">\n",
       "      <th></th>\n",
       "      <th>evt_start</th>\n",
       "      <th>evt_stop</th>\n",
       "      <th>evt_info</th>\n",
       "      <th>evt_value</th>\n",
       "    </tr>\n",
       "  </thead>\n",
       "  <tbody>\n",
       "    <tr>\n",
       "      <th>0</th>\n",
       "      <td>2017-09-30 23:20:53.919000+02:00</td>\n",
       "      <td>2017-09-30 23:21:04.718000+02:00</td>\n",
       "      <td>11</td>\n",
       "      <td>4</td>\n",
       "    </tr>\n",
       "    <tr>\n",
       "      <th>1</th>\n",
       "      <td>2017-09-30 23:22:36.417000+02:00</td>\n",
       "      <td>2017-09-30 23:23:03.798000+02:00</td>\n",
       "      <td>27</td>\n",
       "      <td>3</td>\n",
       "    </tr>\n",
       "    <tr>\n",
       "      <th>2</th>\n",
       "      <td>2017-09-30 23:23:20.564000+02:00</td>\n",
       "      <td>2017-09-30 23:23:30.088000+02:00</td>\n",
       "      <td>10</td>\n",
       "      <td>4</td>\n",
       "    </tr>\n",
       "    <tr>\n",
       "      <th>3</th>\n",
       "      <td>2017-09-30 23:25:38.441000+02:00</td>\n",
       "      <td>2017-09-30 23:26:07.409000+02:00</td>\n",
       "      <td>29</td>\n",
       "      <td>2</td>\n",
       "    </tr>\n",
       "    <tr>\n",
       "      <th>4</th>\n",
       "      <td>2017-09-30 23:26:12.072000+02:00</td>\n",
       "      <td>2017-09-30 23:26:56.715000+02:00</td>\n",
       "      <td>45</td>\n",
       "      <td>2</td>\n",
       "    </tr>\n",
       "    <tr>\n",
       "      <th>...</th>\n",
       "      <td>...</td>\n",
       "      <td>...</td>\n",
       "      <td>...</td>\n",
       "      <td>...</td>\n",
       "    </tr>\n",
       "    <tr>\n",
       "      <th>81</th>\n",
       "      <td>2017-10-01 05:43:48.937000+02:00</td>\n",
       "      <td>2017-10-01 05:46:37.985000+02:00</td>\n",
       "      <td>169</td>\n",
       "      <td>1</td>\n",
       "    </tr>\n",
       "    <tr>\n",
       "      <th>82</th>\n",
       "      <td>2017-10-01 05:46:38.381000+02:00</td>\n",
       "      <td>2017-10-01 05:46:55.048000+02:00</td>\n",
       "      <td>17</td>\n",
       "      <td>3</td>\n",
       "    </tr>\n",
       "    <tr>\n",
       "      <th>83</th>\n",
       "      <td>2017-10-01 05:47:17.270000+02:00</td>\n",
       "      <td>2017-10-01 06:06:20.921000+02:00</td>\n",
       "      <td>1144</td>\n",
       "      <td>2</td>\n",
       "    </tr>\n",
       "    <tr>\n",
       "      <th>84</th>\n",
       "      <td>2017-10-01 06:06:28.362000+02:00</td>\n",
       "      <td>2017-10-01 06:06:40.266000+02:00</td>\n",
       "      <td>12</td>\n",
       "      <td>4</td>\n",
       "    </tr>\n",
       "    <tr>\n",
       "      <th>85</th>\n",
       "      <td>2017-10-01 06:08:02.489000+02:00</td>\n",
       "      <td>2017-10-01 06:15:30.901000+02:00</td>\n",
       "      <td>448</td>\n",
       "      <td>2</td>\n",
       "    </tr>\n",
       "  </tbody>\n",
       "</table>\n",
       "<p>86 rows × 4 columns</p>\n",
       "</div>"
      ],
      "text/plain": [
       "                          evt_start                         evt_stop  \\\n",
       "0  2017-09-30 23:20:53.919000+02:00 2017-09-30 23:21:04.718000+02:00   \n",
       "1  2017-09-30 23:22:36.417000+02:00 2017-09-30 23:23:03.798000+02:00   \n",
       "2  2017-09-30 23:23:20.564000+02:00 2017-09-30 23:23:30.088000+02:00   \n",
       "3  2017-09-30 23:25:38.441000+02:00 2017-09-30 23:26:07.409000+02:00   \n",
       "4  2017-09-30 23:26:12.072000+02:00 2017-09-30 23:26:56.715000+02:00   \n",
       "..                              ...                              ...   \n",
       "81 2017-10-01 05:43:48.937000+02:00 2017-10-01 05:46:37.985000+02:00   \n",
       "82 2017-10-01 05:46:38.381000+02:00 2017-10-01 05:46:55.048000+02:00   \n",
       "83 2017-10-01 05:47:17.270000+02:00 2017-10-01 06:06:20.921000+02:00   \n",
       "84 2017-10-01 06:06:28.362000+02:00 2017-10-01 06:06:40.266000+02:00   \n",
       "85 2017-10-01 06:08:02.489000+02:00 2017-10-01 06:15:30.901000+02:00   \n",
       "\n",
       "    evt_info  evt_value  \n",
       "0         11          4  \n",
       "1         27          3  \n",
       "2         10          4  \n",
       "3         29          2  \n",
       "4         45          2  \n",
       "..       ...        ...  \n",
       "81       169          1  \n",
       "82        17          3  \n",
       "83      1144          2  \n",
       "84        12          4  \n",
       "85       448          2  \n",
       "\n",
       "[86 rows x 4 columns]"
      ]
     },
     "execution_count": 68,
     "metadata": {},
     "output_type": "execute_result"
    }
   ],
   "source": [
    "resp_data"
   ]
  },
  {
   "cell_type": "markdown",
   "metadata": {},
   "source": [
    "đây là 1 dataframe có cấu trúc: mỗi hàng là 1 biến cố, 4 cột: \n",
    "\n",
    "evt_start/stop = thời điểm bắt đầu, thời điểm kết thúc;\n",
    "\n",
    "evt_info: độ dài của biến cố, tính bằng giây,\n",
    "\n",
    "evt_value: Nhãn của biến cố, quy định trong dictionary\n",
    "\n",
    "Giá trị của evt_start và evt_stop là những datetime object trong pandas, với độ chính xác đến 1 phần triệu giây, nó có thể dùng như index để trích xuất dữ liệu từ những chuỗi tín hiệu khác.\n",
    "\n",
    "Danh sách này có rất nhiều công dụng, thí dụ, nó có thể dùng để đinh vị và dán nhãn cho các phân đoạn tín hiệu trong bài toán Classification; làm các thống kê về tần suất các biến cố; hoặc về độ dài trung bình của mỗi loại biến cố:"
   ]
  },
  {
   "cell_type": "code",
   "execution_count": 109,
   "metadata": {},
   "outputs": [
    {
     "data": {
      "text/plain": [
       "Counter({4: 42, 3: 10, 2: 21, 1: 6, 6: 5, 5: 2})"
      ]
     },
     "execution_count": 109,
     "metadata": {},
     "output_type": "execute_result"
    }
   ],
   "source": [
    "from collections import Counter\n",
    "\n",
    "Counter(resp_data.evt_value)"
   ]
  },
  {
   "cell_type": "code",
   "execution_count": 111,
   "metadata": {},
   "outputs": [
    {
     "data": {
      "text/html": [
       "<div>\n",
       "<style scoped>\n",
       "    .dataframe tbody tr th:only-of-type {\n",
       "        vertical-align: middle;\n",
       "    }\n",
       "\n",
       "    .dataframe tbody tr th {\n",
       "        vertical-align: top;\n",
       "    }\n",
       "\n",
       "    .dataframe thead th {\n",
       "        text-align: right;\n",
       "    }\n",
       "</style>\n",
       "<table border=\"1\" class=\"dataframe\">\n",
       "  <thead>\n",
       "    <tr style=\"text-align: right;\">\n",
       "      <th></th>\n",
       "      <th>count</th>\n",
       "      <th>mean</th>\n",
       "      <th>std</th>\n",
       "      <th>min</th>\n",
       "      <th>25%</th>\n",
       "      <th>50%</th>\n",
       "      <th>75%</th>\n",
       "      <th>max</th>\n",
       "    </tr>\n",
       "    <tr>\n",
       "      <th>evt_value</th>\n",
       "      <th></th>\n",
       "      <th></th>\n",
       "      <th></th>\n",
       "      <th></th>\n",
       "      <th></th>\n",
       "      <th></th>\n",
       "      <th></th>\n",
       "      <th></th>\n",
       "    </tr>\n",
       "  </thead>\n",
       "  <tbody>\n",
       "    <tr>\n",
       "      <th>1</th>\n",
       "      <td>6.0</td>\n",
       "      <td>102.166667</td>\n",
       "      <td>68.476030</td>\n",
       "      <td>36.0</td>\n",
       "      <td>54.0</td>\n",
       "      <td>77.0</td>\n",
       "      <td>148.75</td>\n",
       "      <td>204.0</td>\n",
       "    </tr>\n",
       "    <tr>\n",
       "      <th>2</th>\n",
       "      <td>21.0</td>\n",
       "      <td>412.142857</td>\n",
       "      <td>340.997403</td>\n",
       "      <td>29.0</td>\n",
       "      <td>145.0</td>\n",
       "      <td>342.0</td>\n",
       "      <td>514.00</td>\n",
       "      <td>1144.0</td>\n",
       "    </tr>\n",
       "    <tr>\n",
       "      <th>3</th>\n",
       "      <td>10.0</td>\n",
       "      <td>24.300000</td>\n",
       "      <td>11.804425</td>\n",
       "      <td>15.0</td>\n",
       "      <td>17.5</td>\n",
       "      <td>21.5</td>\n",
       "      <td>24.75</td>\n",
       "      <td>56.0</td>\n",
       "    </tr>\n",
       "    <tr>\n",
       "      <th>4</th>\n",
       "      <td>42.0</td>\n",
       "      <td>13.642857</td>\n",
       "      <td>2.911888</td>\n",
       "      <td>10.0</td>\n",
       "      <td>11.0</td>\n",
       "      <td>13.0</td>\n",
       "      <td>16.00</td>\n",
       "      <td>22.0</td>\n",
       "    </tr>\n",
       "    <tr>\n",
       "      <th>5</th>\n",
       "      <td>2.0</td>\n",
       "      <td>15.000000</td>\n",
       "      <td>7.071068</td>\n",
       "      <td>10.0</td>\n",
       "      <td>12.5</td>\n",
       "      <td>15.0</td>\n",
       "      <td>17.50</td>\n",
       "      <td>20.0</td>\n",
       "    </tr>\n",
       "    <tr>\n",
       "      <th>6</th>\n",
       "      <td>5.0</td>\n",
       "      <td>11.200000</td>\n",
       "      <td>2.167948</td>\n",
       "      <td>10.0</td>\n",
       "      <td>10.0</td>\n",
       "      <td>10.0</td>\n",
       "      <td>11.00</td>\n",
       "      <td>15.0</td>\n",
       "    </tr>\n",
       "  </tbody>\n",
       "</table>\n",
       "</div>"
      ],
      "text/plain": [
       "           count        mean         std   min    25%    50%     75%     max\n",
       "evt_value                                                                   \n",
       "1            6.0  102.166667   68.476030  36.0   54.0   77.0  148.75   204.0\n",
       "2           21.0  412.142857  340.997403  29.0  145.0  342.0  514.00  1144.0\n",
       "3           10.0   24.300000   11.804425  15.0   17.5   21.5   24.75    56.0\n",
       "4           42.0   13.642857    2.911888  10.0   11.0   13.0   16.00    22.0\n",
       "5            2.0   15.000000    7.071068  10.0   12.5   15.0   17.50    20.0\n",
       "6            5.0   11.200000    2.167948  10.0   10.0   10.0   11.00    15.0"
      ]
     },
     "execution_count": 111,
     "metadata": {},
     "output_type": "execute_result"
    }
   ],
   "source": [
    "resp_data.groupby('evt_value').describe()['evt_info']"
   ]
  },
  {
   "cell_type": "code",
   "execution_count": 69,
   "metadata": {},
   "outputs": [
    {
     "data": {
      "text/plain": [
       "{'FL': 1, 'RERA': 2, 'OH': 3, 'CH': 4, 'OA': 5, 'CA': 6}"
      ]
     },
     "execution_count": 69,
     "metadata": {},
     "output_type": "execute_result"
    }
   ],
   "source": [
    "resp_map"
   ]
  },
  {
   "cell_type": "markdown",
   "metadata": {},
   "source": [
    "Ta cũng lấy thông tin về thời điểm bắt đầu và kết thúc"
   ]
  },
  {
   "cell_type": "code",
   "execution_count": 82,
   "metadata": {},
   "outputs": [
    {
     "name": "stdout",
     "output_type": "stream",
     "text": [
      "2017-09-30 23:00:00+02:00\n",
      "2017-10-01 06:19:24+02:00\n"
     ]
    }
   ],
   "source": [
    "print(start_datetime)\n",
    "print(stop_datetime)"
   ]
  },
  {
   "cell_type": "markdown",
   "metadata": {},
   "source": [
    "Tính năng tái chọn mẫu cho phép hoán chuyển danh sách biến cố thành định dạng 2A, tức chuỗi định tính liên tục, ở tần số tùy chọn (16Hz). Đây là 1 dataframe có datetime index và cột value ghi label.\n",
    "\n",
    "Định dạng chuỗi liên tục này cho phép đồng bộ hóa và phân đoạn trực tiếp với bất cứ chuỗi tín hiệu nào, vì chúng có cùng hệ thống datetime index (dù có thể sai biệt vài mili giây)."
   ]
  },
  {
   "cell_type": "code",
   "execution_count": 94,
   "metadata": {},
   "outputs": [
    {
     "data": {
      "text/html": [
       "<div>\n",
       "<style scoped>\n",
       "    .dataframe tbody tr th:only-of-type {\n",
       "        vertical-align: middle;\n",
       "    }\n",
       "\n",
       "    .dataframe tbody tr th {\n",
       "        vertical-align: top;\n",
       "    }\n",
       "\n",
       "    .dataframe thead th {\n",
       "        text-align: right;\n",
       "    }\n",
       "</style>\n",
       "<table border=\"1\" class=\"dataframe\">\n",
       "  <thead>\n",
       "    <tr style=\"text-align: right;\">\n",
       "      <th></th>\n",
       "      <th>value</th>\n",
       "    </tr>\n",
       "  </thead>\n",
       "  <tbody>\n",
       "    <tr>\n",
       "      <th>2017-09-30 23:00:00+02:00</th>\n",
       "      <td>0</td>\n",
       "    </tr>\n",
       "    <tr>\n",
       "      <th>2017-09-30 23:00:00.062500+02:00</th>\n",
       "      <td>0</td>\n",
       "    </tr>\n",
       "    <tr>\n",
       "      <th>2017-09-30 23:00:00.125000+02:00</th>\n",
       "      <td>0</td>\n",
       "    </tr>\n",
       "    <tr>\n",
       "      <th>2017-09-30 23:00:00.187500+02:00</th>\n",
       "      <td>0</td>\n",
       "    </tr>\n",
       "    <tr>\n",
       "      <th>2017-09-30 23:00:00.250000+02:00</th>\n",
       "      <td>0</td>\n",
       "    </tr>\n",
       "    <tr>\n",
       "      <th>...</th>\n",
       "      <td>...</td>\n",
       "    </tr>\n",
       "    <tr>\n",
       "      <th>2017-10-01 06:15:30.562500+02:00</th>\n",
       "      <td>2</td>\n",
       "    </tr>\n",
       "    <tr>\n",
       "      <th>2017-10-01 06:15:30.625000+02:00</th>\n",
       "      <td>2</td>\n",
       "    </tr>\n",
       "    <tr>\n",
       "      <th>2017-10-01 06:15:30.687500+02:00</th>\n",
       "      <td>2</td>\n",
       "    </tr>\n",
       "    <tr>\n",
       "      <th>2017-10-01 06:15:30.750000+02:00</th>\n",
       "      <td>2</td>\n",
       "    </tr>\n",
       "    <tr>\n",
       "      <th>2017-10-01 06:15:30.812500+02:00</th>\n",
       "      <td>2</td>\n",
       "    </tr>\n",
       "  </tbody>\n",
       "</table>\n",
       "<p>418094 rows × 1 columns</p>\n",
       "</div>"
      ],
      "text/plain": [
       "                                  value\n",
       "2017-09-30 23:00:00+02:00             0\n",
       "2017-09-30 23:00:00.062500+02:00      0\n",
       "2017-09-30 23:00:00.125000+02:00      0\n",
       "2017-09-30 23:00:00.187500+02:00      0\n",
       "2017-09-30 23:00:00.250000+02:00      0\n",
       "...                                 ...\n",
       "2017-10-01 06:15:30.562500+02:00      2\n",
       "2017-10-01 06:15:30.625000+02:00      2\n",
       "2017-10-01 06:15:30.687500+02:00      2\n",
       "2017-10-01 06:15:30.750000+02:00      2\n",
       "2017-10-01 06:15:30.812500+02:00      2\n",
       "\n",
       "[418094 rows x 1 columns]"
      ]
     },
     "execution_count": 94,
     "metadata": {},
     "output_type": "execute_result"
    }
   ],
   "source": [
    "resp_resampled"
   ]
  },
  {
   "cell_type": "markdown",
   "metadata": {},
   "source": [
    "Độ dài chuỗi label 16 Hz này khoảng 435.5 phút"
   ]
  },
  {
   "cell_type": "code",
   "execution_count": 95,
   "metadata": {},
   "outputs": [
    {
     "data": {
      "text/plain": [
       "435.51458333333335"
      ]
     },
     "execution_count": 95,
     "metadata": {},
     "output_type": "execute_result"
    }
   ],
   "source": [
    "resp_resampled.shape[0]*(1/16)/60"
   ]
  },
  {
   "cell_type": "markdown",
   "metadata": {},
   "source": [
    "### Hoán chuyển chuỗi định tính thành danh sách biến cố \n",
    "\n",
    "Ta thấy mỗi định dạng 2A, 2B có những ích lợi và ứng dụng riêng. Do đó, có thể bạn sẽ muốn chuyển đổi định dạng 2A (chuỗi liên tục) về định dạng 2B (danh sách biến cố). Method adjacent_to_irregular cho phép làm việc này:"
   ]
  },
  {
   "cell_type": "code",
   "execution_count": 41,
   "metadata": {},
   "outputs": [
    {
     "name": "stdout",
     "output_type": "stream",
     "text": [
      "Help on function adjacent_to_irregular in module module1.raw_data_parser:\n",
      "\n",
      "adjacent_to_irregular(df_resampled: pandas.core.series.Series, samp_freq: int)\n",
      "    Hàm chuyển đổi từ loại dữ liệu chuỗi 2A (sau tái chọn mẫu), sang loại dữ liệu chuỗi 2B\n",
      "    Chỉ áp dụng cho chuỗi kết quả Hypnogram\n",
      "    : df_resample: pandas Series, có nội dung là 1 chuỗi liên tục các label, có datetime index,\n",
      "    : samp_freq: tần số lấy mẫu, 1 số nguyên, thí dụ 10, 30\n",
      "    : return: 1 dataframe có cấu trúc: mỗi hàng là 1 biến cố,\n",
      "    4 cột: evt_start/stop = thời điểm bắt đầu, thời điểm kết thúc;\n",
      "    evt_info: độ dài của biến cố, tính bằng giây,\n",
      "    evt_value: Nhãn của biến cố, quy định trong dictionary\n",
      "\n"
     ]
    }
   ],
   "source": [
    "help(case.adjacent_to_irregular)"
   ]
  },
  {
   "cell_type": "markdown",
   "metadata": {},
   "source": [
    "Thí dụ, Nhi chuyển chuỗi label hypnogram 16 Hz thành 1 danh sách các phân đoạn trạng thái giấc ngủ:"
   ]
  },
  {
   "cell_type": "code",
   "execution_count": 113,
   "metadata": {},
   "outputs": [
    {
     "data": {
      "text/html": [
       "<div>\n",
       "<style scoped>\n",
       "    .dataframe tbody tr th:only-of-type {\n",
       "        vertical-align: middle;\n",
       "    }\n",
       "\n",
       "    .dataframe tbody tr th {\n",
       "        vertical-align: top;\n",
       "    }\n",
       "\n",
       "    .dataframe thead th {\n",
       "        text-align: right;\n",
       "    }\n",
       "</style>\n",
       "<table border=\"1\" class=\"dataframe\">\n",
       "  <thead>\n",
       "    <tr style=\"text-align: right;\">\n",
       "      <th></th>\n",
       "      <th>evt_start</th>\n",
       "      <th>evt_stop</th>\n",
       "      <th>evt_info</th>\n",
       "      <th>evt_value</th>\n",
       "    </tr>\n",
       "  </thead>\n",
       "  <tbody>\n",
       "    <tr>\n",
       "      <th>0</th>\n",
       "      <td>2017-09-30 23:00:00+02:00</td>\n",
       "      <td>2017-09-30 23:19:59.937500+02:00</td>\n",
       "      <td>1200.0000</td>\n",
       "      <td>0.0</td>\n",
       "    </tr>\n",
       "    <tr>\n",
       "      <th>1</th>\n",
       "      <td>2017-09-30 23:20:00+02:00</td>\n",
       "      <td>2017-09-30 23:20:29.937500+02:00</td>\n",
       "      <td>30.0000</td>\n",
       "      <td>1.0</td>\n",
       "    </tr>\n",
       "    <tr>\n",
       "      <th>2</th>\n",
       "      <td>2017-09-30 23:20:30+02:00</td>\n",
       "      <td>2017-09-30 23:23:29.937500+02:00</td>\n",
       "      <td>180.0000</td>\n",
       "      <td>2.0</td>\n",
       "    </tr>\n",
       "    <tr>\n",
       "      <th>3</th>\n",
       "      <td>2017-09-30 23:23:30+02:00</td>\n",
       "      <td>2017-09-30 23:23:59.937500+02:00</td>\n",
       "      <td>30.0000</td>\n",
       "      <td>0.0</td>\n",
       "    </tr>\n",
       "    <tr>\n",
       "      <th>4</th>\n",
       "      <td>2017-09-30 23:24:00+02:00</td>\n",
       "      <td>2017-09-30 23:25:29.937500+02:00</td>\n",
       "      <td>90.0000</td>\n",
       "      <td>1.0</td>\n",
       "    </tr>\n",
       "    <tr>\n",
       "      <th>...</th>\n",
       "      <td>...</td>\n",
       "      <td>...</td>\n",
       "      <td>...</td>\n",
       "      <td>...</td>\n",
       "    </tr>\n",
       "    <tr>\n",
       "      <th>79</th>\n",
       "      <td>2017-10-01 06:04:30+02:00</td>\n",
       "      <td>2017-10-01 06:06:59.937500+02:00</td>\n",
       "      <td>150.0000</td>\n",
       "      <td>2.0</td>\n",
       "    </tr>\n",
       "    <tr>\n",
       "      <th>80</th>\n",
       "      <td>2017-10-01 06:07:00+02:00</td>\n",
       "      <td>2017-10-01 06:07:59.937500+02:00</td>\n",
       "      <td>60.0000</td>\n",
       "      <td>0.0</td>\n",
       "    </tr>\n",
       "    <tr>\n",
       "      <th>81</th>\n",
       "      <td>2017-10-01 06:08:00+02:00</td>\n",
       "      <td>2017-10-01 06:08:59.937500+02:00</td>\n",
       "      <td>60.0000</td>\n",
       "      <td>1.0</td>\n",
       "    </tr>\n",
       "    <tr>\n",
       "      <th>82</th>\n",
       "      <td>2017-10-01 06:09:00+02:00</td>\n",
       "      <td>2017-10-01 06:15:29.937500+02:00</td>\n",
       "      <td>390.0000</td>\n",
       "      <td>2.0</td>\n",
       "    </tr>\n",
       "    <tr>\n",
       "      <th>83</th>\n",
       "      <td>2017-10-01 06:15:30+02:00</td>\n",
       "      <td>2017-10-01 06:16:00+02:00</td>\n",
       "      <td>30.0625</td>\n",
       "      <td>0.0</td>\n",
       "    </tr>\n",
       "  </tbody>\n",
       "</table>\n",
       "<p>84 rows × 4 columns</p>\n",
       "</div>"
      ],
      "text/plain": [
       "                   evt_start                         evt_stop   evt_info  \\\n",
       "0  2017-09-30 23:00:00+02:00 2017-09-30 23:19:59.937500+02:00  1200.0000   \n",
       "1  2017-09-30 23:20:00+02:00 2017-09-30 23:20:29.937500+02:00    30.0000   \n",
       "2  2017-09-30 23:20:30+02:00 2017-09-30 23:23:29.937500+02:00   180.0000   \n",
       "3  2017-09-30 23:23:30+02:00 2017-09-30 23:23:59.937500+02:00    30.0000   \n",
       "4  2017-09-30 23:24:00+02:00 2017-09-30 23:25:29.937500+02:00    90.0000   \n",
       "..                       ...                              ...        ...   \n",
       "79 2017-10-01 06:04:30+02:00 2017-10-01 06:06:59.937500+02:00   150.0000   \n",
       "80 2017-10-01 06:07:00+02:00 2017-10-01 06:07:59.937500+02:00    60.0000   \n",
       "81 2017-10-01 06:08:00+02:00 2017-10-01 06:08:59.937500+02:00    60.0000   \n",
       "82 2017-10-01 06:09:00+02:00 2017-10-01 06:15:29.937500+02:00   390.0000   \n",
       "83 2017-10-01 06:15:30+02:00        2017-10-01 06:16:00+02:00    30.0625   \n",
       "\n",
       "    evt_value  \n",
       "0         0.0  \n",
       "1         1.0  \n",
       "2         2.0  \n",
       "3         0.0  \n",
       "4         1.0  \n",
       "..        ...  \n",
       "79        2.0  \n",
       "80        0.0  \n",
       "81        1.0  \n",
       "82        2.0  \n",
       "83        0.0  \n",
       "\n",
       "[84 rows x 4 columns]"
      ]
     },
     "execution_count": 113,
     "metadata": {},
     "output_type": "execute_result"
    }
   ],
   "source": [
    "sleep_states = case.adjacent_to_irregular(df_resampled, samp_freq = 16)\n",
    "\n",
    "sleep_states"
   ]
  },
  {
   "cell_type": "markdown",
   "metadata": {},
   "source": [
    "Bảng này cũng có cấu trúc tương tự như kết quả xuất ra từ method import_irregular_window_evt, và cho phép làm các phép thống kê mô tả về tần suất hay thời gian, thí dụ tỉ lệ phân bố của mỗi trạng thái giấc ngủ, ta thấy bệnh nhân này tỉnh thức 7.34% thời gian, và phần lớn thời gian (44.04%) là trạng thái giấc ngủ N2, 16.17% ngủ sâu (N3), và 25.34% trong trạng thái REM."
   ]
  },
  {
   "cell_type": "code",
   "execution_count": 123,
   "metadata": {},
   "outputs": [
    {
     "data": {
      "text/plain": [
       "evt_value\n",
       "0.0     7.339671\n",
       "1.0     7.110075\n",
       "2.0    44.036592\n",
       "3.0    16.169686\n",
       "4.0    25.343976\n",
       "Name: evt_info, dtype: float64"
      ]
     },
     "execution_count": 123,
     "metadata": {},
     "output_type": "execute_result"
    }
   ],
   "source": [
    "100*sleep_states.groupby('evt_value')['evt_info'].sum()/(sleep_states.evt_info.sum())"
   ]
  },
  {
   "cell_type": "code",
   "execution_count": 134,
   "metadata": {},
   "outputs": [
    {
     "data": {
      "image/png": "[encoded data removed]",
      "text/plain": [
       "<Figure size 432x288 with 1 Axes>"
      ]
     },
     "metadata": {
      "needs_background": "light"
     },
     "output_type": "display_data"
    }
   ],
   "source": [
    "import seaborn as sns\n",
    "\n",
    "sns.boxplot(data = sleep_states, x = 'evt_value', y = 'evt_info')\n",
    "plt.show()"
   ]
  },
  {
   "cell_type": "markdown",
   "metadata": {},
   "source": [
    "## Tải đồng thời nhiều tín hiệu\n",
    "\n",
    "Method cuối cùng trong class DataImporter mà Nhi muốn giới thiệu, đó là import_multiple_raw_data, cho phép tải đồng thời nhiều kênh tín hiệu thô, và đồng bộ hóa tất cả theo cùng 1 tần số lấy mẫu.\n",
    "\n",
    "Method này sử dụng multithreading hỗ trợ thi hành nhiều tác vụ song song để tăng tốc độ của quy trình."
   ]
  },
  {
   "cell_type": "code",
   "execution_count": 45,
   "metadata": {},
   "outputs": [
    {
     "name": "stdout",
     "output_type": "stream",
     "text": [
      "Help on method import_multiple_raw_data in module module1.raw_data_parser:\n",
      "\n",
      "import_multiple_raw_data(type_list: list, samp_freq: int, n_jobs: int) method of module1.raw_data_parser.DataImporter instance\n",
      "    Hàm cho phép tải đồng thời nhiều kênh tín hiệu thô từ 1 list, \n",
      "    và đồng bộ hóa tất cả theo cùng 1 tần số lấy mẫu\n",
      "    :type_list: 1 list nhiều tên viết tắt của loại tín hiệu;\n",
      "    \n",
      "    Ghi chú: Chỉ áp dụng cho raw data (Loại 1), không áp dụng được cho loại 2A và 2B\n",
      "    :samp_freq: 1 giá trị tần số lấy mẫu duy nhất, dùng để tái chọn mẫu\n",
      "    :n_jobs: Số tác vụ thi hành song song (threads)\n",
      "    \n",
      "    :return: 1 dictionary với keys là tên loại tín hiệu, \n",
      "    value là pd.Series chứa chuỗi tín hiệu tương ứng, đã được tái chọn mẫu,\n",
      "    có datetime index.\n",
      "\n"
     ]
    }
   ],
   "source": [
    "help(case.import_multiple_raw_data)"
   ]
  },
  {
   "cell_type": "markdown",
   "metadata": {},
   "source": [
    "Thí dụ Nhi muốn tải 6 kênh tín hiệu gồm áp suất đai ngực, bụng (tx rip, abd rip), nasal flow thermistance (flow th), chuyển động hàm dưới (hmm), huyết áp tâm thu (sys ap), và áp suất thực quản (oesp), và đồng bộ hóa ở 10 Hz"
   ]
  },
  {
   "cell_type": "code",
   "execution_count": 135,
   "metadata": {},
   "outputs": [
    {
     "name": "stdout",
     "output_type": "stream",
     "text": [
      "Khởi động tác vụ song song, tải 6 kênh tín hiệu\n"
     ]
    },
    {
     "data": {
      "application/vnd.jupyter.widget-view+json": {
       "model_id": "49688c07271f49d88b83599729d0064a",
       "version_major": 2,
       "version_minor": 0
      },
      "text/plain": [
       "HBox(children=(FloatProgress(value=0.0, max=6.0), HTML(value='')))"
      ]
     },
     "metadata": {},
     "output_type": "display_data"
    },
    {
     "name": "stdout",
     "output_type": "stream",
     "text": [
      "Tải và tái chọn mẫu thành công kênh tx rip\n",
      "Tải và tái chọn mẫu thành công kênh flow th\n",
      "Tải và tái chọn mẫu thành công kênh abd rip\n",
      "Tải và tái chọn mẫu thành công kênh hmm\n",
      "Tải và tái chọn mẫu thành công kênh sys ap\n",
      "Tải và tái chọn mẫu thành công kênh oesp\n",
      "\n",
      "Đã tải xong 6 kênh tín hiệu\n",
      "Thi hành mất 101.59 giây\n"
     ]
    }
   ],
   "source": [
    "import time\n",
    "\n",
    "start = time.perf_counter()\n",
    "\n",
    "signal_pack = case.import_multiple_raw_data(['tx rip', 'flow th', 'abd rip', \n",
    "                                             'hmm', 'sys ap', 'oesp'], \n",
    "                                            10, \n",
    "                                            n_jobs = 6)\n",
    "\n",
    "end = time.perf_counter()\n",
    "\n",
    "print(f'Thi hành mất {round(end - start, 2)} giây')"
   ]
  },
  {
   "cell_type": "markdown",
   "metadata": {},
   "source": [
    "Trên máy tính của Nhi có 16 threads, quy trình thi hành mất 101 giây. Kết quả lưu trong dictionary signal_pack, và như ta thấy, mỗi chuỗi tín hiệu có độ dài như nhau vì đã được đồng bộ hóa ở 10 Hz."
   ]
  },
  {
   "cell_type": "code",
   "execution_count": 136,
   "metadata": {},
   "outputs": [
    {
     "data": {
      "text/plain": [
       "{'tx rip': 2017-09-30 22:52:18+02:00          -351.0\n",
       " 2017-09-30 22:52:18.100000+02:00   -670.0\n",
       " 2017-09-30 22:52:18.200000+02:00   -813.0\n",
       " 2017-09-30 22:52:18.300000+02:00   -908.0\n",
       " 2017-09-30 22:52:18.400000+02:00   -946.0\n",
       "                                     ...  \n",
       " 2017-10-01 06:19:23.500000+02:00   -111.0\n",
       " 2017-10-01 06:19:23.600000+02:00    -94.0\n",
       " 2017-10-01 06:19:23.700000+02:00    -74.0\n",
       " 2017-10-01 06:19:23.800000+02:00    -50.0\n",
       " 2017-10-01 06:19:23.900000+02:00    -24.0\n",
       " Freq: 100L, Name: tx rip, Length: 268260, dtype: float64,\n",
       " 'flow th': 2017-09-30 22:52:18+02:00           133.0\n",
       " 2017-09-30 22:52:18.100000+02:00     48.0\n",
       " 2017-09-30 22:52:18.200000+02:00    -22.0\n",
       " 2017-09-30 22:52:18.300000+02:00    -91.0\n",
       " 2017-09-30 22:52:18.400000+02:00   -160.0\n",
       "                                     ...  \n",
       " 2017-10-01 06:19:23.500000+02:00    135.0\n",
       " 2017-10-01 06:19:23.600000+02:00     55.0\n",
       " 2017-10-01 06:19:23.700000+02:00     -8.0\n",
       " 2017-10-01 06:19:23.800000+02:00    -65.0\n",
       " 2017-10-01 06:19:23.900000+02:00   -113.0\n",
       " Freq: 100L, Name: flow th, Length: 268260, dtype: float64,\n",
       " 'abd rip': 2017-09-30 22:52:18+02:00           -22.0\n",
       " 2017-09-30 22:52:18.100000+02:00    -20.0\n",
       " 2017-09-30 22:52:18.200000+02:00    -16.0\n",
       " 2017-09-30 22:52:18.300000+02:00    -12.0\n",
       " 2017-09-30 22:52:18.400000+02:00     -8.0\n",
       "                                     ...  \n",
       " 2017-10-01 06:19:23.500000+02:00    260.0\n",
       " 2017-10-01 06:19:23.600000+02:00    148.0\n",
       " 2017-10-01 06:19:23.700000+02:00     64.0\n",
       " 2017-10-01 06:19:23.800000+02:00    -12.0\n",
       " 2017-10-01 06:19:23.900000+02:00    -88.0\n",
       " Freq: 100L, Name: abd rip, Length: 268260, dtype: float64,\n",
       " 'hmm': 2017-09-30 22:52:18+02:00          -154.8\n",
       " 2017-09-30 22:52:18.100000+02:00   -154.9\n",
       " 2017-09-30 22:52:18.200000+02:00   -154.8\n",
       " 2017-09-30 22:52:18.300000+02:00   -154.8\n",
       " 2017-09-30 22:52:18.400000+02:00   -154.9\n",
       "                                     ...  \n",
       " 2017-10-01 06:19:23.500000+02:00   -154.9\n",
       " 2017-10-01 06:19:23.600000+02:00   -154.8\n",
       " 2017-10-01 06:19:23.700000+02:00   -154.8\n",
       " 2017-10-01 06:19:23.800000+02:00   -154.8\n",
       " 2017-10-01 06:19:23.900000+02:00   -154.8\n",
       " Freq: 100L, Name: hmm, Length: 268260, dtype: float64,\n",
       " 'sys ap': 2017-09-30 22:52:18+02:00           0.2\n",
       " 2017-09-30 22:52:18.100000+02:00    0.5\n",
       " 2017-09-30 22:52:18.200000+02:00    0.2\n",
       " 2017-09-30 22:52:18.300000+02:00   -0.1\n",
       " 2017-09-30 22:52:18.400000+02:00    0.1\n",
       "                                    ... \n",
       " 2017-10-01 06:19:23.500000+02:00    0.2\n",
       " 2017-10-01 06:19:23.600000+02:00    0.2\n",
       " 2017-10-01 06:19:23.700000+02:00    0.0\n",
       " 2017-10-01 06:19:23.800000+02:00    0.2\n",
       " 2017-10-01 06:19:23.900000+02:00    0.7\n",
       " Freq: 100L, Name: sys ap, Length: 268260, dtype: float64,\n",
       " 'oesp': 2017-09-30 22:52:18+02:00           -99.3\n",
       " 2017-09-30 22:52:18.100000+02:00    -99.4\n",
       " 2017-09-30 22:52:18.200000+02:00    -99.4\n",
       " 2017-09-30 22:52:18.300000+02:00   -100.4\n",
       " 2017-09-30 22:52:18.400000+02:00    -99.8\n",
       "                                     ...  \n",
       " 2017-10-01 06:19:23.500000+02:00   -100.3\n",
       " 2017-10-01 06:19:23.600000+02:00    -99.6\n",
       " 2017-10-01 06:19:23.700000+02:00    -99.4\n",
       " 2017-10-01 06:19:23.800000+02:00    -99.8\n",
       " 2017-10-01 06:19:23.900000+02:00    -98.5\n",
       " Freq: 100L, Name: oesp, Length: 268260, dtype: float64}"
      ]
     },
     "execution_count": 136,
     "metadata": {},
     "output_type": "execute_result"
    }
   ],
   "source": [
    "signal_pack"
   ]
  },
  {
   "cell_type": "code",
   "execution_count": 170,
   "metadata": {},
   "outputs": [
    {
     "data": {
      "image/png": "[encoded data removed]",
      "text/plain": [
       "<Figure size 1152x432 with 6 Axes>"
      ]
     },
     "metadata": {
      "needs_background": "light"
     },
     "output_type": "display_data"
    }
   ],
   "source": [
    "import matplotlib.dates as md\n",
    "\n",
    "fig, axs = plt.subplots(nrows=3,ncols=2,\n",
    "                        sharex=True, \n",
    "                        sharey=False,\n",
    "                        figsize=(16,6))\n",
    "\n",
    "fig.subplots_adjust(hspace=0.2)\n",
    "colors = ['#a60202','#a60254','#910188','#3b0191','#0467d1','#038a9c']\n",
    "\n",
    "for i, (ax, color) in enumerate(zip(axs.flatten(), colors)):\n",
    "    k = list(signal_pack.keys())[i]\n",
    "    s = list(signal_pack.values())[i][16500:17000]\n",
    "\n",
    "    ax.plot(s,color = color,label =  f\"{k}-10Hz\")\n",
    "\n",
    "    ax.legend(loc = 'upper right')\n",
    "    xfmt = md.DateFormatter('%H:%M:%S')\n",
    "    ax.xaxis.set_major_formatter(xfmt)\n",
    "    ax.set_xlabel('Thời gian')\n",
    "plt.tight_layout()\n",
    "plt.show()"
   ]
  },
  {
   "cell_type": "markdown",
   "metadata": {},
   "source": [
    "# Tổng kết\n",
    "\n",
    "Bài thực hành khép lại ở đây, những thông điệp chính trong bài gồm:\n",
    "\n",
    "1) Nên tổ chức code lập trình cho từng công đoạn trong thí nghiệm bằng packages và module, và sử dụng thiết kế OOP một cách phù hợp.\n",
    "\n",
    "2) Phân tích tín hiệu sinh học không thực hiện trên dữ liệu dạng bảng truyền thống, nhưng dựa trên dữ liệu chuỗi, với 3 loại thường gặp là chuỗi định lượng liên tục, chuỗi định tính liên tục và danh sách biến cố. Có thể hoán chuyển giữa các loại này.\n",
    "\n",
    "3) Tuy không trực tiếp tham gia vào phân tích, hệ thống datetime index hay timestamps có vai trò cực kì quan trọng, để đảm bảo tính liên tục và đồng bộ giữa các chuỗi dữ liệu, sự chính xác trong việc chọn mẫu, phân chia, ghép nối hay gắn nhãn cho dữ liệu.\n",
    "\n",
    "4) Tải dữ liệu và sao lưu là một quy trình Input/Output bound, có thể được tối ưu về hiệu năng bằng cách sử dụng multithreading.\n",
    "\n",
    "Hẹn gặp các bạn trong bài tiếp theo."
   ]
  },
  {
   "cell_type": "code",
   "execution_count": null,
   "metadata": {},
   "outputs": [],
   "source": []
  }
 ],
 "metadata": {
  "kernelspec": {
   "display_name": "Python 3",
   "language": "python",
   "name": "python3"
  },
  "language_info": {
   "codemirror_mode": {
    "name": "ipython",
    "version": 3
   },
   "file_extension": ".py",
   "mimetype": "text/x-python",
   "name": "python",
   "nbconvert_exporter": "python",
   "pygments_lexer": "ipython3",
   "version": "3.8.3"
  },
  "toc": {
   "base_numbering": 1,
   "nav_menu": {},
   "number_sections": true,
   "sideBar": true,
   "skip_h1_title": false,
   "title_cell": "Table of Contents",
   "title_sidebar": "Contents",
   "toc_cell": false,
   "toc_position": {},
   "toc_section_display": true,
   "toc_window_display": false
  }
 },
 "nbformat": 4,
 "nbformat_minor": 4
}
