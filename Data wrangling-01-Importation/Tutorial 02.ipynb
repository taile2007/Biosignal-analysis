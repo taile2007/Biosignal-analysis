{
 "cells": [
  {
   "cell_type": "markdown",
   "metadata": {},
   "source": [
    "# Module 1: Thao tác dữ liệu tín hiệu sinh học\n",
    "\n",
    "## Bài 2: Lấy mẫu và dán nhãn cho dữ liệu\n",
    "\n",
    "### BS. Lê Ngọc Khả Nhi\n",
    "\n",
    "# Khởi hành\n",
    "\n",
    "Thân chào các bạn đồng nghiệp, đây là bài thực hành thứ 2 trong Module 1 về Thao tác trên dữ liệu tín hiệu sinh học (Biosignal data wrangling).\n",
    "\n",
    "Trong bài trước, chúng ta đã khởi động bước đầu tiên trong một thí nghiệm machine learning giả định, mà nguyên liệu là tín hiệu thô xuất ra từ thiết bị đa ký giấc ngủ. Ta đã biết về những cấu trúc dữ liệu chuỗi trong bài toán, và dùng một Python package để thi hành công đoạn tải dữ liệu này.\n",
    "\n",
    "Ở bài này, Nhi sẽ giới thiệu tiếp về công đoạn lấy mẫu (sampling) và dán nhãn (labelling) để chuẩn bị dữ liệu đầu vào cho thí nghiệm. Để thực hiện công đoạn này, Nhi mở rộng package module1 với class mới là Data_Sampler().\n",
    "\n",
    "Ta tiếp tục làm việc trên cùng gói dữ liệu như bài 1, có thể tải về từ link sau:\n",
    "https://drive.google.com/file/d/1Md59XrQizIKCJ5G8_mwxbLNaBRN5nMm4/view?usp=sharing\n",
    "\n",
    "Như đã giải thích trong bài trước, Nhi không trình bày code trong notebook, nhưng chuẩn bị trước tất cả function và class cần thiết trong một package 'module1' và import để dùng. Để tìm hiểu về nội dung source code và thực hành lại, các bạn cần truy nhập vào github của dự án.\n",
    "\n",
    "Bài thực hành cần dùng package module1, có thể install từ github của dự án:\n",
    "\n",
    "https://github.com/taile2007/Biosignal-analysis/tree/master/Data%20wrangling-01-Importation\n",
    "\n",
    "Các bạn đặt module1 trong cùng thư mục hiện hành là có thể dùng được.\n",
    "\n",
    "# Thông tin về phiên thực hành"
   ]
  },
  {
   "cell_type": "code",
   "execution_count": 1,
   "metadata": {},
   "outputs": [],
   "source": [
    "import os\n",
    "import sys\n",
    "import re\n",
    "import numpy as np\n",
    "import pandas as pd\n",
    "from module1.raw_data_parser import *"
   ]
  },
  {
   "cell_type": "code",
   "execution_count": 2,
   "metadata": {},
   "outputs": [
    {
     "name": "stdout",
     "output_type": "stream",
     "text": [
      "-----\n",
      "module1     0.1\n",
      "numpy       1.19.4\n",
      "pandas      1.1.5\n",
      "pytz        2020.1\n",
      "sinfo       0.3.1\n",
      "tqdm        4.47.0\n",
      "-----\n",
      "IPython             7.16.1\n",
      "jupyter_client      6.1.6\n",
      "jupyter_core        4.6.3\n",
      "jupyterlab          2.1.5\n",
      "notebook            6.0.3\n",
      "-----\n",
      "Python 3.8.3 (default, Jul  2 2020, 17:30:36) [MSC v.1916 64 bit (AMD64)]\n",
      "Windows-10-10.0.18362-SP0\n",
      "16 logical CPU cores, Intel64 Family 6 Model 165 Stepping 2, GenuineIntel\n",
      "-----\n",
      "Session information updated at 2020-12-30 16:45\n"
     ]
    }
   ],
   "source": [
    "from sinfo import sinfo\n",
    "sinfo()"
   ]
  },
  {
   "cell_type": "markdown",
   "metadata": {},
   "source": [
    "# Đặt vấn đề\n",
    "\n",
    "Trong những thí nghiệm trên tín hiệu sinh học, dù là bài toán Machine learning, suy diễn thống kê hay đơn giản hơn nữa là mô tả/thăm dò, khó khăn hiển nhiên đó là ta phải làm việc trong một không gian chọn mẫu rất rộng. Như thí dụ này, dữ liệu thô là hàng chục Mb dữ liệu, kết quả của việc ghi các kênh tín hiệu trong gần 450 phút. Do đó, công đoạn đầu tiên chúng ta phải làm, đó là giới hạn, thu hẹp không gian này, và chuyên biệt hóa việc lấy mẫu. \n",
    "\n",
    "Những thủ thuật sau đây có thể được áp dụng:\n",
    "\n",
    "1) Tái chọn mẫu ở một tần số lấy mẫu thấp hơn so với dữ liệu thô, vừa đủ để vẫn giữ được thông tin nhưng thu nhỏ kích thước của chuỗi tín hiệu (Under sampling)\n",
    "\n",
    "2) Chia nhỏ chuỗi dữ liệu gốc thành những đoạn ngắn hơn, hay cửa sổ quan sát mỗi phân đoạn sẽ được xét như 1 đơn vị quan sát/chọn mẫu (Piece-wise sampling)\n",
    "\n",
    "3) Chuyên biệt hóa: Tập trung khảo sát một số phân đoạn tương ứng với hiện tượng hay biến cố sinh lý bệnh mục tiêu. Để đạt được điều này, ta cần thực hiện công đoạn Dán nhãn (labeling).\n",
    "\n",
    "Ta lập lại quy trình như bài 1, khai báo đường dẫn PACK_FOLDER, rồi dùng class Paths_Info_Summary và method create_signal_summary() để tạo ra bảng tóm tắt thông tin về gói dữ liệu thô:"
   ]
  },
  {
   "cell_type": "code",
   "execution_count": 3,
   "metadata": {},
   "outputs": [
    {
     "data": {
      "text/html": [
       "<div>\n",
       "<style scoped>\n",
       "    .dataframe tbody tr th:only-of-type {\n",
       "        vertical-align: middle;\n",
       "    }\n",
       "\n",
       "    .dataframe tbody tr th {\n",
       "        vertical-align: top;\n",
       "    }\n",
       "\n",
       "    .dataframe thead th {\n",
       "        text-align: right;\n",
       "    }\n",
       "</style>\n",
       "<table border=\"1\" class=\"dataframe\">\n",
       "  <thead>\n",
       "    <tr style=\"text-align: right;\">\n",
       "      <th></th>\n",
       "      <th>full_paths</th>\n",
       "      <th>pack</th>\n",
       "      <th>filename</th>\n",
       "      <th>signal_type</th>\n",
       "      <th>Size (Mb)</th>\n",
       "    </tr>\n",
       "  </thead>\n",
       "  <tbody>\n",
       "    <tr>\n",
       "      <th>0</th>\n",
       "      <td>D:\\Project\\Packs\\Respiratory signal Example\\Ra...</td>\n",
       "      <td>Respiratory signal Example</td>\n",
       "      <td>Abd RIP.txt</td>\n",
       "      <td>abd rip</td>\n",
       "      <td>3.304411</td>\n",
       "    </tr>\n",
       "    <tr>\n",
       "      <th>1</th>\n",
       "      <td>D:\\Project\\Packs\\Respiratory signal Example\\Ra...</td>\n",
       "      <td>Respiratory signal Example</td>\n",
       "      <td>Avg AP.txt</td>\n",
       "      <td>avg ap</td>\n",
       "      <td>4.410931</td>\n",
       "    </tr>\n",
       "    <tr>\n",
       "      <th>2</th>\n",
       "      <td>D:\\Project\\Packs\\Respiratory signal Example\\Ra...</td>\n",
       "      <td>Respiratory signal Example</td>\n",
       "      <td>Dia AP.txt</td>\n",
       "      <td>dia ap</td>\n",
       "      <td>4.401841</td>\n",
       "    </tr>\n",
       "    <tr>\n",
       "      <th>3</th>\n",
       "      <td>D:\\Project\\Packs\\Respiratory signal Example\\Ra...</td>\n",
       "      <td>Respiratory signal Example</td>\n",
       "      <td>ECG.txt</td>\n",
       "      <td>ecg</td>\n",
       "      <td>67.016486</td>\n",
       "    </tr>\n",
       "    <tr>\n",
       "      <th>4</th>\n",
       "      <td>D:\\Project\\Packs\\Respiratory signal Example\\Ra...</td>\n",
       "      <td>Respiratory signal Example</td>\n",
       "      <td>EMG1.txt</td>\n",
       "      <td>emg1</td>\n",
       "      <td>48.448591</td>\n",
       "    </tr>\n",
       "  </tbody>\n",
       "</table>\n",
       "</div>"
      ],
      "text/plain": [
       "                                          full_paths  \\\n",
       "0  D:\\Project\\Packs\\Respiratory signal Example\\Ra...   \n",
       "1  D:\\Project\\Packs\\Respiratory signal Example\\Ra...   \n",
       "2  D:\\Project\\Packs\\Respiratory signal Example\\Ra...   \n",
       "3  D:\\Project\\Packs\\Respiratory signal Example\\Ra...   \n",
       "4  D:\\Project\\Packs\\Respiratory signal Example\\Ra...   \n",
       "\n",
       "                         pack     filename signal_type  Size (Mb)  \n",
       "0  Respiratory signal Example  Abd RIP.txt     abd rip   3.304411  \n",
       "1  Respiratory signal Example   Avg AP.txt      avg ap   4.410931  \n",
       "2  Respiratory signal Example   Dia AP.txt      dia ap   4.401841  \n",
       "3  Respiratory signal Example      ECG.txt         ecg  67.016486  \n",
       "4  Respiratory signal Example     EMG1.txt        emg1  48.448591  "
      ]
     },
     "execution_count": 3,
     "metadata": {},
     "output_type": "execute_result"
    }
   ],
   "source": [
    "PACK_FOLDER = 'D:\\Project\\Packs'\n",
    "\n",
    "pack = Paths_Info_Summary(PACK_FOLDER)\n",
    "pinfo = pack.create_signal_summary()\n",
    "\n",
    "pinfo.head()"
   ]
  },
  {
   "cell_type": "markdown",
   "metadata": {},
   "source": [
    "# Chọn mẫu và dán nhãn bằng class DataSampler\n",
    "\n",
    "\n",
    "## Mục tiêu giả định\n",
    "\n",
    "Nhi đặt ra một tình huống giả định: ta cần thực hiện 1 thí nghiệm Machine learning với mục tiêu: phân tích tự động 3 kênh tín hiệu hô hấp, nhằm phân loại 3 trạng thái: Ngưng thở (Apnea), Giảm thở (Hypopnea), và Bình thường trong khi ngủ.\n",
    "\n",
    "## Thiết kế quy trình chọn mẫu\n",
    "\n",
    "Nhi thiết kế thí nghiệm như sau:\n",
    "\n",
    "1) Ta sẽ giảm tần số lấy mẫu từ 32Hz xuống còn 10 Hz (kinh nghiệm cho thấy là vừa đủ để giữ lại các đặc tính của tín hiệu).\n",
    "\n",
    "2) Ta đặt ra đơn vị quan sát (instance, observation unit) cho mô hình Machine learning là 1 cửa sổ trượt với kích thước = 10 giây. Ta sẽ di chuyển cửa sổ này dọc theo chiều dài của chuỗi tín hiệu, với tỉ lệ chồng lắp giữa 2 cửa sổ liên tiếp là 50% (chọn mẫu tăng cường) và dán nhãn biến cố hô hấp cho mỗi cửa sổ.\n",
    "\n",
    "3) Ta lọc bỏ tất cả những phân đoạn trong trạng thái tỉnh thức (giả định là có 1 mô hình khác sẽ phân biệt Thức/Ngủ). \n",
    "\n",
    "## Mô tả quy trình\n",
    "\n",
    "Sau đó, Nhi viết code để tạo ra 1 class Data_Sampler trong module raw_data_parser của package module1 để thi hành quy trình 10 bước:\n",
    "\n",
    "**Bước 1**: Tải dữ liệu SpO2, ở samp_freq 10 Hz (vì trên lâm sàng, biến cố ngưng, giảm thở ngoài giảm biên độ tín hiệu lưu lượng thông khí, phải thỏa tiêu chí có kèm theo giảm bão hòa oxy máu).\n",
    "\n",
    "**Bước 2**: Tải dữ liệu hypno, ở samp_freq tùy chọn = 10 Hz (để lọc bỏ những phân đoạn tỉnh thức)\n",
    "\n",
    "**Bước 3**: Tải dữ liệu biến cố hô hấp (respi_evt), ở samp_freq tùy chọn (timestamp của mỗi biến cố sẽ được dùng để dán nhãn cho các cửa sổ)\n",
    "\n",
    "**Bước 4**: Tải dữ liệu vi thức (ma), ở samp_freq tùy chọn (ở kích thước 10 Hz, biến cố vi thức có thể lọt vào trong cửa sổ quan sát, và vi thức là  biến cố độc lập với ngưng giảm thở, nên ta cho vào như 1 class thứ 4 của mô hình.\n",
    "\n",
    "**Bước 5**: Kiểm tra, loại tất cả những biến cố hô hấp xảy ra trong khi thức (hypno label = 0)\n",
    "\n",
    "**Bước 6**: Tải đồng loạt 4 kênh tín hiệu thô, và ghép lại thành dataframe signal_pack\n",
    "\n",
    "**Bước 7**: Thực hiện chọn mẫu với 1 cửa sổ trượt kích thước = 100, có hoặc không có overlap\n",
    "\n",
    "**Bước 8**: Dán nhãn vi thức, biến cố hô hấp và hypno cho mỗi cửa sổ quan sát\n",
    "\n",
    "**Bước 9**: Tạo 1 danh sách biến cố hô hấp rút gọn, chỉ gồm những cửa sổ trong khi ngủ (hypno khác 0)\n",
    "\n",
    "**Bước 10**: Tạo attribute patient_db, à 1 dictionary chứa toàn bộ nguyên liệu cần thiết cho thí nghiệm, và lưu lại như 1 attribute của class, bao gồm: \n",
    "\n",
    "        'ID' : tên bệnh nhân (data pack),\n",
    "        'SpO2': chuỗi dữ liệu SpO2,\n",
    "        'Raw_signal', : dataframe chứa 4 kênh tín hiệu: Flow_th, Abd_RIP, Tx_RIP, và OESP\n",
    "        'Resp_evt': Thông tin về biến cố hô hấp,\n",
    "        'Hypno': thông tin về trạng thái giấc ngủ,\n",
    "        'MA': thông tin về biến cố vi thức,\n",
    "        'Sampling': index của các cửa sổ chọn mẫu, kèm theo label của Resp và Hypno\n",
    "        \n",
    "Class DataSampler này còn cho phép sao lưu lại attribute patient_db này dưới định dạng pickle, để có thể tải và dùng trực tiếp mà không cần lặp lại 10 bước nêu trên.\n",
    "\n",
    "Nhi trình diễn cách sử dụng class này như sau:"
   ]
  },
  {
   "cell_type": "code",
   "execution_count": 4,
   "metadata": {},
   "outputs": [
    {
     "name": "stdout",
     "output_type": "stream",
     "text": [
      "Tải thành công kênh SpO2\n",
      "Tải thành công chuỗi Hypnogram\n",
      "Tải thành công chuỗi biến cố hô hấp\n",
      "Tải thành công chuỗi biến cố vi thức giấc\n",
      "Đồng bộ hóa thành công tất cả kết quả PSG scoring\n",
      "Khởi động tác vụ song song, tải 4 kênh tín hiệu\n"
     ]
    },
    {
     "data": {
      "application/vnd.jupyter.widget-view+json": {
       "model_id": "b7cddf22c0f3434eb3b0709ad563e893",
       "version_major": 2,
       "version_minor": 0
      },
      "text/plain": [
       "HBox(children=(FloatProgress(value=0.0, max=4.0), HTML(value='')))"
      ]
     },
     "metadata": {},
     "output_type": "display_data"
    },
    {
     "name": "stdout",
     "output_type": "stream",
     "text": [
      "Tải và tái chọn mẫu thành công kênh tx rip\n",
      "Tải và tái chọn mẫu thành công kênh flow th\n",
      "Tải và tái chọn mẫu thành công kênh abd rip\n",
      "Tải và tái chọn mẫu thành công kênh oesp\n",
      "\n",
      "Đã tải xong 4 kênh tín hiệu\n",
      "Hoàn tất tải dữ liệu thô\n",
      "Áp dụng lấy mẫu tăng cường, kích thước = 100, tỉ lệ overlap = 0.5\n",
      "Hoàn tất công đoạn lấy mẫu\n",
      "Dán nhãn xong cho Biến cố vi thức\n",
      "Dán nhãn xong cho Biến cố hô hấp\n",
      "Dán nhãn xong cho Hypnogram\n"
     ]
    }
   ],
   "source": [
    "db = Data_Sampler(samp_freq = 10,\n",
    "                 raw_data_folder = PACK_FOLDER,\n",
    "                 df_paths = pinfo,\n",
    "                 patient_id = 'Respiratory signal Example',\n",
    "                  size = 100,\n",
    "                 overlap = 0.5)"
   ]
  },
  {
   "cell_type": "markdown",
   "metadata": {},
   "source": [
    "Khi gọi object db, ta biết tên bệnh nhân:"
   ]
  },
  {
   "cell_type": "code",
   "execution_count": 5,
   "metadata": {},
   "outputs": [
    {
     "data": {
      "text/plain": [
       "Đây là data base cho pack dữ liệu Respiratory signal Example"
      ]
     },
     "execution_count": 5,
     "metadata": {},
     "output_type": "execute_result"
    }
   ],
   "source": [
    "db"
   ]
  },
  {
   "cell_type": "markdown",
   "metadata": {},
   "source": [
    "Kết quả của quy trình chọn mẫu, dán nhãn được lưu trong attribute patient_db:"
   ]
  },
  {
   "cell_type": "code",
   "execution_count": 6,
   "metadata": {},
   "outputs": [
    {
     "data": {
      "text/plain": [
       "dict_keys(['ID', 'SpO2', 'Raw_signal', 'Resp_evt', 'Hypno', 'MA', 'Sampling'])"
      ]
     },
     "execution_count": 6,
     "metadata": {},
     "output_type": "execute_result"
    }
   ],
   "source": [
    "db.patient_db.keys()"
   ]
  },
  {
   "cell_type": "markdown",
   "metadata": {},
   "source": [
    "## Cấu trúc dữ liệu sau chọn mẫu\n",
    "\n",
    "### Tên bệnh nhân\n",
    "\n",
    "ID của bệnh nhân được lưu trong key 'ID', hoặc attribute db.patient_id"
   ]
  },
  {
   "cell_type": "code",
   "execution_count": 7,
   "metadata": {},
   "outputs": [
    {
     "data": {
      "text/plain": [
       "'Respiratory signal Example'"
      ]
     },
     "execution_count": 7,
     "metadata": {},
     "output_type": "execute_result"
    }
   ],
   "source": [
    "db.patient_db['ID']"
   ]
  },
  {
   "cell_type": "code",
   "execution_count": 8,
   "metadata": {},
   "outputs": [
    {
     "data": {
      "text/plain": [
       "'Respiratory signal Example'"
      ]
     },
     "execution_count": 8,
     "metadata": {},
     "output_type": "execute_result"
    }
   ],
   "source": [
    "db.patient_id"
   ]
  },
  {
   "cell_type": "markdown",
   "metadata": {},
   "source": [
    "### Tín hiệu SpO2\n",
    "\n",
    "Chuỗi định lượng liên tục có datetime index, định dạng pd.Series"
   ]
  },
  {
   "cell_type": "code",
   "execution_count": 9,
   "metadata": {},
   "outputs": [
    {
     "data": {
      "text/plain": [
       "2017-09-30 22:52:18+02:00           97.0\n",
       "2017-09-30 22:52:18.100000+02:00    97.0\n",
       "2017-09-30 22:52:18.200000+02:00    97.0\n",
       "2017-09-30 22:52:18.300000+02:00    97.0\n",
       "2017-09-30 22:52:18.400000+02:00    97.0\n",
       "                                    ... \n",
       "2017-10-01 06:19:23.500000+02:00    96.0\n",
       "2017-10-01 06:19:23.600000+02:00    96.0\n",
       "2017-10-01 06:19:23.700000+02:00    96.0\n",
       "2017-10-01 06:19:23.800000+02:00    96.0\n",
       "2017-10-01 06:19:23.900000+02:00    96.0\n",
       "Freq: 100L, Name: spo2, Length: 268260, dtype: float64"
      ]
     },
     "execution_count": 9,
     "metadata": {},
     "output_type": "execute_result"
    }
   ],
   "source": [
    "db.patient_db['SpO2']"
   ]
  },
  {
   "cell_type": "markdown",
   "metadata": {},
   "source": [
    "### Dataframe 4 kênh tín hiệu hô hấp\n",
    "\n",
    "Đây là dạng điển hình của dữ liệu chuỗi cho bài toán phân tích tín hiệu đa kênh, tất cả đều đồng bộ ở tần số 10 Hz và chung timestamps (SpO2 cũng vậy)"
   ]
  },
  {
   "cell_type": "code",
   "execution_count": 10,
   "metadata": {},
   "outputs": [
    {
     "data": {
      "text/html": [
       "<div>\n",
       "<style scoped>\n",
       "    .dataframe tbody tr th:only-of-type {\n",
       "        vertical-align: middle;\n",
       "    }\n",
       "\n",
       "    .dataframe tbody tr th {\n",
       "        vertical-align: top;\n",
       "    }\n",
       "\n",
       "    .dataframe thead th {\n",
       "        text-align: right;\n",
       "    }\n",
       "</style>\n",
       "<table border=\"1\" class=\"dataframe\">\n",
       "  <thead>\n",
       "    <tr style=\"text-align: right;\">\n",
       "      <th></th>\n",
       "      <th>tx rip</th>\n",
       "      <th>flow th</th>\n",
       "      <th>abd rip</th>\n",
       "      <th>oesp</th>\n",
       "    </tr>\n",
       "  </thead>\n",
       "  <tbody>\n",
       "    <tr>\n",
       "      <th>2017-09-30 22:52:18+02:00</th>\n",
       "      <td>-351.0</td>\n",
       "      <td>133.0</td>\n",
       "      <td>-22.0</td>\n",
       "      <td>-99.3</td>\n",
       "    </tr>\n",
       "    <tr>\n",
       "      <th>2017-09-30 22:52:18.100000+02:00</th>\n",
       "      <td>-670.0</td>\n",
       "      <td>48.0</td>\n",
       "      <td>-20.0</td>\n",
       "      <td>-99.4</td>\n",
       "    </tr>\n",
       "    <tr>\n",
       "      <th>2017-09-30 22:52:18.200000+02:00</th>\n",
       "      <td>-813.0</td>\n",
       "      <td>-22.0</td>\n",
       "      <td>-16.0</td>\n",
       "      <td>-99.4</td>\n",
       "    </tr>\n",
       "    <tr>\n",
       "      <th>2017-09-30 22:52:18.300000+02:00</th>\n",
       "      <td>-908.0</td>\n",
       "      <td>-91.0</td>\n",
       "      <td>-12.0</td>\n",
       "      <td>-100.4</td>\n",
       "    </tr>\n",
       "    <tr>\n",
       "      <th>2017-09-30 22:52:18.400000+02:00</th>\n",
       "      <td>-946.0</td>\n",
       "      <td>-160.0</td>\n",
       "      <td>-8.0</td>\n",
       "      <td>-99.8</td>\n",
       "    </tr>\n",
       "    <tr>\n",
       "      <th>...</th>\n",
       "      <td>...</td>\n",
       "      <td>...</td>\n",
       "      <td>...</td>\n",
       "      <td>...</td>\n",
       "    </tr>\n",
       "    <tr>\n",
       "      <th>2017-10-01 06:19:23.500000+02:00</th>\n",
       "      <td>-111.0</td>\n",
       "      <td>135.0</td>\n",
       "      <td>260.0</td>\n",
       "      <td>-100.3</td>\n",
       "    </tr>\n",
       "    <tr>\n",
       "      <th>2017-10-01 06:19:23.600000+02:00</th>\n",
       "      <td>-94.0</td>\n",
       "      <td>55.0</td>\n",
       "      <td>148.0</td>\n",
       "      <td>-99.6</td>\n",
       "    </tr>\n",
       "    <tr>\n",
       "      <th>2017-10-01 06:19:23.700000+02:00</th>\n",
       "      <td>-74.0</td>\n",
       "      <td>-8.0</td>\n",
       "      <td>64.0</td>\n",
       "      <td>-99.4</td>\n",
       "    </tr>\n",
       "    <tr>\n",
       "      <th>2017-10-01 06:19:23.800000+02:00</th>\n",
       "      <td>-50.0</td>\n",
       "      <td>-65.0</td>\n",
       "      <td>-12.0</td>\n",
       "      <td>-99.8</td>\n",
       "    </tr>\n",
       "    <tr>\n",
       "      <th>2017-10-01 06:19:23.900000+02:00</th>\n",
       "      <td>-24.0</td>\n",
       "      <td>-113.0</td>\n",
       "      <td>-88.0</td>\n",
       "      <td>-98.5</td>\n",
       "    </tr>\n",
       "  </tbody>\n",
       "</table>\n",
       "<p>268260 rows × 4 columns</p>\n",
       "</div>"
      ],
      "text/plain": [
       "                                  tx rip  flow th  abd rip   oesp\n",
       "2017-09-30 22:52:18+02:00         -351.0    133.0    -22.0  -99.3\n",
       "2017-09-30 22:52:18.100000+02:00  -670.0     48.0    -20.0  -99.4\n",
       "2017-09-30 22:52:18.200000+02:00  -813.0    -22.0    -16.0  -99.4\n",
       "2017-09-30 22:52:18.300000+02:00  -908.0    -91.0    -12.0 -100.4\n",
       "2017-09-30 22:52:18.400000+02:00  -946.0   -160.0     -8.0  -99.8\n",
       "...                                  ...      ...      ...    ...\n",
       "2017-10-01 06:19:23.500000+02:00  -111.0    135.0    260.0 -100.3\n",
       "2017-10-01 06:19:23.600000+02:00   -94.0     55.0    148.0  -99.6\n",
       "2017-10-01 06:19:23.700000+02:00   -74.0     -8.0     64.0  -99.4\n",
       "2017-10-01 06:19:23.800000+02:00   -50.0    -65.0    -12.0  -99.8\n",
       "2017-10-01 06:19:23.900000+02:00   -24.0   -113.0    -88.0  -98.5\n",
       "\n",
       "[268260 rows x 4 columns]"
      ]
     },
     "execution_count": 10,
     "metadata": {},
     "output_type": "execute_result"
    }
   ],
   "source": [
    "db.patient_db['Raw_signal']"
   ]
  },
  {
   "cell_type": "markdown",
   "metadata": {},
   "source": [
    "### Thông tin về các biến cố mục tiêu\n",
    "\n",
    "3 keys 'Resp_evt', 'Hypno', 'MA' tương ứng với thông tin về biến cố hô hấp, trạng tái giấc ngủ, và vi thức, mỗi nhóm đều chứa một dictionary bên trong, với 4 keys là 'Evt_list', 'Raw', 'Label', 'Code'"
   ]
  },
  {
   "cell_type": "code",
   "execution_count": 11,
   "metadata": {},
   "outputs": [
    {
     "data": {
      "text/plain": [
       "dict_keys(['Evt_list', 'Raw', 'Label', 'Code'])"
      ]
     },
     "execution_count": 11,
     "metadata": {},
     "output_type": "execute_result"
    }
   ],
   "source": [
    "db.patient_db['Resp_evt'].keys()"
   ]
  },
  {
   "cell_type": "markdown",
   "metadata": {},
   "source": [
    "'Evt_list' chứa danh sách biến cố, 1 dataframe có cấu trúc mỗi hàng là 1 biến cố, và 4 cột:'evt_start, 'evt_stop', 'evt_info'(thời gian mỗi biến cố) và 'evt_value' (nhãn kết quả)"
   ]
  },
  {
   "cell_type": "code",
   "execution_count": 13,
   "metadata": {},
   "outputs": [
    {
     "data": {
      "text/html": [
       "<div>\n",
       "<style scoped>\n",
       "    .dataframe tbody tr th:only-of-type {\n",
       "        vertical-align: middle;\n",
       "    }\n",
       "\n",
       "    .dataframe tbody tr th {\n",
       "        vertical-align: top;\n",
       "    }\n",
       "\n",
       "    .dataframe thead th {\n",
       "        text-align: right;\n",
       "    }\n",
       "</style>\n",
       "<table border=\"1\" class=\"dataframe\">\n",
       "  <thead>\n",
       "    <tr style=\"text-align: right;\">\n",
       "      <th></th>\n",
       "      <th>evt_start</th>\n",
       "      <th>evt_stop</th>\n",
       "      <th>evt_info</th>\n",
       "      <th>evt_value</th>\n",
       "    </tr>\n",
       "  </thead>\n",
       "  <tbody>\n",
       "    <tr>\n",
       "      <th>0</th>\n",
       "      <td>2017-09-30 23:20:53.900000+02:00</td>\n",
       "      <td>2017-09-30 23:21:04.700000+02:00</td>\n",
       "      <td>10.9</td>\n",
       "      <td>4.0</td>\n",
       "    </tr>\n",
       "    <tr>\n",
       "      <th>1</th>\n",
       "      <td>2017-09-30 23:22:36.400000+02:00</td>\n",
       "      <td>2017-09-30 23:23:03.800000+02:00</td>\n",
       "      <td>27.5</td>\n",
       "      <td>3.0</td>\n",
       "    </tr>\n",
       "    <tr>\n",
       "      <th>2</th>\n",
       "      <td>2017-09-30 23:23:20.600000+02:00</td>\n",
       "      <td>2017-09-30 23:23:29.900000+02:00</td>\n",
       "      <td>9.4</td>\n",
       "      <td>4.0</td>\n",
       "    </tr>\n",
       "    <tr>\n",
       "      <th>3</th>\n",
       "      <td>2017-09-30 23:25:38.400000+02:00</td>\n",
       "      <td>2017-09-30 23:26:07.400000+02:00</td>\n",
       "      <td>29.1</td>\n",
       "      <td>2.0</td>\n",
       "    </tr>\n",
       "    <tr>\n",
       "      <th>4</th>\n",
       "      <td>2017-09-30 23:26:12.100000+02:00</td>\n",
       "      <td>2017-09-30 23:26:56.700000+02:00</td>\n",
       "      <td>44.7</td>\n",
       "      <td>2.0</td>\n",
       "    </tr>\n",
       "    <tr>\n",
       "      <th>...</th>\n",
       "      <td>...</td>\n",
       "      <td>...</td>\n",
       "      <td>...</td>\n",
       "      <td>...</td>\n",
       "    </tr>\n",
       "    <tr>\n",
       "      <th>81</th>\n",
       "      <td>2017-10-01 05:43:48.900000+02:00</td>\n",
       "      <td>2017-10-01 05:46:38+02:00</td>\n",
       "      <td>169.2</td>\n",
       "      <td>1.0</td>\n",
       "    </tr>\n",
       "    <tr>\n",
       "      <th>82</th>\n",
       "      <td>2017-10-01 05:46:38.400000+02:00</td>\n",
       "      <td>2017-10-01 05:46:55+02:00</td>\n",
       "      <td>16.7</td>\n",
       "      <td>3.0</td>\n",
       "    </tr>\n",
       "    <tr>\n",
       "      <th>83</th>\n",
       "      <td>2017-10-01 05:47:17.300000+02:00</td>\n",
       "      <td>2017-10-01 06:06:20.900000+02:00</td>\n",
       "      <td>1143.7</td>\n",
       "      <td>2.0</td>\n",
       "    </tr>\n",
       "    <tr>\n",
       "      <th>84</th>\n",
       "      <td>2017-10-01 06:06:28.400000+02:00</td>\n",
       "      <td>2017-10-01 06:06:40.300000+02:00</td>\n",
       "      <td>12.0</td>\n",
       "      <td>4.0</td>\n",
       "    </tr>\n",
       "    <tr>\n",
       "      <th>85</th>\n",
       "      <td>2017-10-01 06:08:02.500000+02:00</td>\n",
       "      <td>2017-10-01 06:15:29.900000+02:00</td>\n",
       "      <td>447.5</td>\n",
       "      <td>2.0</td>\n",
       "    </tr>\n",
       "  </tbody>\n",
       "</table>\n",
       "<p>86 rows × 4 columns</p>\n",
       "</div>"
      ],
      "text/plain": [
       "                          evt_start                         evt_stop  \\\n",
       "0  2017-09-30 23:20:53.900000+02:00 2017-09-30 23:21:04.700000+02:00   \n",
       "1  2017-09-30 23:22:36.400000+02:00 2017-09-30 23:23:03.800000+02:00   \n",
       "2  2017-09-30 23:23:20.600000+02:00 2017-09-30 23:23:29.900000+02:00   \n",
       "3  2017-09-30 23:25:38.400000+02:00 2017-09-30 23:26:07.400000+02:00   \n",
       "4  2017-09-30 23:26:12.100000+02:00 2017-09-30 23:26:56.700000+02:00   \n",
       "..                              ...                              ...   \n",
       "81 2017-10-01 05:43:48.900000+02:00        2017-10-01 05:46:38+02:00   \n",
       "82 2017-10-01 05:46:38.400000+02:00        2017-10-01 05:46:55+02:00   \n",
       "83 2017-10-01 05:47:17.300000+02:00 2017-10-01 06:06:20.900000+02:00   \n",
       "84 2017-10-01 06:06:28.400000+02:00 2017-10-01 06:06:40.300000+02:00   \n",
       "85 2017-10-01 06:08:02.500000+02:00 2017-10-01 06:15:29.900000+02:00   \n",
       "\n",
       "    evt_info  evt_value  \n",
       "0       10.9        4.0  \n",
       "1       27.5        3.0  \n",
       "2        9.4        4.0  \n",
       "3       29.1        2.0  \n",
       "4       44.7        2.0  \n",
       "..       ...        ...  \n",
       "81     169.2        1.0  \n",
       "82      16.7        3.0  \n",
       "83    1143.7        2.0  \n",
       "84      12.0        4.0  \n",
       "85     447.5        2.0  \n",
       "\n",
       "[86 rows x 4 columns]"
      ]
     },
     "execution_count": 13,
     "metadata": {},
     "output_type": "execute_result"
    }
   ],
   "source": [
    "db.patient_db['Resp_evt']['Evt_list']"
   ]
  },
  {
   "cell_type": "markdown",
   "metadata": {},
   "source": [
    "'Raw' chứa chuỗi định tính liên tục, được đồng bộ hóa với tín hiệu thô. Công dụng chính của định dạng này, dùng để vẽ biểu đồ, hoặc dán nhãn cho cửa sổ trượt sử dụng hàm Mode (yếu vị), tuy nhiên cách dán nhãn này không hay, bên dưới Nhi sẽ giải thích về algorithm dán nhãn dựa vào tỉ lệ trùng khớp khi đối chiếu timestamps của cửa sổ và của biến cố."
   ]
  },
  {
   "cell_type": "code",
   "execution_count": 14,
   "metadata": {},
   "outputs": [
    {
     "data": {
      "text/html": [
       "<div>\n",
       "<style scoped>\n",
       "    .dataframe tbody tr th:only-of-type {\n",
       "        vertical-align: middle;\n",
       "    }\n",
       "\n",
       "    .dataframe tbody tr th {\n",
       "        vertical-align: top;\n",
       "    }\n",
       "\n",
       "    .dataframe thead th {\n",
       "        text-align: right;\n",
       "    }\n",
       "</style>\n",
       "<table border=\"1\" class=\"dataframe\">\n",
       "  <thead>\n",
       "    <tr style=\"text-align: right;\">\n",
       "      <th></th>\n",
       "      <th>value</th>\n",
       "    </tr>\n",
       "  </thead>\n",
       "  <tbody>\n",
       "    <tr>\n",
       "      <th>2017-09-30 23:00:00+02:00</th>\n",
       "      <td>0</td>\n",
       "    </tr>\n",
       "    <tr>\n",
       "      <th>2017-09-30 23:00:00.100000+02:00</th>\n",
       "      <td>0</td>\n",
       "    </tr>\n",
       "    <tr>\n",
       "      <th>2017-09-30 23:00:00.200000+02:00</th>\n",
       "      <td>0</td>\n",
       "    </tr>\n",
       "    <tr>\n",
       "      <th>2017-09-30 23:00:00.300000+02:00</th>\n",
       "      <td>0</td>\n",
       "    </tr>\n",
       "    <tr>\n",
       "      <th>2017-09-30 23:00:00.400000+02:00</th>\n",
       "      <td>0</td>\n",
       "    </tr>\n",
       "    <tr>\n",
       "      <th>...</th>\n",
       "      <td>...</td>\n",
       "    </tr>\n",
       "    <tr>\n",
       "      <th>2017-10-01 06:15:30.400000+02:00</th>\n",
       "      <td>2</td>\n",
       "    </tr>\n",
       "    <tr>\n",
       "      <th>2017-10-01 06:15:30.500000+02:00</th>\n",
       "      <td>2</td>\n",
       "    </tr>\n",
       "    <tr>\n",
       "      <th>2017-10-01 06:15:30.600000+02:00</th>\n",
       "      <td>2</td>\n",
       "    </tr>\n",
       "    <tr>\n",
       "      <th>2017-10-01 06:15:30.700000+02:00</th>\n",
       "      <td>2</td>\n",
       "    </tr>\n",
       "    <tr>\n",
       "      <th>2017-10-01 06:15:30.800000+02:00</th>\n",
       "      <td>2</td>\n",
       "    </tr>\n",
       "  </tbody>\n",
       "</table>\n",
       "<p>261309 rows × 1 columns</p>\n",
       "</div>"
      ],
      "text/plain": [
       "                                  value\n",
       "2017-09-30 23:00:00+02:00             0\n",
       "2017-09-30 23:00:00.100000+02:00      0\n",
       "2017-09-30 23:00:00.200000+02:00      0\n",
       "2017-09-30 23:00:00.300000+02:00      0\n",
       "2017-09-30 23:00:00.400000+02:00      0\n",
       "...                                 ...\n",
       "2017-10-01 06:15:30.400000+02:00      2\n",
       "2017-10-01 06:15:30.500000+02:00      2\n",
       "2017-10-01 06:15:30.600000+02:00      2\n",
       "2017-10-01 06:15:30.700000+02:00      2\n",
       "2017-10-01 06:15:30.800000+02:00      2\n",
       "\n",
       "[261309 rows x 1 columns]"
      ]
     },
     "execution_count": 14,
     "metadata": {},
     "output_type": "execute_result"
    }
   ],
   "source": [
    "db.patient_db['Resp_evt']['Raw']"
   ]
  },
  {
   "cell_type": "markdown",
   "metadata": {},
   "source": [
    "'Label' chứa kết quả của algorithm dán nhãn, nó có dạng 1 dataframe, với mỗi hàng là 1 cửa sổ (có 5364 cửa sổ đã được tạo ra), \n",
    "\n",
    "cột Resp_score chứa tỉ lệ trùng khớp (0.0 có nghĩa là cửa sổ hoàn toàn nằm bên ngoài biến cố, 1.0 có nghĩa là cửa sổ hoàn toàn rơi vào bên trong biến cố). Có thể dùng 1 ngưỡng như 0.7 hay 0.8 để lọc bỏ những cửa sổ không đặc thù, hay giai đoạn chuyển tiếp. \n",
    "\n",
    "Cột Resp_lab chứa giá trị của nhãn (label), ý nghĩa của các con số này được quy định trong db.patient_db['Resp_evt']['Code']"
   ]
  },
  {
   "cell_type": "code",
   "execution_count": 15,
   "metadata": {},
   "outputs": [
    {
     "data": {
      "text/html": [
       "<div>\n",
       "<style scoped>\n",
       "    .dataframe tbody tr th:only-of-type {\n",
       "        vertical-align: middle;\n",
       "    }\n",
       "\n",
       "    .dataframe tbody tr th {\n",
       "        vertical-align: top;\n",
       "    }\n",
       "\n",
       "    .dataframe thead th {\n",
       "        text-align: right;\n",
       "    }\n",
       "</style>\n",
       "<table border=\"1\" class=\"dataframe\">\n",
       "  <thead>\n",
       "    <tr style=\"text-align: right;\">\n",
       "      <th></th>\n",
       "      <th>Resp_score</th>\n",
       "      <th>Resp_lab</th>\n",
       "    </tr>\n",
       "  </thead>\n",
       "  <tbody>\n",
       "    <tr>\n",
       "      <th>0</th>\n",
       "      <td>0.0</td>\n",
       "      <td>0.0</td>\n",
       "    </tr>\n",
       "    <tr>\n",
       "      <th>1</th>\n",
       "      <td>0.0</td>\n",
       "      <td>0.0</td>\n",
       "    </tr>\n",
       "    <tr>\n",
       "      <th>2</th>\n",
       "      <td>0.0</td>\n",
       "      <td>0.0</td>\n",
       "    </tr>\n",
       "    <tr>\n",
       "      <th>3</th>\n",
       "      <td>0.0</td>\n",
       "      <td>0.0</td>\n",
       "    </tr>\n",
       "    <tr>\n",
       "      <th>4</th>\n",
       "      <td>0.0</td>\n",
       "      <td>0.0</td>\n",
       "    </tr>\n",
       "    <tr>\n",
       "      <th>...</th>\n",
       "      <td>...</td>\n",
       "      <td>...</td>\n",
       "    </tr>\n",
       "    <tr>\n",
       "      <th>5359</th>\n",
       "      <td>0.0</td>\n",
       "      <td>0.0</td>\n",
       "    </tr>\n",
       "    <tr>\n",
       "      <th>5360</th>\n",
       "      <td>0.0</td>\n",
       "      <td>0.0</td>\n",
       "    </tr>\n",
       "    <tr>\n",
       "      <th>5361</th>\n",
       "      <td>0.0</td>\n",
       "      <td>0.0</td>\n",
       "    </tr>\n",
       "    <tr>\n",
       "      <th>5362</th>\n",
       "      <td>0.0</td>\n",
       "      <td>0.0</td>\n",
       "    </tr>\n",
       "    <tr>\n",
       "      <th>5363</th>\n",
       "      <td>0.0</td>\n",
       "      <td>0.0</td>\n",
       "    </tr>\n",
       "  </tbody>\n",
       "</table>\n",
       "<p>5364 rows × 2 columns</p>\n",
       "</div>"
      ],
      "text/plain": [
       "      Resp_score  Resp_lab\n",
       "0            0.0       0.0\n",
       "1            0.0       0.0\n",
       "2            0.0       0.0\n",
       "3            0.0       0.0\n",
       "4            0.0       0.0\n",
       "...          ...       ...\n",
       "5359         0.0       0.0\n",
       "5360         0.0       0.0\n",
       "5361         0.0       0.0\n",
       "5362         0.0       0.0\n",
       "5363         0.0       0.0\n",
       "\n",
       "[5364 rows x 2 columns]"
      ]
     },
     "execution_count": 15,
     "metadata": {},
     "output_type": "execute_result"
    }
   ],
   "source": [
    "db.patient_db['Resp_evt']['Label']"
   ]
  },
  {
   "cell_type": "code",
   "execution_count": 16,
   "metadata": {},
   "outputs": [
    {
     "data": {
      "text/plain": [
       "{'FL': 1, 'RERA': 2, 'OH': 3, 'CH': 4, 'OA': 5, 'CA': 6, 'MA': 8}"
      ]
     },
     "execution_count": 16,
     "metadata": {},
     "output_type": "execute_result"
    }
   ],
   "source": [
    "db.patient_db['Resp_evt']['Code']"
   ]
  },
  {
   "cell_type": "markdown",
   "metadata": {},
   "source": [
    "### Thông tin về indexing và labelling\n",
    "\n",
    "key ['Sampling']['Label'] chứa 1 dataframe, với nội dung là tóm tắt thông tin indexing (cột start/end) của tất cả cửa sổ trong trạng thái ngủ (4867 cửa sổ), tỉ lệ trùng khớp (score) và giá trị label (lab) cho 2 loại biến cố: Hypno và Resp:\n",
    "\n",
    "start/end tương ứng với thứ tự chính xác (đếm từ 0) trên chuỗi dữ liệu thô, từ đó có thể trích xuất đúng phân đoạn tín hiệu dài 10 s hay 100 giá trị cho mỗi cửa sổ."
   ]
  },
  {
   "cell_type": "code",
   "execution_count": 17,
   "metadata": {},
   "outputs": [
    {
     "data": {
      "text/html": [
       "<div>\n",
       "<style scoped>\n",
       "    .dataframe tbody tr th:only-of-type {\n",
       "        vertical-align: middle;\n",
       "    }\n",
       "\n",
       "    .dataframe tbody tr th {\n",
       "        vertical-align: top;\n",
       "    }\n",
       "\n",
       "    .dataframe thead th {\n",
       "        text-align: right;\n",
       "    }\n",
       "</style>\n",
       "<table border=\"1\" class=\"dataframe\">\n",
       "  <thead>\n",
       "    <tr style=\"text-align: right;\">\n",
       "      <th></th>\n",
       "      <th>start</th>\n",
       "      <th>end</th>\n",
       "      <th>Hypno_score</th>\n",
       "      <th>Hypno_lab</th>\n",
       "      <th>Resp_score</th>\n",
       "      <th>Resp_lab</th>\n",
       "    </tr>\n",
       "  </thead>\n",
       "  <tbody>\n",
       "    <tr>\n",
       "      <th>0</th>\n",
       "      <td>16550</td>\n",
       "      <td>16650</td>\n",
       "      <td>30.0</td>\n",
       "      <td>1.0</td>\n",
       "      <td>0.0</td>\n",
       "      <td>0.0</td>\n",
       "    </tr>\n",
       "    <tr>\n",
       "      <th>1</th>\n",
       "      <td>16600</td>\n",
       "      <td>16700</td>\n",
       "      <td>80.0</td>\n",
       "      <td>1.0</td>\n",
       "      <td>0.0</td>\n",
       "      <td>0.0</td>\n",
       "    </tr>\n",
       "    <tr>\n",
       "      <th>2</th>\n",
       "      <td>16650</td>\n",
       "      <td>16750</td>\n",
       "      <td>100.0</td>\n",
       "      <td>1.0</td>\n",
       "      <td>0.0</td>\n",
       "      <td>0.0</td>\n",
       "    </tr>\n",
       "    <tr>\n",
       "      <th>3</th>\n",
       "      <td>16700</td>\n",
       "      <td>16800</td>\n",
       "      <td>100.0</td>\n",
       "      <td>1.0</td>\n",
       "      <td>0.0</td>\n",
       "      <td>0.0</td>\n",
       "    </tr>\n",
       "    <tr>\n",
       "      <th>4</th>\n",
       "      <td>16750</td>\n",
       "      <td>16850</td>\n",
       "      <td>100.0</td>\n",
       "      <td>1.0</td>\n",
       "      <td>0.0</td>\n",
       "      <td>0.0</td>\n",
       "    </tr>\n",
       "    <tr>\n",
       "      <th>...</th>\n",
       "      <td>...</td>\n",
       "      <td>...</td>\n",
       "      <td>...</td>\n",
       "      <td>...</td>\n",
       "      <td>...</td>\n",
       "      <td>...</td>\n",
       "    </tr>\n",
       "    <tr>\n",
       "      <th>4862</th>\n",
       "      <td>265650</td>\n",
       "      <td>265750</td>\n",
       "      <td>100.0</td>\n",
       "      <td>2.0</td>\n",
       "      <td>100.0</td>\n",
       "      <td>2.0</td>\n",
       "    </tr>\n",
       "    <tr>\n",
       "      <th>4863</th>\n",
       "      <td>265700</td>\n",
       "      <td>265800</td>\n",
       "      <td>100.0</td>\n",
       "      <td>2.0</td>\n",
       "      <td>100.0</td>\n",
       "      <td>2.0</td>\n",
       "    </tr>\n",
       "    <tr>\n",
       "      <th>4864</th>\n",
       "      <td>265750</td>\n",
       "      <td>265850</td>\n",
       "      <td>100.0</td>\n",
       "      <td>2.0</td>\n",
       "      <td>100.0</td>\n",
       "      <td>2.0</td>\n",
       "    </tr>\n",
       "    <tr>\n",
       "      <th>4865</th>\n",
       "      <td>265800</td>\n",
       "      <td>265900</td>\n",
       "      <td>100.0</td>\n",
       "      <td>2.0</td>\n",
       "      <td>100.0</td>\n",
       "      <td>2.0</td>\n",
       "    </tr>\n",
       "    <tr>\n",
       "      <th>4866</th>\n",
       "      <td>265850</td>\n",
       "      <td>265950</td>\n",
       "      <td>70.0</td>\n",
       "      <td>2.0</td>\n",
       "      <td>70.0</td>\n",
       "      <td>2.0</td>\n",
       "    </tr>\n",
       "  </tbody>\n",
       "</table>\n",
       "<p>4867 rows × 6 columns</p>\n",
       "</div>"
      ],
      "text/plain": [
       "       start     end  Hypno_score  Hypno_lab  Resp_score  Resp_lab\n",
       "0      16550   16650         30.0        1.0         0.0       0.0\n",
       "1      16600   16700         80.0        1.0         0.0       0.0\n",
       "2      16650   16750        100.0        1.0         0.0       0.0\n",
       "3      16700   16800        100.0        1.0         0.0       0.0\n",
       "4      16750   16850        100.0        1.0         0.0       0.0\n",
       "...      ...     ...          ...        ...         ...       ...\n",
       "4862  265650  265750        100.0        2.0       100.0       2.0\n",
       "4863  265700  265800        100.0        2.0       100.0       2.0\n",
       "4864  265750  265850        100.0        2.0       100.0       2.0\n",
       "4865  265800  265900        100.0        2.0       100.0       2.0\n",
       "4866  265850  265950         70.0        2.0        70.0       2.0\n",
       "\n",
       "[4867 rows x 6 columns]"
      ]
     },
     "execution_count": 17,
     "metadata": {},
     "output_type": "execute_result"
    }
   ],
   "source": [
    "db.patient_db['Sampling']['Label']"
   ]
  },
  {
   "cell_type": "markdown",
   "metadata": {},
   "source": [
    "key ['Sampling']['Windows'] chứa 1 dataframe với indexing start/end gốc cho toàn bộ 5364 cửa sổ chọn mẫu (chưa rút gọn). "
   ]
  },
  {
   "cell_type": "code",
   "execution_count": 19,
   "metadata": {},
   "outputs": [
    {
     "data": {
      "text/html": [
       "<div>\n",
       "<style scoped>\n",
       "    .dataframe tbody tr th:only-of-type {\n",
       "        vertical-align: middle;\n",
       "    }\n",
       "\n",
       "    .dataframe tbody tr th {\n",
       "        vertical-align: top;\n",
       "    }\n",
       "\n",
       "    .dataframe thead th {\n",
       "        text-align: right;\n",
       "    }\n",
       "</style>\n",
       "<table border=\"1\" class=\"dataframe\">\n",
       "  <thead>\n",
       "    <tr style=\"text-align: right;\">\n",
       "      <th></th>\n",
       "      <th>start</th>\n",
       "      <th>end</th>\n",
       "    </tr>\n",
       "  </thead>\n",
       "  <tbody>\n",
       "    <tr>\n",
       "      <th>0</th>\n",
       "      <td>0</td>\n",
       "      <td>100</td>\n",
       "    </tr>\n",
       "    <tr>\n",
       "      <th>1</th>\n",
       "      <td>50</td>\n",
       "      <td>150</td>\n",
       "    </tr>\n",
       "    <tr>\n",
       "      <th>2</th>\n",
       "      <td>100</td>\n",
       "      <td>200</td>\n",
       "    </tr>\n",
       "    <tr>\n",
       "      <th>3</th>\n",
       "      <td>150</td>\n",
       "      <td>250</td>\n",
       "    </tr>\n",
       "    <tr>\n",
       "      <th>4</th>\n",
       "      <td>200</td>\n",
       "      <td>300</td>\n",
       "    </tr>\n",
       "    <tr>\n",
       "      <th>...</th>\n",
       "      <td>...</td>\n",
       "      <td>...</td>\n",
       "    </tr>\n",
       "    <tr>\n",
       "      <th>5359</th>\n",
       "      <td>267950</td>\n",
       "      <td>268050</td>\n",
       "    </tr>\n",
       "    <tr>\n",
       "      <th>5360</th>\n",
       "      <td>268000</td>\n",
       "      <td>268100</td>\n",
       "    </tr>\n",
       "    <tr>\n",
       "      <th>5361</th>\n",
       "      <td>268050</td>\n",
       "      <td>268150</td>\n",
       "    </tr>\n",
       "    <tr>\n",
       "      <th>5362</th>\n",
       "      <td>268100</td>\n",
       "      <td>268200</td>\n",
       "    </tr>\n",
       "    <tr>\n",
       "      <th>5363</th>\n",
       "      <td>268150</td>\n",
       "      <td>268250</td>\n",
       "    </tr>\n",
       "  </tbody>\n",
       "</table>\n",
       "<p>5364 rows × 2 columns</p>\n",
       "</div>"
      ],
      "text/plain": [
       "       start     end\n",
       "0          0     100\n",
       "1         50     150\n",
       "2        100     200\n",
       "3        150     250\n",
       "4        200     300\n",
       "...      ...     ...\n",
       "5359  267950  268050\n",
       "5360  268000  268100\n",
       "5361  268050  268150\n",
       "5362  268100  268200\n",
       "5363  268150  268250\n",
       "\n",
       "[5364 rows x 2 columns]"
      ]
     },
     "execution_count": 19,
     "metadata": {},
     "output_type": "execute_result"
    }
   ],
   "source": [
    "db.patient_db['Sampling']['Windows']"
   ]
  },
  {
   "cell_type": "markdown",
   "metadata": {},
   "source": [
    "## Algorithm dán nhãn\n",
    "\n",
    "Để dán nhãn cho từng cửa sổ, dựa vào timestamp của chúng, Nhi áp dụng algorithm như sau:\n",
    "\n",
    "Trước hết, tạo ra danh sách indexing cho toàn bộ cửa sổ theo trình tự thời gian (chứa trong key patient_db['Sampling']['Windows']),\n",
    "\n",
    "Tại mỗi hàng, dùng giá trị start/end để lấy datetime index từ dataframe dữ liệu thô, và trích ra phân đoạn tương ứng.\n",
    "\n",
    "Đối chiếu datetime index của phân đoạn này với timestamp evt_start/evt_end của 1 biến cố Đầu tiên trong danh sách biến cố;\n",
    "\n",
    "Nếu cửa sổ hiện tại hoàn toàn nằm bên ngoài, và trước khi biến cố đầu tiên xảy ra, ta biết ngay label của nó = 0, và overlap score = 0; ta tiếp tục vòng lặp để đối chiếu cửa sổ tiếp theo với cùng biến cố.\n",
    "\n",
    "Nếu cửa sổ hiện tại trùng khớp với 1 tỉ lệ nào đó > 0 với biến cố đầu tiên trong danh sách, ta dán cho nó label của biến cố đó, và tiếp tục kiểm tra cửa số tiếp theo,\n",
    "\n",
    "Nếu cửa sổ hiện tại hoàn toàn vượt qua khỏi biến cố đầu tiên, tỉ lệ trùng khớp cũng xem như = 0, lúc này ta LOẠI BỎ biến cố đầu tiên khỏi danh sách, như vậy danh sách biến cố ngày càng ngắn lại, biến cố tiếp theo sẽ vượt lên hàng đầu.\n",
    "\n",
    "Quy trình này được lặp lại cho đến khi toàn bộ danh sách biến cố đã bị xóa hết, nó trở nên rỗng. Lúc này mọi cửa sổ còn lại sẽ nhận label = 0, và overlap_score = 0.\n",
    "\n",
    "# Lưu dữ liệu thành pickle file\n",
    "\n",
    "method save_to_pickle() sẽ tạo ra 1 folder có tên là D_Respiratory trong thư mục hiện hành, bên trong có file DB_Respiratory.pickle có kích thước khoảng 31 Mb.\n",
    "\n",
    "pickle là giải pháp khá hay để lưu trữ dữ liệu cho thí nghiệm này, và như ta thấy, bên trong file này sẽ chứa toàn bộ thông tin cần thiết cho những bước tiếp theo."
   ]
  },
  {
   "cell_type": "code",
   "execution_count": 20,
   "metadata": {},
   "outputs": [
    {
     "name": "stdout",
     "output_type": "stream",
     "text": [
      "Lưu thành công gói dữ liệu cho bệnh nhân Respiratory\n"
     ]
    }
   ],
   "source": [
    "db.save_to_pickle()"
   ]
  },
  {
   "cell_type": "markdown",
   "metadata": {},
   "source": [
    "# Tổng kết\n",
    "\n",
    "Bài thực hành khép lại ở đây, trong bài này các bạn đã biết cách thiết kế và thực hiện 1 quy trình lấy mẫu và dán nhãn cho 1 bài toán Machine learning multiclass trên dữ liệu chuỗi tín hiệu đa kênh. Dù chỉ có tính chất giả định, quy trình làm việc này có thể được tùy biến dễ dàng cho những bài toán tương tự, hoặc một thí nghiệm mang tính chất mô tả, suy diễn thống kê.\n",
    "\n",
    "Lưu ý: ngoài hình thức lấy mẫu dạng cửa sổ trượt với độ dài cố định, có kèm hay không kèm overlap, còn có nhiều cách lấy mẫu khác, thí dụ lấy mẫu từng cặp 2-3 cửa sổ liên tiếp (đơn vị quan sát đích +/- 1 khoảng trước hoặc sau). Trong các quy trình deep learning, có thể xây dựng data generator để sinh batch dữ liệu ở thời gian thực ngay trong khi huấn luyện; hoặc chuyển dữ liệu thô thành những tấm ảnh (spectrogram, scaleogram...). Những cách làm này này quá phức tạp nên không được chọn áp dụng trong bài.\n",
    "\n",
    "Hẹn gặp các bạn trong bài tiếp theo."
   ]
  },
  {
   "cell_type": "code",
   "execution_count": null,
   "metadata": {},
   "outputs": [],
   "source": []
  }
 ],
 "metadata": {
  "kernelspec": {
   "display_name": "Python 3",
   "language": "python",
   "name": "python3"
  },
  "language_info": {
   "codemirror_mode": {
    "name": "ipython",
    "version": 3
   },
   "file_extension": ".py",
   "mimetype": "text/x-python",
   "name": "python",
   "nbconvert_exporter": "python",
   "pygments_lexer": "ipython3",
   "version": "3.8.3"
  },
  "toc": {
   "base_numbering": 1,
   "nav_menu": {},
   "number_sections": true,
   "sideBar": true,
   "skip_h1_title": false,
   "title_cell": "Table of Contents",
   "title_sidebar": "Contents",
   "toc_cell": false,
   "toc_position": {},
   "toc_section_display": true,
   "toc_window_display": false
  }
 },
 "nbformat": 4,
 "nbformat_minor": 4
}
