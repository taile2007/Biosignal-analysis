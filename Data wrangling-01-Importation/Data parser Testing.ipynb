{
 "cells": [
  {
   "cell_type": "code",
   "execution_count": 1,
   "metadata": {},
   "outputs": [
    {
     "name": "stdout",
     "output_type": "stream",
     "text": [
      "-----\n",
      "sinfo       0.3.1\n",
      "-----\n",
      "IPython             7.16.1\n",
      "jupyter_client      6.1.6\n",
      "jupyter_core        4.6.3\n",
      "jupyterlab          2.1.5\n",
      "notebook            6.0.3\n",
      "-----\n",
      "Python 3.8.3 (default, Jul  2 2020, 17:30:36) [MSC v.1916 64 bit (AMD64)]\n",
      "Windows-10-10.0.18362-SP0\n",
      "16 logical CPU cores, Intel64 Family 6 Model 165 Stepping 2, GenuineIntel\n",
      "-----\n",
      "Session information updated at 2020-12-19 09:26\n"
     ]
    }
   ],
   "source": [
    "from sinfo import sinfo\n",
    "sinfo()"
   ]
  },
  {
   "cell_type": "code",
   "execution_count": 2,
   "metadata": {},
   "outputs": [],
   "source": [
    "import os\n",
    "import sys\n",
    "import re\n",
    "import numpy as np\n",
    "import pandas as pd\n",
    "from module1.raw_data_parser import *"
   ]
  },
  {
   "cell_type": "code",
   "execution_count": 3,
   "metadata": {},
   "outputs": [],
   "source": [
    "PACK_FOLDER = 'D:\\Project\\Packs'\n",
    "\n",
    "pack = Paths_Info_Summary(PACK_FOLDER)\n",
    "pinfo = pack.create_signal_summary()\n",
    "case = DataImporter(data_path = PACK_FOLDER, \n",
    "                pack_folder = 'Respiratory signal Example',\n",
    "                 signal_summary = pinfo,\n",
    "                )"
   ]
  },
  {
   "cell_type": "code",
   "execution_count": 4,
   "metadata": {},
   "outputs": [
    {
     "data": {
      "text/plain": [
       "<module1.raw_data_parser.Paths_Info_Summary at 0x21e48663670>"
      ]
     },
     "execution_count": 4,
     "metadata": {},
     "output_type": "execute_result"
    }
   ],
   "source": [
    "pack"
   ]
  },
  {
   "cell_type": "code",
   "execution_count": 5,
   "metadata": {},
   "outputs": [
    {
     "data": {
      "text/plain": [
       "'D:\\\\Project\\\\Packs'"
      ]
     },
     "execution_count": 5,
     "metadata": {},
     "output_type": "execute_result"
    }
   ],
   "source": [
    "pack.data_folder"
   ]
  },
  {
   "cell_type": "code",
   "execution_count": 6,
   "metadata": {},
   "outputs": [
    {
     "data": {
      "text/html": [
       "<div>\n",
       "<style scoped>\n",
       "    .dataframe tbody tr th:only-of-type {\n",
       "        vertical-align: middle;\n",
       "    }\n",
       "\n",
       "    .dataframe tbody tr th {\n",
       "        vertical-align: top;\n",
       "    }\n",
       "\n",
       "    .dataframe thead th {\n",
       "        text-align: right;\n",
       "    }\n",
       "</style>\n",
       "<table border=\"1\" class=\"dataframe\">\n",
       "  <thead>\n",
       "    <tr style=\"text-align: right;\">\n",
       "      <th></th>\n",
       "      <th>full_paths</th>\n",
       "      <th>pack</th>\n",
       "      <th>filename</th>\n",
       "      <th>signal_type</th>\n",
       "    </tr>\n",
       "  </thead>\n",
       "  <tbody>\n",
       "    <tr>\n",
       "      <th>0</th>\n",
       "      <td>D:\\Project\\Packs\\Respiratory signal Example\\Ra...</td>\n",
       "      <td>Respiratory signal Example</td>\n",
       "      <td>Abd RIP.txt</td>\n",
       "      <td>abd rip</td>\n",
       "    </tr>\n",
       "    <tr>\n",
       "      <th>1</th>\n",
       "      <td>D:\\Project\\Packs\\Respiratory signal Example\\Ra...</td>\n",
       "      <td>Respiratory signal Example</td>\n",
       "      <td>Avg AP.txt</td>\n",
       "      <td>avg ap</td>\n",
       "    </tr>\n",
       "    <tr>\n",
       "      <th>2</th>\n",
       "      <td>D:\\Project\\Packs\\Respiratory signal Example\\Ra...</td>\n",
       "      <td>Respiratory signal Example</td>\n",
       "      <td>Dia AP.txt</td>\n",
       "      <td>dia ap</td>\n",
       "    </tr>\n",
       "    <tr>\n",
       "      <th>3</th>\n",
       "      <td>D:\\Project\\Packs\\Respiratory signal Example\\Ra...</td>\n",
       "      <td>Respiratory signal Example</td>\n",
       "      <td>ECG.txt</td>\n",
       "      <td>ecg</td>\n",
       "    </tr>\n",
       "    <tr>\n",
       "      <th>4</th>\n",
       "      <td>D:\\Project\\Packs\\Respiratory signal Example\\Ra...</td>\n",
       "      <td>Respiratory signal Example</td>\n",
       "      <td>EMG1.txt</td>\n",
       "      <td>emg1</td>\n",
       "    </tr>\n",
       "    <tr>\n",
       "      <th>5</th>\n",
       "      <td>D:\\Project\\Packs\\Respiratory signal Example\\Ra...</td>\n",
       "      <td>Respiratory signal Example</td>\n",
       "      <td>EMG2.txt</td>\n",
       "      <td>emg2</td>\n",
       "    </tr>\n",
       "    <tr>\n",
       "      <th>6</th>\n",
       "      <td>D:\\Project\\Packs\\Respiratory signal Example\\Ra...</td>\n",
       "      <td>Respiratory signal Example</td>\n",
       "      <td>EMG3.txt</td>\n",
       "      <td>emg3</td>\n",
       "    </tr>\n",
       "    <tr>\n",
       "      <th>7</th>\n",
       "      <td>D:\\Project\\Packs\\Respiratory signal Example\\Ra...</td>\n",
       "      <td>Respiratory signal Example</td>\n",
       "      <td>EMG4.txt</td>\n",
       "      <td>emg4</td>\n",
       "    </tr>\n",
       "    <tr>\n",
       "      <th>8</th>\n",
       "      <td>D:\\Project\\Packs\\Respiratory signal Example\\Ra...</td>\n",
       "      <td>Respiratory signal Example</td>\n",
       "      <td>EMG5.txt</td>\n",
       "      <td>emg5</td>\n",
       "    </tr>\n",
       "    <tr>\n",
       "      <th>9</th>\n",
       "      <td>D:\\Project\\Packs\\Respiratory signal Example\\Ra...</td>\n",
       "      <td>Respiratory signal Example</td>\n",
       "      <td>EMG6.txt</td>\n",
       "      <td>emg6</td>\n",
       "    </tr>\n",
       "    <tr>\n",
       "      <th>10</th>\n",
       "      <td>D:\\Project\\Packs\\Respiratory signal Example\\Ra...</td>\n",
       "      <td>Respiratory signal Example</td>\n",
       "      <td>Flow Pressure.txt</td>\n",
       "      <td>flow pressure</td>\n",
       "    </tr>\n",
       "    <tr>\n",
       "      <th>11</th>\n",
       "      <td>D:\\Project\\Packs\\Respiratory signal Example\\Ra...</td>\n",
       "      <td>Respiratory signal Example</td>\n",
       "      <td>Flow Th.txt</td>\n",
       "      <td>flow th</td>\n",
       "    </tr>\n",
       "    <tr>\n",
       "      <th>12</th>\n",
       "      <td>D:\\Project\\Packs\\Respiratory signal Example\\Ra...</td>\n",
       "      <td>Respiratory signal Example</td>\n",
       "      <td>HMM.txt</td>\n",
       "      <td>hmm</td>\n",
       "    </tr>\n",
       "    <tr>\n",
       "      <th>13</th>\n",
       "      <td>D:\\Project\\Packs\\Respiratory signal Example\\Ra...</td>\n",
       "      <td>Respiratory signal Example</td>\n",
       "      <td>Microphone.txt</td>\n",
       "      <td>microphone</td>\n",
       "    </tr>\n",
       "    <tr>\n",
       "      <th>14</th>\n",
       "      <td>D:\\Project\\Packs\\Respiratory signal Example\\Ra...</td>\n",
       "      <td>Respiratory signal Example</td>\n",
       "      <td>OESP.txt</td>\n",
       "      <td>oesp</td>\n",
       "    </tr>\n",
       "    <tr>\n",
       "      <th>15</th>\n",
       "      <td>D:\\Project\\Packs\\Respiratory signal Example\\Ra...</td>\n",
       "      <td>Respiratory signal Example</td>\n",
       "      <td>Pleth Flowrate.txt</td>\n",
       "      <td>pleth flowrate</td>\n",
       "    </tr>\n",
       "    <tr>\n",
       "      <th>16</th>\n",
       "      <td>D:\\Project\\Packs\\Respiratory signal Example\\Ra...</td>\n",
       "      <td>Respiratory signal Example</td>\n",
       "      <td>PLMl.txt</td>\n",
       "      <td>plml</td>\n",
       "    </tr>\n",
       "    <tr>\n",
       "      <th>17</th>\n",
       "      <td>D:\\Project\\Packs\\Respiratory signal Example\\Ra...</td>\n",
       "      <td>Respiratory signal Example</td>\n",
       "      <td>PLMr.txt</td>\n",
       "      <td>plmr</td>\n",
       "    </tr>\n",
       "    <tr>\n",
       "      <th>18</th>\n",
       "      <td>D:\\Project\\Packs\\Respiratory signal Example\\Ra...</td>\n",
       "      <td>Respiratory signal Example</td>\n",
       "      <td>Pulse.txt</td>\n",
       "      <td>pulse</td>\n",
       "    </tr>\n",
       "    <tr>\n",
       "      <th>19</th>\n",
       "      <td>D:\\Project\\Packs\\Respiratory signal Example\\Ra...</td>\n",
       "      <td>Respiratory signal Example</td>\n",
       "      <td>Snoring P.txt</td>\n",
       "      <td>snoring p</td>\n",
       "    </tr>\n",
       "    <tr>\n",
       "      <th>20</th>\n",
       "      <td>D:\\Project\\Packs\\Respiratory signal Example\\Ra...</td>\n",
       "      <td>Respiratory signal Example</td>\n",
       "      <td>SpO2.txt</td>\n",
       "      <td>spo2</td>\n",
       "    </tr>\n",
       "    <tr>\n",
       "      <th>21</th>\n",
       "      <td>D:\\Project\\Packs\\Respiratory signal Example\\Ra...</td>\n",
       "      <td>Respiratory signal Example</td>\n",
       "      <td>Sys AP.txt</td>\n",
       "      <td>sys ap</td>\n",
       "    </tr>\n",
       "    <tr>\n",
       "      <th>22</th>\n",
       "      <td>D:\\Project\\Packs\\Respiratory signal Example\\Ra...</td>\n",
       "      <td>Respiratory signal Example</td>\n",
       "      <td>Tx RIP.txt</td>\n",
       "      <td>tx rip</td>\n",
       "    </tr>\n",
       "    <tr>\n",
       "      <th>23</th>\n",
       "      <td>D:\\Project\\Packs\\Respiratory signal Example\\Ra...</td>\n",
       "      <td>Respiratory signal Example</td>\n",
       "      <td>VMM.txt</td>\n",
       "      <td>vmm</td>\n",
       "    </tr>\n",
       "    <tr>\n",
       "      <th>24</th>\n",
       "      <td>D:\\Project\\Packs\\Respiratory signal Example\\Sc...</td>\n",
       "      <td>Respiratory signal Example</td>\n",
       "      <td>Desaturations.txt</td>\n",
       "      <td>evt_spo2</td>\n",
       "    </tr>\n",
       "    <tr>\n",
       "      <th>25</th>\n",
       "      <td>D:\\Project\\Packs\\Respiratory signal Example\\Sc...</td>\n",
       "      <td>Respiratory signal Example</td>\n",
       "      <td>Hypnogramme.txt</td>\n",
       "      <td>hypno</td>\n",
       "    </tr>\n",
       "    <tr>\n",
       "      <th>26</th>\n",
       "      <td>D:\\Project\\Packs\\Respiratory signal Example\\Sc...</td>\n",
       "      <td>Respiratory signal Example</td>\n",
       "      <td>Micro Arousals.txt</td>\n",
       "      <td>ma</td>\n",
       "    </tr>\n",
       "    <tr>\n",
       "      <th>27</th>\n",
       "      <td>D:\\Project\\Packs\\Respiratory signal Example\\Sc...</td>\n",
       "      <td>Respiratory signal Example</td>\n",
       "      <td>Respiratory events.txt</td>\n",
       "      <td>respi_evt</td>\n",
       "    </tr>\n",
       "    <tr>\n",
       "      <th>28</th>\n",
       "      <td>D:\\Project\\Packs\\Respiratory signal Example\\Sc...</td>\n",
       "      <td>Respiratory signal Example</td>\n",
       "      <td>SpO2.txt</td>\n",
       "      <td>raw_spo2</td>\n",
       "    </tr>\n",
       "    <tr>\n",
       "      <th>29</th>\n",
       "      <td>D:\\Project\\Packs\\Respiratory signal Example\\Pr...</td>\n",
       "      <td>Respiratory signal Example</td>\n",
       "      <td>Profile.txt</td>\n",
       "      <td>profile</td>\n",
       "    </tr>\n",
       "  </tbody>\n",
       "</table>\n",
       "</div>"
      ],
      "text/plain": [
       "                                           full_paths  \\\n",
       "0   D:\\Project\\Packs\\Respiratory signal Example\\Ra...   \n",
       "1   D:\\Project\\Packs\\Respiratory signal Example\\Ra...   \n",
       "2   D:\\Project\\Packs\\Respiratory signal Example\\Ra...   \n",
       "3   D:\\Project\\Packs\\Respiratory signal Example\\Ra...   \n",
       "4   D:\\Project\\Packs\\Respiratory signal Example\\Ra...   \n",
       "5   D:\\Project\\Packs\\Respiratory signal Example\\Ra...   \n",
       "6   D:\\Project\\Packs\\Respiratory signal Example\\Ra...   \n",
       "7   D:\\Project\\Packs\\Respiratory signal Example\\Ra...   \n",
       "8   D:\\Project\\Packs\\Respiratory signal Example\\Ra...   \n",
       "9   D:\\Project\\Packs\\Respiratory signal Example\\Ra...   \n",
       "10  D:\\Project\\Packs\\Respiratory signal Example\\Ra...   \n",
       "11  D:\\Project\\Packs\\Respiratory signal Example\\Ra...   \n",
       "12  D:\\Project\\Packs\\Respiratory signal Example\\Ra...   \n",
       "13  D:\\Project\\Packs\\Respiratory signal Example\\Ra...   \n",
       "14  D:\\Project\\Packs\\Respiratory signal Example\\Ra...   \n",
       "15  D:\\Project\\Packs\\Respiratory signal Example\\Ra...   \n",
       "16  D:\\Project\\Packs\\Respiratory signal Example\\Ra...   \n",
       "17  D:\\Project\\Packs\\Respiratory signal Example\\Ra...   \n",
       "18  D:\\Project\\Packs\\Respiratory signal Example\\Ra...   \n",
       "19  D:\\Project\\Packs\\Respiratory signal Example\\Ra...   \n",
       "20  D:\\Project\\Packs\\Respiratory signal Example\\Ra...   \n",
       "21  D:\\Project\\Packs\\Respiratory signal Example\\Ra...   \n",
       "22  D:\\Project\\Packs\\Respiratory signal Example\\Ra...   \n",
       "23  D:\\Project\\Packs\\Respiratory signal Example\\Ra...   \n",
       "24  D:\\Project\\Packs\\Respiratory signal Example\\Sc...   \n",
       "25  D:\\Project\\Packs\\Respiratory signal Example\\Sc...   \n",
       "26  D:\\Project\\Packs\\Respiratory signal Example\\Sc...   \n",
       "27  D:\\Project\\Packs\\Respiratory signal Example\\Sc...   \n",
       "28  D:\\Project\\Packs\\Respiratory signal Example\\Sc...   \n",
       "29  D:\\Project\\Packs\\Respiratory signal Example\\Pr...   \n",
       "\n",
       "                          pack                filename     signal_type  \n",
       "0   Respiratory signal Example             Abd RIP.txt         abd rip  \n",
       "1   Respiratory signal Example              Avg AP.txt          avg ap  \n",
       "2   Respiratory signal Example              Dia AP.txt          dia ap  \n",
       "3   Respiratory signal Example                 ECG.txt             ecg  \n",
       "4   Respiratory signal Example                EMG1.txt            emg1  \n",
       "5   Respiratory signal Example                EMG2.txt            emg2  \n",
       "6   Respiratory signal Example                EMG3.txt            emg3  \n",
       "7   Respiratory signal Example                EMG4.txt            emg4  \n",
       "8   Respiratory signal Example                EMG5.txt            emg5  \n",
       "9   Respiratory signal Example                EMG6.txt            emg6  \n",
       "10  Respiratory signal Example       Flow Pressure.txt   flow pressure  \n",
       "11  Respiratory signal Example             Flow Th.txt         flow th  \n",
       "12  Respiratory signal Example                 HMM.txt             hmm  \n",
       "13  Respiratory signal Example          Microphone.txt      microphone  \n",
       "14  Respiratory signal Example                OESP.txt            oesp  \n",
       "15  Respiratory signal Example      Pleth Flowrate.txt  pleth flowrate  \n",
       "16  Respiratory signal Example                PLMl.txt            plml  \n",
       "17  Respiratory signal Example                PLMr.txt            plmr  \n",
       "18  Respiratory signal Example               Pulse.txt           pulse  \n",
       "19  Respiratory signal Example           Snoring P.txt       snoring p  \n",
       "20  Respiratory signal Example                SpO2.txt            spo2  \n",
       "21  Respiratory signal Example              Sys AP.txt          sys ap  \n",
       "22  Respiratory signal Example              Tx RIP.txt          tx rip  \n",
       "23  Respiratory signal Example                 VMM.txt             vmm  \n",
       "24  Respiratory signal Example       Desaturations.txt        evt_spo2  \n",
       "25  Respiratory signal Example         Hypnogramme.txt           hypno  \n",
       "26  Respiratory signal Example      Micro Arousals.txt              ma  \n",
       "27  Respiratory signal Example  Respiratory events.txt       respi_evt  \n",
       "28  Respiratory signal Example                SpO2.txt        raw_spo2  \n",
       "29  Respiratory signal Example             Profile.txt         profile  "
      ]
     },
     "execution_count": 6,
     "metadata": {},
     "output_type": "execute_result"
    }
   ],
   "source": [
    "pinfo"
   ]
  },
  {
   "cell_type": "code",
   "execution_count": 7,
   "metadata": {},
   "outputs": [
    {
     "data": {
      "text/plain": [
       "Đây là data paser cho pack dữ liệu Respiratory signal Example"
      ]
     },
     "execution_count": 7,
     "metadata": {},
     "output_type": "execute_result"
    }
   ],
   "source": [
    "case"
   ]
  },
  {
   "cell_type": "code",
   "execution_count": 8,
   "metadata": {},
   "outputs": [
    {
     "data": {
      "text/plain": [
       "{'Giới tính': 'F', 'Tuổi': 36.32, 'Chiều cao': 176.0, 'Cân nặng': 84.0}"
      ]
     },
     "execution_count": 8,
     "metadata": {},
     "output_type": "execute_result"
    }
   ],
   "source": [
    "patient_info = case.Import_pack_profile()\n",
    "\n",
    "patient_info"
   ]
  },
  {
   "cell_type": "code",
   "execution_count": 9,
   "metadata": {},
   "outputs": [
    {
     "name": "stdout",
     "output_type": "stream",
     "text": [
      "Khởi động tác vụ song song, tải 6 kênh tín hiệu\n"
     ]
    },
    {
     "data": {
      "application/vnd.jupyter.widget-view+json": {
       "model_id": "407ead35120f481eaec9b80427608cbe",
       "version_major": 2,
       "version_minor": 0
      },
      "text/plain": [
       "HBox(children=(FloatProgress(value=0.0, max=6.0), HTML(value='')))"
      ]
     },
     "metadata": {},
     "output_type": "display_data"
    },
    {
     "name": "stdout",
     "output_type": "stream",
     "text": [
      "Tải và tái chọn mẫu thành công kênh tx rip\n",
      "Tải và tái chọn mẫu thành công kênh flow th\n",
      "Tải và tái chọn mẫu thành công kênh abd rip\n",
      "Tải và tái chọn mẫu thành công kênh hmm\n",
      "Tải và tái chọn mẫu thành công kênh sys ap\n",
      "Tải và tái chọn mẫu thành công kênh oesp\n",
      "\n",
      "Đã tải xong 6 kênh tín hiệu\n",
      "Thi hành mất 97.98 giây\n"
     ]
    }
   ],
   "source": [
    "import time\n",
    "\n",
    "start = time.perf_counter()\n",
    "\n",
    "signal_pack = case.import_multiple_raw_data(['tx rip', 'flow th', 'abd rip', \n",
    "                                             'hmm', 'sys ap', 'oesp'], \n",
    "                                            10, \n",
    "                                            n_jobs = 6)\n",
    "\n",
    "end = time.perf_counter()\n",
    "\n",
    "print(f'Thi hành mất {round(end - start, 2)} giây')"
   ]
  },
  {
   "cell_type": "code",
   "execution_count": 10,
   "metadata": {},
   "outputs": [
    {
     "data": {
      "text/plain": [
       "{'tx rip': 2017-09-30 22:52:18+02:00          -351.0\n",
       " 2017-09-30 22:52:18.100000+02:00   -670.0\n",
       " 2017-09-30 22:52:18.200000+02:00   -813.0\n",
       " 2017-09-30 22:52:18.300000+02:00   -908.0\n",
       " 2017-09-30 22:52:18.400000+02:00   -946.0\n",
       "                                     ...  \n",
       " 2017-10-01 06:19:23.500000+02:00   -111.0\n",
       " 2017-10-01 06:19:23.600000+02:00    -94.0\n",
       " 2017-10-01 06:19:23.700000+02:00    -74.0\n",
       " 2017-10-01 06:19:23.800000+02:00    -50.0\n",
       " 2017-10-01 06:19:23.900000+02:00    -24.0\n",
       " Freq: 100L, Name: tx rip, Length: 268260, dtype: float64,\n",
       " 'flow th': 2017-09-30 22:52:18+02:00           133.0\n",
       " 2017-09-30 22:52:18.100000+02:00     48.0\n",
       " 2017-09-30 22:52:18.200000+02:00    -22.0\n",
       " 2017-09-30 22:52:18.300000+02:00    -91.0\n",
       " 2017-09-30 22:52:18.400000+02:00   -160.0\n",
       "                                     ...  \n",
       " 2017-10-01 06:19:23.500000+02:00    135.0\n",
       " 2017-10-01 06:19:23.600000+02:00     55.0\n",
       " 2017-10-01 06:19:23.700000+02:00     -8.0\n",
       " 2017-10-01 06:19:23.800000+02:00    -65.0\n",
       " 2017-10-01 06:19:23.900000+02:00   -113.0\n",
       " Freq: 100L, Name: flow th, Length: 268260, dtype: float64,\n",
       " 'abd rip': 2017-09-30 22:52:18+02:00           -22.0\n",
       " 2017-09-30 22:52:18.100000+02:00    -20.0\n",
       " 2017-09-30 22:52:18.200000+02:00    -16.0\n",
       " 2017-09-30 22:52:18.300000+02:00    -12.0\n",
       " 2017-09-30 22:52:18.400000+02:00     -8.0\n",
       "                                     ...  \n",
       " 2017-10-01 06:19:23.500000+02:00    260.0\n",
       " 2017-10-01 06:19:23.600000+02:00    148.0\n",
       " 2017-10-01 06:19:23.700000+02:00     64.0\n",
       " 2017-10-01 06:19:23.800000+02:00    -12.0\n",
       " 2017-10-01 06:19:23.900000+02:00    -88.0\n",
       " Freq: 100L, Name: abd rip, Length: 268260, dtype: float64,\n",
       " 'hmm': 2017-09-30 22:52:18+02:00          -154.8\n",
       " 2017-09-30 22:52:18.100000+02:00   -154.9\n",
       " 2017-09-30 22:52:18.200000+02:00   -154.8\n",
       " 2017-09-30 22:52:18.300000+02:00   -154.8\n",
       " 2017-09-30 22:52:18.400000+02:00   -154.9\n",
       "                                     ...  \n",
       " 2017-10-01 06:19:23.500000+02:00   -154.9\n",
       " 2017-10-01 06:19:23.600000+02:00   -154.8\n",
       " 2017-10-01 06:19:23.700000+02:00   -154.8\n",
       " 2017-10-01 06:19:23.800000+02:00   -154.8\n",
       " 2017-10-01 06:19:23.900000+02:00   -154.8\n",
       " Freq: 100L, Name: hmm, Length: 268260, dtype: float64,\n",
       " 'sys ap': 2017-09-30 22:52:18+02:00           0.2\n",
       " 2017-09-30 22:52:18.100000+02:00    0.5\n",
       " 2017-09-30 22:52:18.200000+02:00    0.2\n",
       " 2017-09-30 22:52:18.300000+02:00   -0.1\n",
       " 2017-09-30 22:52:18.400000+02:00    0.1\n",
       "                                    ... \n",
       " 2017-10-01 06:19:23.500000+02:00    0.2\n",
       " 2017-10-01 06:19:23.600000+02:00    0.2\n",
       " 2017-10-01 06:19:23.700000+02:00    0.0\n",
       " 2017-10-01 06:19:23.800000+02:00    0.2\n",
       " 2017-10-01 06:19:23.900000+02:00    0.7\n",
       " Freq: 100L, Name: sys ap, Length: 268260, dtype: float64,\n",
       " 'oesp': 2017-09-30 22:52:18+02:00           -99.3\n",
       " 2017-09-30 22:52:18.100000+02:00    -99.4\n",
       " 2017-09-30 22:52:18.200000+02:00    -99.4\n",
       " 2017-09-30 22:52:18.300000+02:00   -100.4\n",
       " 2017-09-30 22:52:18.400000+02:00    -99.8\n",
       "                                     ...  \n",
       " 2017-10-01 06:19:23.500000+02:00   -100.3\n",
       " 2017-10-01 06:19:23.600000+02:00    -99.6\n",
       " 2017-10-01 06:19:23.700000+02:00    -99.4\n",
       " 2017-10-01 06:19:23.800000+02:00    -99.8\n",
       " 2017-10-01 06:19:23.900000+02:00    -98.5\n",
       " Freq: 100L, Name: oesp, Length: 268260, dtype: float64}"
      ]
     },
     "execution_count": 10,
     "metadata": {},
     "output_type": "execute_result"
    }
   ],
   "source": [
    "signal_pack"
   ]
  },
  {
   "cell_type": "code",
   "execution_count": 12,
   "metadata": {},
   "outputs": [
    {
     "name": "stdout",
     "output_type": "stream",
     "text": [
      "Không tìm thấy data cho tín hiệu  flow ở bệnh nhân này !\n"
     ]
    }
   ],
   "source": [
    "sample_df, resampled_df, fs = case.import_raw_data(signal_type='flow', \n",
    "                                                   samp_freq=None)"
   ]
  },
  {
   "cell_type": "code",
   "execution_count": 13,
   "metadata": {},
   "outputs": [],
   "source": [
    "sample_df, resampled_df, fs = case.import_raw_data(signal_type='flow th', \n",
    "                                                   samp_freq=None)"
   ]
  },
  {
   "cell_type": "code",
   "execution_count": 14,
   "metadata": {},
   "outputs": [
    {
     "data": {
      "text/plain": [
       "2017-09-30 22:52:18+02:00           133.0\n",
       "2017-09-30 22:52:18.031250+02:00    114.0\n",
       "2017-09-30 22:52:18.062500+02:00     96.0\n",
       "2017-09-30 22:52:18.093750+02:00     71.0\n",
       "2017-09-30 22:52:18.125000+02:00     48.0\n",
       "                                    ...  \n",
       "2017-10-01 06:19:23.843750+02:00    -79.0\n",
       "2017-10-01 06:19:23.875000+02:00    -97.0\n",
       "2017-10-01 06:19:23.906250+02:00   -113.0\n",
       "2017-10-01 06:19:23.937500+02:00   -127.0\n",
       "2017-10-01 06:19:23.968750+02:00   -137.0\n",
       "Name: flow th, Length: 858432, dtype: float64"
      ]
     },
     "execution_count": 14,
     "metadata": {},
     "output_type": "execute_result"
    }
   ],
   "source": [
    "sample_df"
   ]
  },
  {
   "cell_type": "code",
   "execution_count": 15,
   "metadata": {},
   "outputs": [
    {
     "data": {
      "text/plain": [
       "32"
      ]
     },
     "execution_count": 15,
     "metadata": {},
     "output_type": "execute_result"
    }
   ],
   "source": [
    "fs"
   ]
  },
  {
   "cell_type": "code",
   "execution_count": 17,
   "metadata": {},
   "outputs": [],
   "source": [
    "startstop, fs = case.import_raw_data(signal_type='flow th', samp_freq=None, n_lines = 5)"
   ]
  },
  {
   "cell_type": "code",
   "execution_count": 18,
   "metadata": {},
   "outputs": [
    {
     "name": "stdout",
     "output_type": "stream",
     "text": [
      "2017-09-30 22:52:18+02:00   NaN\n",
      "2017-10-01 06:19:24+02:00   NaN\n",
      "dtype: float64\n"
     ]
    }
   ],
   "source": [
    "print(startstop)"
   ]
  },
  {
   "cell_type": "code",
   "execution_count": 19,
   "metadata": {},
   "outputs": [],
   "source": [
    "sample_df, resampled_df, fs = case.import_raw_data(signal_type='oesp', \n",
    "                                                   samp_freq=10)"
   ]
  },
  {
   "cell_type": "code",
   "execution_count": 20,
   "metadata": {},
   "outputs": [
    {
     "data": {
      "text/plain": [
       "2017-09-30 22:52:18+02:00           -99.3\n",
       "2017-09-30 22:52:18.031250+02:00   -100.1\n",
       "2017-09-30 22:52:18.062500+02:00    -98.5\n",
       "2017-09-30 22:52:18.093750+02:00    -99.4\n",
       "2017-09-30 22:52:18.125000+02:00    -99.4\n",
       "                                    ...  \n",
       "2017-10-01 06:19:23.843750+02:00    -99.0\n",
       "2017-10-01 06:19:23.875000+02:00    -99.9\n",
       "2017-10-01 06:19:23.906250+02:00    -98.5\n",
       "2017-10-01 06:19:23.937500+02:00   -101.0\n",
       "2017-10-01 06:19:23.968750+02:00    -98.7\n",
       "Name: oesp, Length: 858432, dtype: float64"
      ]
     },
     "execution_count": 20,
     "metadata": {},
     "output_type": "execute_result"
    }
   ],
   "source": [
    "sample_df"
   ]
  },
  {
   "cell_type": "code",
   "execution_count": 21,
   "metadata": {},
   "outputs": [
    {
     "data": {
      "text/plain": [
       "32"
      ]
     },
     "execution_count": 21,
     "metadata": {},
     "output_type": "execute_result"
    }
   ],
   "source": [
    "fs"
   ]
  },
  {
   "cell_type": "code",
   "execution_count": 22,
   "metadata": {},
   "outputs": [
    {
     "data": {
      "text/plain": [
       "2017-09-30 22:52:18+02:00           -99.3\n",
       "2017-09-30 22:52:18.100000+02:00    -99.4\n",
       "2017-09-30 22:52:18.200000+02:00    -99.4\n",
       "2017-09-30 22:52:18.300000+02:00   -100.4\n",
       "2017-09-30 22:52:18.400000+02:00    -99.8\n",
       "                                    ...  \n",
       "2017-10-01 06:19:23.500000+02:00   -100.3\n",
       "2017-10-01 06:19:23.600000+02:00    -99.6\n",
       "2017-10-01 06:19:23.700000+02:00    -99.4\n",
       "2017-10-01 06:19:23.800000+02:00    -99.8\n",
       "2017-10-01 06:19:23.900000+02:00    -98.5\n",
       "Freq: 100L, Name: oesp, Length: 268260, dtype: float64"
      ]
     },
     "execution_count": 22,
     "metadata": {},
     "output_type": "execute_result"
    }
   ],
   "source": [
    "resampled_df"
   ]
  },
  {
   "cell_type": "code",
   "execution_count": 23,
   "metadata": {
    "scrolled": true
   },
   "outputs": [],
   "source": [
    "df_data, df_resampled, dict_map, window_len = \\\n",
    "case.import_adjacent_window_evt(signal_type='hypno', \n",
    "                                samp_freq = 10, \n",
    "                                reshape = False)"
   ]
  },
  {
   "cell_type": "code",
   "execution_count": 24,
   "metadata": {},
   "outputs": [
    {
     "data": {
      "text/plain": [
       "2017-09-30 23:00:00+02:00    0\n",
       "2017-09-30 23:00:30+02:00    0\n",
       "2017-09-30 23:01:00+02:00    0\n",
       "2017-09-30 23:01:30+02:00    0\n",
       "2017-09-30 23:02:00+02:00    0\n",
       "                            ..\n",
       "2017-10-01 06:14:00+02:00    2\n",
       "2017-10-01 06:14:30+02:00    2\n",
       "2017-10-01 06:15:00+02:00    2\n",
       "2017-10-01 06:15:30+02:00    0\n",
       "2017-10-01 06:16:00+02:00    0\n",
       "Name: hypno, Length: 873, dtype: int64"
      ]
     },
     "execution_count": 24,
     "metadata": {},
     "output_type": "execute_result"
    }
   ],
   "source": [
    "df_data"
   ]
  },
  {
   "cell_type": "code",
   "execution_count": 25,
   "metadata": {},
   "outputs": [
    {
     "data": {
      "text/plain": [
       "2017-09-30 23:00:00+02:00           0\n",
       "2017-09-30 23:00:00.100000+02:00    0\n",
       "2017-09-30 23:00:00.200000+02:00    0\n",
       "2017-09-30 23:00:00.300000+02:00    0\n",
       "2017-09-30 23:00:00.400000+02:00    0\n",
       "                                   ..\n",
       "2017-10-01 06:15:59.600000+02:00    0\n",
       "2017-10-01 06:15:59.700000+02:00    0\n",
       "2017-10-01 06:15:59.800000+02:00    0\n",
       "2017-10-01 06:15:59.900000+02:00    0\n",
       "2017-10-01 06:16:00+02:00           0\n",
       "Freq: 100L, Name: hypno, Length: 261601, dtype: int64"
      ]
     },
     "execution_count": 25,
     "metadata": {},
     "output_type": "execute_result"
    }
   ],
   "source": [
    "df_resampled"
   ]
  },
  {
   "cell_type": "code",
   "execution_count": 26,
   "metadata": {},
   "outputs": [
    {
     "data": {
      "text/plain": [
       "{'Wake': 0, 'N1': 1, 'N2': 2, 'N3': 3, 'REM': 4, 'N4': -1, 'Mvt': -1}"
      ]
     },
     "execution_count": 26,
     "metadata": {},
     "output_type": "execute_result"
    }
   ],
   "source": [
    "dict_map"
   ]
  },
  {
   "cell_type": "code",
   "execution_count": 27,
   "metadata": {},
   "outputs": [
    {
     "data": {
      "text/plain": [
       "30.0"
      ]
     },
     "execution_count": 27,
     "metadata": {},
     "output_type": "execute_result"
    }
   ],
   "source": [
    "window_len"
   ]
  },
  {
   "cell_type": "code",
   "execution_count": 28,
   "metadata": {},
   "outputs": [],
   "source": [
    "df_data, df_resampled, df_event, dict_map, window_len = \\\n",
    "case.import_adjacent_window_evt(signal_type='hypno', \n",
    "                                samp_freq = 10, \n",
    "                                reshape = True)"
   ]
  },
  {
   "cell_type": "code",
   "execution_count": 29,
   "metadata": {},
   "outputs": [
    {
     "data": {
      "text/plain": [
       "{'Wake': 0, 'N1': 1, 'N2': 2, 'N3': 3, 'REM': 4, 'N4': -1, 'Mvt': -1}"
      ]
     },
     "execution_count": 29,
     "metadata": {},
     "output_type": "execute_result"
    }
   ],
   "source": [
    "dict_map"
   ]
  },
  {
   "cell_type": "code",
   "execution_count": 30,
   "metadata": {},
   "outputs": [
    {
     "data": {
      "text/plain": [
       "30.0"
      ]
     },
     "execution_count": 30,
     "metadata": {},
     "output_type": "execute_result"
    }
   ],
   "source": [
    "window_len"
   ]
  },
  {
   "cell_type": "code",
   "execution_count": 31,
   "metadata": {},
   "outputs": [
    {
     "data": {
      "text/plain": [
       "2017-09-30 23:00:00+02:00           0\n",
       "2017-09-30 23:00:00.100000+02:00    0\n",
       "2017-09-30 23:00:00.200000+02:00    0\n",
       "2017-09-30 23:00:00.300000+02:00    0\n",
       "2017-09-30 23:00:00.400000+02:00    0\n",
       "                                   ..\n",
       "2017-10-01 06:15:59.600000+02:00    0\n",
       "2017-10-01 06:15:59.700000+02:00    0\n",
       "2017-10-01 06:15:59.800000+02:00    0\n",
       "2017-10-01 06:15:59.900000+02:00    0\n",
       "2017-10-01 06:16:00+02:00           0\n",
       "Freq: 100L, Name: hypno, Length: 261601, dtype: int64"
      ]
     },
     "execution_count": 31,
     "metadata": {},
     "output_type": "execute_result"
    }
   ],
   "source": [
    "df_resampled"
   ]
  },
  {
   "cell_type": "code",
   "execution_count": 32,
   "metadata": {},
   "outputs": [
    {
     "data": {
      "text/plain": [
       "2017-09-30 23:00:00+02:00    0\n",
       "2017-09-30 23:00:30+02:00    0\n",
       "2017-09-30 23:01:00+02:00    0\n",
       "2017-09-30 23:01:30+02:00    0\n",
       "2017-09-30 23:02:00+02:00    0\n",
       "                            ..\n",
       "2017-10-01 06:14:00+02:00    2\n",
       "2017-10-01 06:14:30+02:00    2\n",
       "2017-10-01 06:15:00+02:00    2\n",
       "2017-10-01 06:15:30+02:00    0\n",
       "2017-10-01 06:16:00+02:00    0\n",
       "Name: hypno, Length: 873, dtype: int64"
      ]
     },
     "execution_count": 32,
     "metadata": {},
     "output_type": "execute_result"
    }
   ],
   "source": [
    "df_data"
   ]
  },
  {
   "cell_type": "code",
   "execution_count": 33,
   "metadata": {},
   "outputs": [
    {
     "data": {
      "text/html": [
       "<div>\n",
       "<style scoped>\n",
       "    .dataframe tbody tr th:only-of-type {\n",
       "        vertical-align: middle;\n",
       "    }\n",
       "\n",
       "    .dataframe tbody tr th {\n",
       "        vertical-align: top;\n",
       "    }\n",
       "\n",
       "    .dataframe thead th {\n",
       "        text-align: right;\n",
       "    }\n",
       "</style>\n",
       "<table border=\"1\" class=\"dataframe\">\n",
       "  <thead>\n",
       "    <tr style=\"text-align: right;\">\n",
       "      <th></th>\n",
       "      <th>evt_start</th>\n",
       "      <th>evt_stop</th>\n",
       "      <th>evt_info</th>\n",
       "      <th>evt_value</th>\n",
       "    </tr>\n",
       "  </thead>\n",
       "  <tbody>\n",
       "    <tr>\n",
       "      <th>0</th>\n",
       "      <td>2017-09-30 23:00:00+02:00</td>\n",
       "      <td>2017-09-30 23:19:59.900000+02:00</td>\n",
       "      <td>1200.0</td>\n",
       "      <td>0.0</td>\n",
       "    </tr>\n",
       "    <tr>\n",
       "      <th>1</th>\n",
       "      <td>2017-09-30 23:20:00+02:00</td>\n",
       "      <td>2017-09-30 23:20:29.900000+02:00</td>\n",
       "      <td>30.0</td>\n",
       "      <td>1.0</td>\n",
       "    </tr>\n",
       "    <tr>\n",
       "      <th>2</th>\n",
       "      <td>2017-09-30 23:20:30+02:00</td>\n",
       "      <td>2017-09-30 23:23:29.900000+02:00</td>\n",
       "      <td>180.0</td>\n",
       "      <td>2.0</td>\n",
       "    </tr>\n",
       "    <tr>\n",
       "      <th>3</th>\n",
       "      <td>2017-09-30 23:23:30+02:00</td>\n",
       "      <td>2017-09-30 23:23:59.900000+02:00</td>\n",
       "      <td>30.0</td>\n",
       "      <td>0.0</td>\n",
       "    </tr>\n",
       "    <tr>\n",
       "      <th>4</th>\n",
       "      <td>2017-09-30 23:24:00+02:00</td>\n",
       "      <td>2017-09-30 23:25:29.900000+02:00</td>\n",
       "      <td>90.0</td>\n",
       "      <td>1.0</td>\n",
       "    </tr>\n",
       "    <tr>\n",
       "      <th>...</th>\n",
       "      <td>...</td>\n",
       "      <td>...</td>\n",
       "      <td>...</td>\n",
       "      <td>...</td>\n",
       "    </tr>\n",
       "    <tr>\n",
       "      <th>79</th>\n",
       "      <td>2017-10-01 06:04:30+02:00</td>\n",
       "      <td>2017-10-01 06:06:59.900000+02:00</td>\n",
       "      <td>150.0</td>\n",
       "      <td>2.0</td>\n",
       "    </tr>\n",
       "    <tr>\n",
       "      <th>80</th>\n",
       "      <td>2017-10-01 06:07:00+02:00</td>\n",
       "      <td>2017-10-01 06:07:59.900000+02:00</td>\n",
       "      <td>60.0</td>\n",
       "      <td>0.0</td>\n",
       "    </tr>\n",
       "    <tr>\n",
       "      <th>81</th>\n",
       "      <td>2017-10-01 06:08:00+02:00</td>\n",
       "      <td>2017-10-01 06:08:59.900000+02:00</td>\n",
       "      <td>60.0</td>\n",
       "      <td>1.0</td>\n",
       "    </tr>\n",
       "    <tr>\n",
       "      <th>82</th>\n",
       "      <td>2017-10-01 06:09:00+02:00</td>\n",
       "      <td>2017-10-01 06:15:29.900000+02:00</td>\n",
       "      <td>390.0</td>\n",
       "      <td>2.0</td>\n",
       "    </tr>\n",
       "    <tr>\n",
       "      <th>83</th>\n",
       "      <td>2017-10-01 06:15:30+02:00</td>\n",
       "      <td>2017-10-01 06:16:00+02:00</td>\n",
       "      <td>30.1</td>\n",
       "      <td>0.0</td>\n",
       "    </tr>\n",
       "  </tbody>\n",
       "</table>\n",
       "<p>84 rows × 4 columns</p>\n",
       "</div>"
      ],
      "text/plain": [
       "                   evt_start                         evt_stop  evt_info  \\\n",
       "0  2017-09-30 23:00:00+02:00 2017-09-30 23:19:59.900000+02:00    1200.0   \n",
       "1  2017-09-30 23:20:00+02:00 2017-09-30 23:20:29.900000+02:00      30.0   \n",
       "2  2017-09-30 23:20:30+02:00 2017-09-30 23:23:29.900000+02:00     180.0   \n",
       "3  2017-09-30 23:23:30+02:00 2017-09-30 23:23:59.900000+02:00      30.0   \n",
       "4  2017-09-30 23:24:00+02:00 2017-09-30 23:25:29.900000+02:00      90.0   \n",
       "..                       ...                              ...       ...   \n",
       "79 2017-10-01 06:04:30+02:00 2017-10-01 06:06:59.900000+02:00     150.0   \n",
       "80 2017-10-01 06:07:00+02:00 2017-10-01 06:07:59.900000+02:00      60.0   \n",
       "81 2017-10-01 06:08:00+02:00 2017-10-01 06:08:59.900000+02:00      60.0   \n",
       "82 2017-10-01 06:09:00+02:00 2017-10-01 06:15:29.900000+02:00     390.0   \n",
       "83 2017-10-01 06:15:30+02:00        2017-10-01 06:16:00+02:00      30.1   \n",
       "\n",
       "    evt_value  \n",
       "0         0.0  \n",
       "1         1.0  \n",
       "2         2.0  \n",
       "3         0.0  \n",
       "4         1.0  \n",
       "..        ...  \n",
       "79        2.0  \n",
       "80        0.0  \n",
       "81        1.0  \n",
       "82        2.0  \n",
       "83        0.0  \n",
       "\n",
       "[84 rows x 4 columns]"
      ]
     },
     "execution_count": 33,
     "metadata": {},
     "output_type": "execute_result"
    }
   ],
   "source": [
    "df_event"
   ]
  },
  {
   "cell_type": "code",
   "execution_count": 34,
   "metadata": {},
   "outputs": [],
   "source": [
    "resp_data, resp_resampled, resp_map, \\\n",
    "start_datetime, stop_datetime = \\\n",
    "case.import_irregular_window_evt(signal_type = 'respi_evt',\n",
    "                                 samp_freq=5,\n",
    "                                 get_true_stop_time=True)"
   ]
  },
  {
   "cell_type": "code",
   "execution_count": 35,
   "metadata": {},
   "outputs": [
    {
     "data": {
      "text/html": [
       "<div>\n",
       "<style scoped>\n",
       "    .dataframe tbody tr th:only-of-type {\n",
       "        vertical-align: middle;\n",
       "    }\n",
       "\n",
       "    .dataframe tbody tr th {\n",
       "        vertical-align: top;\n",
       "    }\n",
       "\n",
       "    .dataframe thead th {\n",
       "        text-align: right;\n",
       "    }\n",
       "</style>\n",
       "<table border=\"1\" class=\"dataframe\">\n",
       "  <thead>\n",
       "    <tr style=\"text-align: right;\">\n",
       "      <th></th>\n",
       "      <th>evt_start</th>\n",
       "      <th>evt_stop</th>\n",
       "      <th>evt_info</th>\n",
       "      <th>evt_value</th>\n",
       "    </tr>\n",
       "  </thead>\n",
       "  <tbody>\n",
       "    <tr>\n",
       "      <th>0</th>\n",
       "      <td>2017-09-30 23:20:53.919000+02:00</td>\n",
       "      <td>2017-09-30 23:21:04.718000+02:00</td>\n",
       "      <td>11</td>\n",
       "      <td>4</td>\n",
       "    </tr>\n",
       "    <tr>\n",
       "      <th>1</th>\n",
       "      <td>2017-09-30 23:22:36.417000+02:00</td>\n",
       "      <td>2017-09-30 23:23:03.798000+02:00</td>\n",
       "      <td>27</td>\n",
       "      <td>3</td>\n",
       "    </tr>\n",
       "    <tr>\n",
       "      <th>2</th>\n",
       "      <td>2017-09-30 23:23:20.564000+02:00</td>\n",
       "      <td>2017-09-30 23:23:30.088000+02:00</td>\n",
       "      <td>10</td>\n",
       "      <td>4</td>\n",
       "    </tr>\n",
       "    <tr>\n",
       "      <th>3</th>\n",
       "      <td>2017-09-30 23:25:38.441000+02:00</td>\n",
       "      <td>2017-09-30 23:26:07.409000+02:00</td>\n",
       "      <td>29</td>\n",
       "      <td>2</td>\n",
       "    </tr>\n",
       "    <tr>\n",
       "      <th>4</th>\n",
       "      <td>2017-09-30 23:26:12.072000+02:00</td>\n",
       "      <td>2017-09-30 23:26:56.715000+02:00</td>\n",
       "      <td>45</td>\n",
       "      <td>2</td>\n",
       "    </tr>\n",
       "    <tr>\n",
       "      <th>...</th>\n",
       "      <td>...</td>\n",
       "      <td>...</td>\n",
       "      <td>...</td>\n",
       "      <td>...</td>\n",
       "    </tr>\n",
       "    <tr>\n",
       "      <th>81</th>\n",
       "      <td>2017-10-01 05:43:48.937000+02:00</td>\n",
       "      <td>2017-10-01 05:46:37.985000+02:00</td>\n",
       "      <td>169</td>\n",
       "      <td>1</td>\n",
       "    </tr>\n",
       "    <tr>\n",
       "      <th>82</th>\n",
       "      <td>2017-10-01 05:46:38.381000+02:00</td>\n",
       "      <td>2017-10-01 05:46:55.048000+02:00</td>\n",
       "      <td>17</td>\n",
       "      <td>3</td>\n",
       "    </tr>\n",
       "    <tr>\n",
       "      <th>83</th>\n",
       "      <td>2017-10-01 05:47:17.270000+02:00</td>\n",
       "      <td>2017-10-01 06:06:20.921000+02:00</td>\n",
       "      <td>1144</td>\n",
       "      <td>2</td>\n",
       "    </tr>\n",
       "    <tr>\n",
       "      <th>84</th>\n",
       "      <td>2017-10-01 06:06:28.362000+02:00</td>\n",
       "      <td>2017-10-01 06:06:40.266000+02:00</td>\n",
       "      <td>12</td>\n",
       "      <td>4</td>\n",
       "    </tr>\n",
       "    <tr>\n",
       "      <th>85</th>\n",
       "      <td>2017-10-01 06:08:02.489000+02:00</td>\n",
       "      <td>2017-10-01 06:15:30.901000+02:00</td>\n",
       "      <td>448</td>\n",
       "      <td>2</td>\n",
       "    </tr>\n",
       "  </tbody>\n",
       "</table>\n",
       "<p>86 rows × 4 columns</p>\n",
       "</div>"
      ],
      "text/plain": [
       "                          evt_start                         evt_stop  \\\n",
       "0  2017-09-30 23:20:53.919000+02:00 2017-09-30 23:21:04.718000+02:00   \n",
       "1  2017-09-30 23:22:36.417000+02:00 2017-09-30 23:23:03.798000+02:00   \n",
       "2  2017-09-30 23:23:20.564000+02:00 2017-09-30 23:23:30.088000+02:00   \n",
       "3  2017-09-30 23:25:38.441000+02:00 2017-09-30 23:26:07.409000+02:00   \n",
       "4  2017-09-30 23:26:12.072000+02:00 2017-09-30 23:26:56.715000+02:00   \n",
       "..                              ...                              ...   \n",
       "81 2017-10-01 05:43:48.937000+02:00 2017-10-01 05:46:37.985000+02:00   \n",
       "82 2017-10-01 05:46:38.381000+02:00 2017-10-01 05:46:55.048000+02:00   \n",
       "83 2017-10-01 05:47:17.270000+02:00 2017-10-01 06:06:20.921000+02:00   \n",
       "84 2017-10-01 06:06:28.362000+02:00 2017-10-01 06:06:40.266000+02:00   \n",
       "85 2017-10-01 06:08:02.489000+02:00 2017-10-01 06:15:30.901000+02:00   \n",
       "\n",
       "    evt_info  evt_value  \n",
       "0         11          4  \n",
       "1         27          3  \n",
       "2         10          4  \n",
       "3         29          2  \n",
       "4         45          2  \n",
       "..       ...        ...  \n",
       "81       169          1  \n",
       "82        17          3  \n",
       "83      1144          2  \n",
       "84        12          4  \n",
       "85       448          2  \n",
       "\n",
       "[86 rows x 4 columns]"
      ]
     },
     "execution_count": 35,
     "metadata": {},
     "output_type": "execute_result"
    }
   ],
   "source": [
    "resp_data"
   ]
  },
  {
   "cell_type": "code",
   "execution_count": 36,
   "metadata": {},
   "outputs": [
    {
     "data": {
      "text/html": [
       "<div>\n",
       "<style scoped>\n",
       "    .dataframe tbody tr th:only-of-type {\n",
       "        vertical-align: middle;\n",
       "    }\n",
       "\n",
       "    .dataframe tbody tr th {\n",
       "        vertical-align: top;\n",
       "    }\n",
       "\n",
       "    .dataframe thead th {\n",
       "        text-align: right;\n",
       "    }\n",
       "</style>\n",
       "<table border=\"1\" class=\"dataframe\">\n",
       "  <thead>\n",
       "    <tr style=\"text-align: right;\">\n",
       "      <th></th>\n",
       "      <th>value</th>\n",
       "    </tr>\n",
       "  </thead>\n",
       "  <tbody>\n",
       "    <tr>\n",
       "      <th>2017-09-30 23:00:00+02:00</th>\n",
       "      <td>0</td>\n",
       "    </tr>\n",
       "    <tr>\n",
       "      <th>2017-09-30 23:00:00.200000+02:00</th>\n",
       "      <td>0</td>\n",
       "    </tr>\n",
       "    <tr>\n",
       "      <th>2017-09-30 23:00:00.400000+02:00</th>\n",
       "      <td>0</td>\n",
       "    </tr>\n",
       "    <tr>\n",
       "      <th>2017-09-30 23:00:00.600000+02:00</th>\n",
       "      <td>0</td>\n",
       "    </tr>\n",
       "    <tr>\n",
       "      <th>2017-09-30 23:00:00.800000+02:00</th>\n",
       "      <td>0</td>\n",
       "    </tr>\n",
       "    <tr>\n",
       "      <th>...</th>\n",
       "      <td>...</td>\n",
       "    </tr>\n",
       "    <tr>\n",
       "      <th>2017-10-01 06:15:29.800000+02:00</th>\n",
       "      <td>2</td>\n",
       "    </tr>\n",
       "    <tr>\n",
       "      <th>2017-10-01 06:15:30+02:00</th>\n",
       "      <td>2</td>\n",
       "    </tr>\n",
       "    <tr>\n",
       "      <th>2017-10-01 06:15:30.200000+02:00</th>\n",
       "      <td>2</td>\n",
       "    </tr>\n",
       "    <tr>\n",
       "      <th>2017-10-01 06:15:30.400000+02:00</th>\n",
       "      <td>2</td>\n",
       "    </tr>\n",
       "    <tr>\n",
       "      <th>2017-10-01 06:15:30.600000+02:00</th>\n",
       "      <td>2</td>\n",
       "    </tr>\n",
       "  </tbody>\n",
       "</table>\n",
       "<p>130654 rows × 1 columns</p>\n",
       "</div>"
      ],
      "text/plain": [
       "                                  value\n",
       "2017-09-30 23:00:00+02:00             0\n",
       "2017-09-30 23:00:00.200000+02:00      0\n",
       "2017-09-30 23:00:00.400000+02:00      0\n",
       "2017-09-30 23:00:00.600000+02:00      0\n",
       "2017-09-30 23:00:00.800000+02:00      0\n",
       "...                                 ...\n",
       "2017-10-01 06:15:29.800000+02:00      2\n",
       "2017-10-01 06:15:30+02:00             2\n",
       "2017-10-01 06:15:30.200000+02:00      2\n",
       "2017-10-01 06:15:30.400000+02:00      2\n",
       "2017-10-01 06:15:30.600000+02:00      2\n",
       "\n",
       "[130654 rows x 1 columns]"
      ]
     },
     "execution_count": 36,
     "metadata": {},
     "output_type": "execute_result"
    }
   ],
   "source": [
    "resp_resampled"
   ]
  },
  {
   "cell_type": "code",
   "execution_count": 37,
   "metadata": {},
   "outputs": [
    {
     "data": {
      "text/plain": [
       "{'FL': 1, 'RERA': 2, 'OH': 3, 'CH': 4, 'OA': 5, 'CA': 6}"
      ]
     },
     "execution_count": 37,
     "metadata": {},
     "output_type": "execute_result"
    }
   ],
   "source": [
    "resp_map"
   ]
  },
  {
   "cell_type": "code",
   "execution_count": 38,
   "metadata": {},
   "outputs": [
    {
     "name": "stdout",
     "output_type": "stream",
     "text": [
      "2017-09-30 23:00:00+02:00\n",
      "2017-10-01 06:19:24+02:00\n"
     ]
    }
   ],
   "source": [
    "print(start_datetime)\n",
    "print(stop_datetime)"
   ]
  },
  {
   "cell_type": "code",
   "execution_count": null,
   "metadata": {},
   "outputs": [],
   "source": []
  }
 ],
 "metadata": {
  "kernelspec": {
   "display_name": "Python 3",
   "language": "python",
   "name": "python3"
  },
  "language_info": {
   "codemirror_mode": {
    "name": "ipython",
    "version": 3
   },
   "file_extension": ".py",
   "mimetype": "text/x-python",
   "name": "python",
   "nbconvert_exporter": "python",
   "pygments_lexer": "ipython3",
   "version": "3.8.3"
  },
  "toc": {
   "base_numbering": 1,
   "nav_menu": {},
   "number_sections": true,
   "sideBar": true,
   "skip_h1_title": false,
   "title_cell": "Table of Contents",
   "title_sidebar": "Contents",
   "toc_cell": false,
   "toc_position": {},
   "toc_section_display": true,
   "toc_window_display": false
  }
 },
 "nbformat": 4,
 "nbformat_minor": 4
}
